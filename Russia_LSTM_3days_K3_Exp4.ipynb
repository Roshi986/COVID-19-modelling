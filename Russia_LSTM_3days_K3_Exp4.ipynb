{
 "cells": [
  {
   "cell_type": "code",
   "execution_count": 2,
   "metadata": {},
   "outputs": [],
   "source": [
    "import numpy as np\n",
    "import pandas as pd\n",
    "import warnings\n",
    "import os\n",
    "\n",
    "import tensorflow as tf\n",
    "from tensorflow.keras import Sequential\n",
    "from tensorflow.keras.layers import LSTM, Dense\n",
    "from tensorflow.keras.layers import Bidirectional\n",
    "from tensorflow.keras.optimizers import Adam\n",
    "from tensorflow.keras.layers import Flatten\n",
    "from tensorflow.compat.v1.keras.layers import TimeDistributed\n",
    "from tensorflow.keras.layers import Conv1D\n",
    "from tensorflow.keras.layers import MaxPooling1D\n",
    "from tensorflow.keras.layers import ConvLSTM2D\n",
    "\n",
    "warnings.simplefilter('ignore')\n",
    "\n",
    "countryName = 'Russia'\n",
    "\n",
    "nFeatures = 1\n",
    "\n",
    "nDaysMin = 3\n",
    "k = 3\n",
    "\n",
    "nValid = 10\n",
    "nTest = 10"
   ]
  },
  {
   "cell_type": "code",
   "execution_count": 3,
   "metadata": {},
   "outputs": [],
   "source": [
    "dataDir = os.path.join('C:\\\\Users\\\\AMC\\\\Desktop\\\\Roshi\\\\Data')\n",
    "confirmedFilename = 'confirmed_july.csv'\n",
    "deathsFilename = 'deaths_july.csv'\n",
    "recoveredFilename = 'recovered_july.csv'"
   ]
  },
  {
   "cell_type": "code",
   "execution_count": 4,
   "metadata": {},
   "outputs": [],
   "source": [
    "confirmed = pd.read_csv(confirmedFilename)"
   ]
  },
  {
   "cell_type": "code",
   "execution_count": 5,
   "metadata": {},
   "outputs": [
    {
     "data": {
      "text/html": [
       "<div>\n",
       "<style scoped>\n",
       "    .dataframe tbody tr th:only-of-type {\n",
       "        vertical-align: middle;\n",
       "    }\n",
       "\n",
       "    .dataframe tbody tr th {\n",
       "        vertical-align: top;\n",
       "    }\n",
       "\n",
       "    .dataframe thead th {\n",
       "        text-align: right;\n",
       "    }\n",
       "</style>\n",
       "<table border=\"1\" class=\"dataframe\">\n",
       "  <thead>\n",
       "    <tr style=\"text-align: right;\">\n",
       "      <th></th>\n",
       "      <th>Province/State</th>\n",
       "      <th>Country/Region</th>\n",
       "      <th>Lat</th>\n",
       "      <th>Long</th>\n",
       "      <th>1/22/20</th>\n",
       "      <th>1/23/20</th>\n",
       "      <th>1/24/20</th>\n",
       "      <th>1/25/20</th>\n",
       "      <th>1/26/20</th>\n",
       "      <th>1/27/20</th>\n",
       "      <th>...</th>\n",
       "      <th>7/19/20</th>\n",
       "      <th>7/20/20</th>\n",
       "      <th>7/21/20</th>\n",
       "      <th>7/22/20</th>\n",
       "      <th>7/23/20</th>\n",
       "      <th>7/24/20</th>\n",
       "      <th>7/25/20</th>\n",
       "      <th>7/26/20</th>\n",
       "      <th>7/27/20</th>\n",
       "      <th>7/28/20</th>\n",
       "    </tr>\n",
       "  </thead>\n",
       "  <tbody>\n",
       "    <tr>\n",
       "      <th>0</th>\n",
       "      <td>NaN</td>\n",
       "      <td>Afghanistan</td>\n",
       "      <td>33.93911</td>\n",
       "      <td>67.709953</td>\n",
       "      <td>0</td>\n",
       "      <td>0</td>\n",
       "      <td>0</td>\n",
       "      <td>0</td>\n",
       "      <td>0</td>\n",
       "      <td>0</td>\n",
       "      <td>...</td>\n",
       "      <td>35475</td>\n",
       "      <td>35526</td>\n",
       "      <td>35615</td>\n",
       "      <td>35727</td>\n",
       "      <td>35928</td>\n",
       "      <td>35981</td>\n",
       "      <td>36036</td>\n",
       "      <td>36157</td>\n",
       "      <td>36263</td>\n",
       "      <td>36368</td>\n",
       "    </tr>\n",
       "    <tr>\n",
       "      <th>1</th>\n",
       "      <td>NaN</td>\n",
       "      <td>Albania</td>\n",
       "      <td>41.15330</td>\n",
       "      <td>20.168300</td>\n",
       "      <td>0</td>\n",
       "      <td>0</td>\n",
       "      <td>0</td>\n",
       "      <td>0</td>\n",
       "      <td>0</td>\n",
       "      <td>0</td>\n",
       "      <td>...</td>\n",
       "      <td>4090</td>\n",
       "      <td>4171</td>\n",
       "      <td>4290</td>\n",
       "      <td>4358</td>\n",
       "      <td>4466</td>\n",
       "      <td>4570</td>\n",
       "      <td>4637</td>\n",
       "      <td>4763</td>\n",
       "      <td>4880</td>\n",
       "      <td>4997</td>\n",
       "    </tr>\n",
       "    <tr>\n",
       "      <th>2</th>\n",
       "      <td>NaN</td>\n",
       "      <td>Algeria</td>\n",
       "      <td>28.03390</td>\n",
       "      <td>1.659600</td>\n",
       "      <td>0</td>\n",
       "      <td>0</td>\n",
       "      <td>0</td>\n",
       "      <td>0</td>\n",
       "      <td>0</td>\n",
       "      <td>0</td>\n",
       "      <td>...</td>\n",
       "      <td>23084</td>\n",
       "      <td>23691</td>\n",
       "      <td>24278</td>\n",
       "      <td>24872</td>\n",
       "      <td>25484</td>\n",
       "      <td>26159</td>\n",
       "      <td>26764</td>\n",
       "      <td>27357</td>\n",
       "      <td>27973</td>\n",
       "      <td>28615</td>\n",
       "    </tr>\n",
       "    <tr>\n",
       "      <th>3</th>\n",
       "      <td>NaN</td>\n",
       "      <td>Andorra</td>\n",
       "      <td>42.50630</td>\n",
       "      <td>1.521800</td>\n",
       "      <td>0</td>\n",
       "      <td>0</td>\n",
       "      <td>0</td>\n",
       "      <td>0</td>\n",
       "      <td>0</td>\n",
       "      <td>0</td>\n",
       "      <td>...</td>\n",
       "      <td>880</td>\n",
       "      <td>884</td>\n",
       "      <td>884</td>\n",
       "      <td>889</td>\n",
       "      <td>889</td>\n",
       "      <td>897</td>\n",
       "      <td>897</td>\n",
       "      <td>897</td>\n",
       "      <td>907</td>\n",
       "      <td>907</td>\n",
       "    </tr>\n",
       "    <tr>\n",
       "      <th>4</th>\n",
       "      <td>NaN</td>\n",
       "      <td>Angola</td>\n",
       "      <td>-11.20270</td>\n",
       "      <td>17.873900</td>\n",
       "      <td>0</td>\n",
       "      <td>0</td>\n",
       "      <td>0</td>\n",
       "      <td>0</td>\n",
       "      <td>0</td>\n",
       "      <td>0</td>\n",
       "      <td>...</td>\n",
       "      <td>705</td>\n",
       "      <td>749</td>\n",
       "      <td>779</td>\n",
       "      <td>812</td>\n",
       "      <td>851</td>\n",
       "      <td>880</td>\n",
       "      <td>916</td>\n",
       "      <td>932</td>\n",
       "      <td>950</td>\n",
       "      <td>1000</td>\n",
       "    </tr>\n",
       "  </tbody>\n",
       "</table>\n",
       "<p>5 rows × 193 columns</p>\n",
       "</div>"
      ],
      "text/plain": [
       "  Province/State Country/Region       Lat       Long  1/22/20  1/23/20  \\\n",
       "0            NaN    Afghanistan  33.93911  67.709953        0        0   \n",
       "1            NaN        Albania  41.15330  20.168300        0        0   \n",
       "2            NaN        Algeria  28.03390   1.659600        0        0   \n",
       "3            NaN        Andorra  42.50630   1.521800        0        0   \n",
       "4            NaN         Angola -11.20270  17.873900        0        0   \n",
       "\n",
       "   1/24/20  1/25/20  1/26/20  1/27/20  ...  7/19/20  7/20/20  7/21/20  \\\n",
       "0        0        0        0        0  ...    35475    35526    35615   \n",
       "1        0        0        0        0  ...     4090     4171     4290   \n",
       "2        0        0        0        0  ...    23084    23691    24278   \n",
       "3        0        0        0        0  ...      880      884      884   \n",
       "4        0        0        0        0  ...      705      749      779   \n",
       "\n",
       "   7/22/20  7/23/20  7/24/20  7/25/20  7/26/20  7/27/20  7/28/20  \n",
       "0    35727    35928    35981    36036    36157    36263    36368  \n",
       "1     4358     4466     4570     4637     4763     4880     4997  \n",
       "2    24872    25484    26159    26764    27357    27973    28615  \n",
       "3      889      889      897      897      897      907      907  \n",
       "4      812      851      880      916      932      950     1000  \n",
       "\n",
       "[5 rows x 193 columns]"
      ]
     },
     "execution_count": 5,
     "metadata": {},
     "output_type": "execute_result"
    }
   ],
   "source": [
    "confirmed.head()\n"
   ]
  },
  {
   "cell_type": "code",
   "execution_count": null,
   "metadata": {},
   "outputs": [],
   "source": []
  },
  {
   "cell_type": "code",
   "execution_count": 6,
   "metadata": {},
   "outputs": [],
   "source": [
    "# split a univariate sequence into samples\n",
    "def split_sequence(sequence, n_steps, k):\n",
    "    X, y = list(), list()\n",
    "    for i in range(len(sequence)):\n",
    "        # find the end of this pattern\n",
    "        end_ix = i + n_steps\n",
    "        # check if we are beyond the sequence\n",
    "        if end_ix + k >= len(sequence):\n",
    "            break\n",
    "        # gather input and output parts of the pattern\n",
    "        seq_x, seq_y = sequence[i:end_ix], sequence[end_ix:end_ix+k]\n",
    "        X.append(seq_x)\n",
    "        y.append(seq_y)\n",
    "    return np.array(X), np.array(y)"
   ]
  },
  {
   "cell_type": "code",
   "execution_count": 7,
   "metadata": {},
   "outputs": [],
   "source": [
    "def meanAbsolutePercentageError(yTrueList, yPredList):\n",
    "    absErrorList = [np.abs(yTrue - yPred) for yTrue, yPred in zip(yTrueList, yPredList)]\n",
    "    absPcErrorList = [absError/yTrue for absError, yTrue in zip(absErrorList, yTrueList)]\n",
    "    MAPE = 100*np.mean(absPcErrorList)\n",
    "    return MAPE\n",
    "\n",
    "def meanAbsolutePercentageError_kDay(yTrueListList, yPredListList):\n",
    "    # Store true and predictions for day 1 in a list, day 2 in a list and so on\n",
    "    # Keep each list of these lists in a respective dict with key as day #\n",
    "    yTrueForDayK = {}\n",
    "    yPredForDayK = {}\n",
    "    for i in range(len(yTrueListList[0])):\n",
    "        yTrueForDayK[i] = []\n",
    "        yPredForDayK[i] = []\n",
    "    for yTrueList, yPredList in zip(yTrueListList, yPredListList):\n",
    "        for i in range(len(yTrueList)):\n",
    "            yTrueForDayK[i].append(yTrueList[i])\n",
    "            yPredForDayK[i].append(yPredList[i])\n",
    "            \n",
    "    # Get MAPE for each day in a list\n",
    "    MAPEList = []\n",
    "    for i in yTrueForDayK.keys():\n",
    "        MAPEList.append(meanAbsolutePercentageError(yTrueForDayK[i], yPredForDayK[i]))\n",
    "    return np.mean(MAPEList)\n",
    "\n",
    "def meanForecastError(yTrueList, yPredList):\n",
    "    forecastErrors = [yTrue - yPred for yTrue, yPred in zip(yTrueList, yPredList)]\n",
    "    MFE = np.mean(forecastErrors)\n",
    "    return MFE\n",
    "\n",
    "def meanAbsoluteError(yTrueList, yPredList):\n",
    "    absErrorList = [np.abs(yTrue - yPred) for yTrue, yPred in zip(yTrueList, yPredList)]\n",
    "    return np.mean(absErrorList)\n",
    "\n",
    "def meanSquaredError(yTrueList, yPredList):\n",
    "    sqErrorList = [np.square(yTrue - yPred) for yTrue, yPred in zip(yTrueList, yPredList)]\n",
    "    return np.mean(sqErrorList)\n",
    "\n",
    "def rootMeanSquaredError(yTrueList, yPredList):\n",
    "    return np.sqrt(meanSquaredError(yTrueList, yPredList))\n",
    "def medianSymmetricAccuracy(yTrueList, yPredList):\n",
    "    '''https://helda.helsinki.fi//bitstream/handle/10138/312261/2017SW001669.pdf?sequence=1'''\n",
    "    logAccRatioList = [np.abs(np.log(yPred/yTrue)) for yTrue, yPred in zip(yTrueList, yPredList)]\n",
    "    MdSA = 100*(np.exp(np.median(logAccRatioList))-1)\n",
    "    return MdSA\n",
    "\n",
    "def medianSymmetricAccuracy_kDay(yTrueListList, yPredListList):\n",
    "    # Store true and predictions for day 1 in a list, day 2 in a list and so on\n",
    "    # Keep each list of these lists in a respective dict with key as day #\n",
    "    yTrueForDayK = {}\n",
    "    yPredForDayK = {}\n",
    "    for i in range(len(yTrueListList[0])):\n",
    "        yTrueForDayK[i] = []\n",
    "        yPredForDayK[i] = []\n",
    "    for yTrueList, yPredList in zip(yTrueListList, yPredListList):\n",
    "        for i in range(len(yTrueList)):\n",
    "            yTrueForDayK[i].append(yTrueList[i])\n",
    "            yPredForDayK[i].append(yPredList[i])\n",
    "    # Get MdSA for each day in a list\n",
    "    MdSAList = []\n",
    "    for i in yTrueForDayK.keys():\n",
    "        MdSAList.append(medianSymmetricAccuracy(yTrueForDayK[i], yPredForDayK[i]))\n",
    "    return(np.mean(MdSAList))"
   ]
  },
  {
   "cell_type": "code",
   "execution_count": 8,
   "metadata": {},
   "outputs": [],
   "source": [
    "# Function to get all three frames for a given country\n",
    "def getCountryCovidFrDict(countryName):\n",
    "    countryCovidFrDict = {}\n",
    "    for key in covidFrDict.keys():\n",
    "        dataFr = covidFrDict[key]\n",
    "        countryCovidFrDict[key] = dataFr[dataFr['Country/Region'] == countryName]\n",
    "    return countryCovidFrDict"
   ]
  },
  {
   "cell_type": "code",
   "execution_count": 9,
   "metadata": {},
   "outputs": [
    {
     "name": "stdout",
     "output_type": "stream",
     "text": [
      "Total size of data points for LSTM: 128\n",
      "Size of training set: 108\n",
      "Size of validation set: 10\n",
      "Size of test set: 10\n"
     ]
    }
   ],
   "source": [
    "# Load all 3 csv files\n",
    "covidFrDict = {}\n",
    "covidFrDict['confirmed'] = pd.read_csv(confirmedFilename)\n",
    "covidFrDict['deaths'] = pd.read_csv(deathsFilename)\n",
    "covidFrDict['recovered'] = pd.read_csv(recoveredFilename)\n",
    "\n",
    "countryCovidFrDict = getCountryCovidFrDict(countryName)\n",
    "\n",
    "# date list\n",
    "colNamesList = list(countryCovidFrDict['confirmed'])\n",
    "dateList = [colName for colName in colNamesList if '/20' in colName]\n",
    "dataList = [countryCovidFrDict['confirmed'][date].iloc[0] for date in dateList]\n",
    "dataDict = dict(zip(dateList, dataList))\n",
    "\n",
    "# Only take time series from where the cases were >100\n",
    "daysSince = 100\n",
    "nCasesGreaterDaysSinceList = []\n",
    "datesGreaterDaysSinceList = []\n",
    "\n",
    "for key in dataDict.keys():\n",
    "    if dataDict[key] > daysSince:\n",
    "        datesGreaterDaysSinceList.append(key)\n",
    "        nCasesGreaterDaysSinceList.append(dataDict[key])\n",
    "        \n",
    "XList, yList = split_sequence(nCasesGreaterDaysSinceList, nDaysMin, k)\n",
    "\n",
    "XTrainList = XList[0:len(XList)-(nValid + nTest)]\n",
    "XValidList = XList[len(XList)-(nValid+nTest):len(XList)-(nTest)]\n",
    "XTestList = XList[-nTest:]\n",
    "\n",
    "yTrain = yList[0:len(XList)-(nValid + nTest)]\n",
    "yValid = yList[len(XList)-(nValid+nTest):len(XList)-(nTest)]\n",
    "yTest = yList[-nTest:]\n",
    "print('Total size of data points for LSTM:', len(yList))\n",
    "print('Size of training set:', len(yTrain))\n",
    "print('Size of validation set:', len(yValid))\n",
    "print('Size of test set:', len(yTest))\n",
    "\n",
    "# Convert the list to matrix\n",
    "XTrain = XTrainList.reshape((XTrainList.shape[0], XTrainList.shape[1], nFeatures))\n",
    "XValid = XValidList.reshape((XValidList.shape[0], XValidList.shape[1], nFeatures))\n",
    "XTest = XTestList.reshape((XTestList.shape[0], XTestList.shape[1], nFeatures))"
   ]
  },
  {
   "cell_type": "markdown",
   "metadata": {},
   "source": [
    "# Vanilla LSTM"
   ]
  },
  {
   "cell_type": "code",
   "execution_count": 10,
   "metadata": {},
   "outputs": [
    {
     "name": "stdout",
     "output_type": "stream",
     "text": [
      "0 99.94567522641144\n",
      "Updating best MAPE to 99.94567522641144...\n",
      "Updating best seed to 0...\n",
      "1 0.6999863978355488\n",
      "Updating best MAPE to 0.6999863978355488...\n",
      "Updating best seed to 1...\n",
      "2 2.0885976105061377\n",
      "3 1.1888076033081725\n",
      "4 3.3464136162999054\n",
      "5 1.4639420510622594\n",
      "6 1.4606125564272088\n",
      "7 5.189656749994882\n",
      "8 3.2498393762017694\n",
      "9 1.0120792748659544\n",
      "10 0.6985880021148162\n",
      "Updating best MAPE to 0.6985880021148162...\n",
      "Updating best seed to 10...\n",
      "11 1.7598515558583872\n",
      "12 9.409306613011834\n",
      "13 1.9471510563863725\n",
      "14 1.0092884784363518\n",
      "15 99.95629109704305\n",
      "16 1.5806172160953829\n",
      "17 99.94604295485351\n",
      "18 2.0390025365670126\n",
      "19 0.4953066279373198\n",
      "Updating best MAPE to 0.4953066279373198...\n",
      "Updating best seed to 19...\n",
      "20 2.2707247273635223\n",
      "21 1.733320495406332\n",
      "22 99.9455654805724\n",
      "23 0.9896922203016771\n",
      "24 0.19206214053207668\n",
      "Updating best MAPE to 0.19206214053207668...\n",
      "Updating best seed to 24...\n",
      "25 2.476758402025697\n",
      "26 2.7949110839138314\n",
      "27 99.94558940268013\n",
      "28 3.2499422122956276\n",
      "29 1.5405796754312941\n",
      "30 2.81146998240523\n",
      "31 1.1357732789939956\n",
      "32 4.061730670701074\n",
      "33 1.9870494627163768\n",
      "34 3.826845503122962\n",
      "35 6.371267939935902\n",
      "36 1.0998019298587487\n",
      "37 0.8628250735377918\n",
      "38 3.6484578278187647\n",
      "39 3.9549979268756505\n",
      "40 99.94568972760432\n",
      "41 99.94555344344117\n",
      "42 0.9237019357907587\n",
      "43 0.3545675851816803\n",
      "44 99.94543863845674\n",
      "45 0.4807821195460124\n",
      "46 1.1407445705210277\n",
      "47 2.0691063982694393\n",
      "48 2.8319814002113546\n",
      "49 0.5800401275319903\n",
      "50 1.4327746244859174\n",
      "51 3.1305269234466224\n",
      "52 1.3581215781236473\n",
      "53 2.8821469515612725\n",
      "54 8.000207320013246\n",
      "55 99.95099643300256\n",
      "56 2.807406784697291\n",
      "57 4.410091594210593\n",
      "58 1.63080061762739\n",
      "59 1.7493488001527389\n",
      "60 1.1564016072196512\n",
      "61 99.94576000196561\n",
      "62 1.525368273337204\n",
      "63 0.22795832160246357\n",
      "64 4.074333790037603\n",
      "65 1.2910791186069035\n",
      "66 1.2612319166277028\n",
      "67 99.946115600293\n",
      "68 2.274165065247637\n",
      "69 1.8936928247430682\n",
      "70 3.1812724133171852\n",
      "71 3.0087000486868107\n",
      "72 0.08117682115037222\n",
      "Updating best MAPE to 0.08117682115037222...\n",
      "Updating best seed to 72...\n",
      "73 1.545716299316152\n",
      "74 1.3311064973519482\n",
      "75 22.20200292837733\n",
      "76 99.95011535134437\n",
      "77 2.761704603198652\n",
      "78 3.087870945808877\n",
      "79 2.2883713602841316\n",
      "80 3.214243776496186\n",
      "81 2.5790696636016612\n",
      "82 2.7675596588094415\n",
      "83 2.712546852421635\n",
      "84 5.431489954430089\n",
      "85 1.7828804630282213\n",
      "86 3.430772078677041\n",
      "87 99.97414274169564\n",
      "88 99.94466038804956\n",
      "89 3.336093374763197\n",
      "90 5.129972111896637\n",
      "91 2.5751981347895554\n",
      "92 2.1777198890079674\n",
      "93 99.94564977852974\n",
      "94 2.8969097968009927\n",
      "95 4.640922080952429\n",
      "96 1.1326175265875928\n",
      "97 0.08192947404295993\n",
      "98 3.908486863800384\n",
      "99 0.4130705580457931\n",
      "Training model with best seed...\n",
      "Test MAPE: 0.028140148671176323\n",
      "Test MdSA: 0.028347953081753197\n"
     ]
    }
   ],
   "source": [
    "nNeurons = 100 # number of neurones\n",
    "nFeatures = 1  # number of features\n",
    "\n",
    "bestValidMAPE = 100 # 100 validation for best MAPE\n",
    "bestSeed = -1\n",
    "for seed in range(100):\n",
    "    tf.random.set_seed(seed=seed)\n",
    "    \n",
    "    # define model\n",
    "    model = Sequential()\n",
    "    model.add(LSTM(nNeurons, activation='relu', input_shape=(nDaysMin, nFeatures)))\n",
    "    model.add(Dense(1))\n",
    "    opt = Adam(learning_rate=0.1)\n",
    "    model.compile(optimizer=opt, loss='mse')\n",
    "\n",
    "    # fit model\n",
    "    model.fit(XTrain, yTrain[:,0], epochs=1000, verbose=0)\n",
    "\n",
    "    yPredListList = []\n",
    "    for day in range(nTest):\n",
    "        yPredListList.append([])\n",
    "    XValidNew = XValid.copy()\n",
    "    for day in range(k):\n",
    "        yPred = model.predict(np.float32(XValidNew), verbose=0)\n",
    "        for i in range(len(yPred)):\n",
    "            yPredListList[i].append(yPred[i][0])\n",
    "        XValidNew = np.delete(XValidNew, 0, axis=1)\n",
    "        yPred = np.expand_dims(yPred, 2)\n",
    "        XValidNew = np.append(XValidNew, yPred, axis=1)\n",
    "\n",
    "#     for yTrue, yPred in zip(yTest, yPredList):\n",
    "#         print(yTrue, yPred)\n",
    "    MAPE = meanAbsolutePercentageError_kDay(yValid, yPredListList)\n",
    "    print(seed, MAPE)\n",
    "    if MAPE < bestValidMAPE:\n",
    "        print('Updating best MAPE to {}...'.format(MAPE))\n",
    "        bestValidMAPE = MAPE\n",
    "        print('Updating best seed to {}...'.format(seed))\n",
    "        bestSeed = seed\n",
    "\n",
    "# define model\n",
    "print('Training model with best seed...')\n",
    "tf.random.set_seed(seed=bestSeed)\n",
    "model = Sequential()\n",
    "model.add(LSTM(nNeurons, activation='relu', input_shape=(nDaysMin, nFeatures)))\n",
    "model.add(Dense(1))\n",
    "opt = Adam(learning_rate=0.1)\n",
    "model.compile(optimizer=opt, loss='mse')\n",
    "\n",
    "# fit model\n",
    "model.fit(XTrain, yTrain[:,0], epochs=1000, verbose=0)\n",
    "\n",
    "yPredListList = []\n",
    "for day in range(nTest):\n",
    "    yPredListList.append([])\n",
    "XTestNew = XTest.copy()\n",
    "for day in range(k):\n",
    "    yPred = model.predict(np.float32(XTestNew), verbose=0)\n",
    "    for i in range(len(yPred)):\n",
    "        yPredListList[i].append(yPred[i][0])\n",
    "    XTestNew = np.delete(XTestNew, 0, axis=1)\n",
    "    yPred = np.expand_dims(yPred, 2)\n",
    "    XTestNew = np.append(XTestNew, yPred, axis=1)\n",
    "MAPE = meanAbsolutePercentageError_kDay(yTest, yPredListList)\n",
    "print('Test MAPE:', MAPE)\n",
    "MdSA = medianSymmetricAccuracy_kDay(yTest, yPredListList)\n",
    "print('Test MdSA:', MdSA)\n",
    "yPredVanilla = yPredListList    "
   ]
  },
  {
   "cell_type": "code",
   "execution_count": 11,
   "metadata": {},
   "outputs": [
    {
     "name": "stdout",
     "output_type": "stream",
     "text": [
      "Model: \"sequential_100\"\n",
      "_________________________________________________________________\n",
      "Layer (type)                 Output Shape              Param #   \n",
      "=================================================================\n",
      "lstm_100 (LSTM)              (None, 100)               40800     \n",
      "_________________________________________________________________\n",
      "dense_100 (Dense)            (None, 1)                 101       \n",
      "=================================================================\n",
      "Total params: 40,901\n",
      "Trainable params: 40,901\n",
      "Non-trainable params: 0\n",
      "_________________________________________________________________\n"
     ]
    }
   ],
   "source": [
    "model.summary()"
   ]
  },
  {
   "cell_type": "markdown",
   "metadata": {},
   "source": [
    "# Stacked LSTM"
   ]
  },
  {
   "cell_type": "code",
   "execution_count": 11,
   "metadata": {},
   "outputs": [
    {
     "name": "stdout",
     "output_type": "stream",
     "text": [
      "0 3.4757039564977776\n",
      "Updating best MAPE to 3.4757039564977776...\n",
      "Updating best seed to 0...\n",
      "1 1.230272018286347\n",
      "Updating best MAPE to 1.230272018286347...\n",
      "Updating best seed to 1...\n",
      "2 0.12607448429220905\n",
      "Updating best MAPE to 0.12607448429220905...\n",
      "Updating best seed to 2...\n",
      "3 4.991200502188097\n",
      "4 1.9998392712407231\n",
      "5 0.9747958732800942\n",
      "6 2.573919319576539\n",
      "7 62.217850320416346\n",
      "8 63.83416492475585\n",
      "9 0.8502744442873901\n",
      "10 3.773321255262642\n",
      "11 63.74451561729696\n",
      "12 4.734590497053769\n",
      "13 2.233871302801429\n",
      "14 0.3043902982552888\n",
      "15 1.254381942508388\n",
      "16 99.96259320726058\n",
      "17 2.3398527442982138\n",
      "18 3.539904005889552\n",
      "19 0.8454025859958669\n",
      "20 0.07961972902110209\n",
      "Updating best MAPE to 0.07961972902110209...\n",
      "Updating best seed to 20...\n",
      "21 62.47709537833013\n",
      "22 64.04374409290506\n",
      "23 1.4756239284612904\n",
      "24 0.05315824940477798\n",
      "Updating best MAPE to 0.05315824940477798...\n",
      "Updating best seed to 24...\n",
      "25 64.08951224132535\n",
      "26 99.96675407328475\n",
      "27 2.8361268487074613\n",
      "28 5.483019448897976\n",
      "29 63.2299085107611\n",
      "30 2.598913519713784\n",
      "31 2.2510993789241787\n",
      "32 62.00189823514669\n",
      "33 0.8486843538211505\n",
      "34 0.20899685518958502\n",
      "35 2.6479254295798005\n",
      "36 65.32848523277414\n",
      "37 4.461797293625078\n",
      "38 9.6451757679546\n",
      "39 4.153260931839378\n",
      "40 62.25982717824409\n",
      "41 63.869355545541204\n",
      "42 0.44760092140540353\n",
      "43 61.76846985831\n",
      "44 62.51631923951876\n",
      "45 6.72128030073479\n",
      "46 3.3335895908495683\n",
      "47 64.61319507431392\n",
      "48 2.3635123968800547\n",
      "49 4.991316944281174\n",
      "50 0.7061349249153149\n",
      "51 62.735556244377186\n",
      "52 4.901381851893377\n",
      "53 62.366511325625645\n",
      "54 4.8038997672594475\n",
      "55 62.57160456603608\n",
      "56 3.02340355482587\n",
      "57 63.59855092948396\n",
      "58 64.51226061820199\n",
      "59 2.4249524608715194\n",
      "60 61.1525495993987\n",
      "61 2.508218775193929\n",
      "62 64.17297256984891\n",
      "63 5.538130542587779\n",
      "64 61.730626199701305\n",
      "65 1.9096041023832926\n",
      "66 63.47186296347371\n",
      "67 0.4002319070323443\n",
      "68 0.22977195006344928\n",
      "69 62.91456921411332\n",
      "70 2.551280803875178\n",
      "71 93.39035822222661\n",
      "72 1.518004931647889\n",
      "73 3.0313413455351497\n",
      "74 11.502164821877493\n",
      "75 61.230041674809094\n",
      "76 63.35640171869297\n",
      "77 62.62233255351922\n",
      "78 62.34823436195862\n",
      "79 3.6127825797190667\n",
      "80 3.6529665437007672\n",
      "81 63.45538210208511\n",
      "82 99.9487395765593\n",
      "83 3.8617013996320773\n",
      "84 0.1619236876100697\n",
      "85 1.788726732981609\n",
      "86 2.742585019065969\n",
      "87 1.3112113023990712\n",
      "88 61.94434938696281\n",
      "89 3.436603935027749\n",
      "90 61.63145538618809\n",
      "91 3.6990614064480236\n",
      "92 63.39672962479039\n",
      "93 63.471144522562334\n",
      "94 1.0854039977992516\n",
      "95 63.63960160445006\n",
      "96 2.8276457372355313\n",
      "97 2.5308525249148457\n",
      "98 62.164304832732604\n",
      "99 1.8709467296135898\n",
      "Training model with best seed...\n",
      "Test MAPE: 0.3194351173298079\n",
      "Test MdSA: 0.3515374629429709\n"
     ]
    }
   ],
   "source": [
    "nNeurons = 50\n",
    "nFeatures = 1\n",
    "\n",
    "bestValidMAPE = 100\n",
    "bestSeed = -1\n",
    "for seed in range(100):\n",
    "    tf.random.set_seed(seed=seed)\n",
    "    model = Sequential()\n",
    "    model.add(LSTM(nNeurons, activation='relu', return_sequences=True, input_shape=(nDaysMin, nFeatures)))\n",
    "    model.add(LSTM(nNeurons, activation='relu'))\n",
    "    model.add(Dense(1))\n",
    "    opt = Adam(learning_rate=0.1)\n",
    "    model.compile(optimizer=opt, loss='mse')\n",
    "\n",
    "    # fit model\n",
    "    model.fit(XTrain, yTrain[:,0], epochs=1000, verbose=0)\n",
    "\n",
    "    yPredListList = []\n",
    "    for day in range(nTest):\n",
    "        yPredListList.append([])\n",
    "    XValidNew = XValid.copy()\n",
    "    for day in range(k):\n",
    "        yPred = model.predict(np.float32(XValidNew), verbose=0)\n",
    "        for i in range(len(yPred)):\n",
    "            yPredListList[i].append(yPred[i][0])\n",
    "        XValidNew = np.delete(XValidNew, 0, axis=1)\n",
    "        yPred = np.expand_dims(yPred, 2)\n",
    "        XValidNew = np.append(XValidNew, yPred, axis=1)\n",
    "\n",
    "#     for yTrue, yPred in zip(yTest, yPredList):\n",
    "#         print(yTrue, yPred)\n",
    "\n",
    "    MAPE = meanAbsolutePercentageError_kDay(yValid, yPredListList)\n",
    "    print(seed, MAPE)\n",
    "    if MAPE < bestValidMAPE:\n",
    "        print('Updating best MAPE to {}...'.format(MAPE))\n",
    "        bestValidMAPE = MAPE\n",
    "        print('Updating best seed to {}...'.format(seed))\n",
    "        bestSeed = seed\n",
    "        \n",
    "# define model\n",
    "print('Training model with best seed...')\n",
    "tf.random.set_seed(seed=bestSeed)\n",
    "model = Sequential()\n",
    "model.add(LSTM(nNeurons, activation='relu', return_sequences=True, input_shape=(nDaysMin, nFeatures)))\n",
    "model.add(LSTM(nNeurons, activation='relu'))\n",
    "model.add(Dense(1))\n",
    "opt = Adam(learning_rate=0.1)\n",
    "model.compile(optimizer=opt, loss='mse')\n",
    "\n",
    "# fit model\n",
    "model.fit(XTrain, yTrain[:,0], epochs=1000, verbose=0)\n",
    "\n",
    "yPredListList = []\n",
    "for day in range(nTest):\n",
    "    yPredListList.append([])\n",
    "XTestNew = XTest.copy()\n",
    "for day in range(k):\n",
    "    yPred = model.predict(np.float32(XTestNew), verbose=0)\n",
    "    for i in range(len(yPred)):\n",
    "        yPredListList[i].append(yPred[i][0])\n",
    "    XTestNew = np.delete(XTestNew, 0, axis=1)\n",
    "    yPred = np.expand_dims(yPred, 2)\n",
    "    XTestNew = np.append(XTestNew, yPred, axis=1)\n",
    "    \n",
    "MAPE = meanAbsolutePercentageError_kDay(yTest, yPredListList)\n",
    "print('Test MAPE:', MAPE)\n",
    "MdSA = medianSymmetricAccuracy_kDay(yTest, yPredListList)\n",
    "print('Test MdSA:', MdSA)\n",
    "yPredStacked = yPredListList"
   ]
  },
  {
   "cell_type": "code",
   "execution_count": 13,
   "metadata": {},
   "outputs": [
    {
     "data": {
      "text/plain": [
       "[[752129.2, 759111.6, 766155.1],\n",
       " [758603.1, 765644.8, 772747.7],\n",
       " [765052.8, 772153.6, 779315.6],\n",
       " [771329.9, 778489.1, 785708.9],\n",
       " [777487.25, 784703.4, 791979.4],\n",
       " [783449.5, 790721.2, 798051.9],\n",
       " [789335.3, 796661.2, 804045.9],\n",
       " [795240.1, 802619.94, 810058.8],\n",
       " [801125.25, 808558.94, 816051.9],\n",
       " [806959.94, 814447.25, 821993.7]]"
      ]
     },
     "execution_count": 13,
     "metadata": {},
     "output_type": "execute_result"
    }
   ],
   "source": [
    "yPredStacked"
   ]
  },
  {
   "cell_type": "code",
   "execution_count": 14,
   "metadata": {},
   "outputs": [
    {
     "name": "stdout",
     "output_type": "stream",
     "text": [
      "Model: \"sequential_201\"\n",
      "_________________________________________________________________\n",
      "Layer (type)                 Output Shape              Param #   \n",
      "=================================================================\n",
      "lstm_301 (LSTM)              (None, 3, 50)             10400     \n",
      "_________________________________________________________________\n",
      "lstm_302 (LSTM)              (None, 50)                20200     \n",
      "_________________________________________________________________\n",
      "dense_201 (Dense)            (None, 1)                 51        \n",
      "=================================================================\n",
      "Total params: 30,651\n",
      "Trainable params: 30,651\n",
      "Non-trainable params: 0\n",
      "_________________________________________________________________\n"
     ]
    }
   ],
   "source": [
    "model.summary()"
   ]
  },
  {
   "cell_type": "markdown",
   "metadata": {},
   "source": [
    "# Bi-directional LSTM"
   ]
  },
  {
   "cell_type": "code",
   "execution_count": 12,
   "metadata": {},
   "outputs": [
    {
     "name": "stdout",
     "output_type": "stream",
     "text": [
      "0 4.554404774354848\n",
      "Updating best MAPE to 4.554404774354848...\n",
      "Updating best seed to 0...\n",
      "1 12.589938416317684\n",
      "2 3.6087722102772815\n",
      "Updating best MAPE to 3.6087722102772815...\n",
      "Updating best seed to 2...\n",
      "3 3.1814083342629007\n",
      "Updating best MAPE to 3.1814083342629007...\n",
      "Updating best seed to 3...\n",
      "4 3.7525691259033764\n",
      "5 1.517664749861839\n",
      "Updating best MAPE to 1.517664749861839...\n",
      "Updating best seed to 5...\n",
      "6 1.8128492019615727\n",
      "7 0.7395754453021611\n",
      "Updating best MAPE to 0.7395754453021611...\n",
      "Updating best seed to 7...\n",
      "8 2.5975023416799297\n",
      "9 1.3738528622271862\n",
      "10 0.6055808264632921\n",
      "Updating best MAPE to 0.6055808264632921...\n",
      "Updating best seed to 10...\n",
      "11 1.338485043237843\n",
      "12 2.341338272187024\n",
      "13 1.5975635784238904\n",
      "14 1.1299437653703184\n",
      "15 2.4868375367763975\n",
      "16 3.095224577868096\n",
      "17 4.494678701243345\n",
      "18 1.4118469786227614\n",
      "19 3.0398872931409144\n",
      "20 0.8952836020056836\n",
      "21 0.1503256271056775\n",
      "Updating best MAPE to 0.1503256271056775...\n",
      "Updating best seed to 21...\n",
      "22 3.0829994280335575\n",
      "23 99.94844407090466\n",
      "24 0.636779510130682\n",
      "25 2.403889664999182\n",
      "26 2.4366056432346763\n",
      "27 2.1594216555732824\n",
      "28 1.9055591700725862\n",
      "29 1.3450494332305232\n",
      "30 2.723759443397331\n",
      "31 2.318193531730183\n",
      "32 4.119248993302839\n",
      "33 0.39824705828948126\n",
      "34 1.3061846927959628\n",
      "35 2.629222568029304\n",
      "36 0.3152338708994575\n",
      "37 1.7130771222534193\n",
      "38 3.649438951985786\n",
      "39 2.06304885581413\n",
      "40 1.1502179318888173\n",
      "41 5.719813191257647\n",
      "42 0.9788822768266273\n",
      "43 2.1348410521047145\n",
      "44 0.6917204627341945\n",
      "45 1.495324246773013\n",
      "46 2.3685765559837186\n",
      "47 0.7036898657103147\n",
      "48 1.1286013483718662\n",
      "49 0.052937126104701526\n",
      "Updating best MAPE to 0.052937126104701526...\n",
      "Updating best seed to 49...\n",
      "50 1.4182563049262924\n",
      "51 2.670048316075645\n",
      "52 7.017463715286939\n",
      "53 4.210428185699176\n",
      "54 99.94577137553308\n",
      "55 3.865404726109722\n",
      "56 2.8170529958719204\n",
      "57 2.818098159903798\n",
      "58 1.7842344135214756\n",
      "59 2.3898254939149255\n",
      "60 6.043978110828276\n",
      "61 1.581630143047849\n",
      "62 1.2632663945070386\n",
      "63 1.8207531628495695\n",
      "64 3.620813994983056\n",
      "65 2.366560148532251\n",
      "66 3.9738990724321233\n",
      "67 1.2700352274615012\n",
      "68 0.5059113802823296\n",
      "69 5.088756953615079\n",
      "70 0.44528447400641813\n",
      "71 6.367727884394584\n",
      "72 0.9672238770099048\n",
      "73 0.5624219471855675\n",
      "74 1.998590074487146\n",
      "75 2.2911347599094296\n",
      "76 5.470559056344825\n",
      "77 3.9404315569172277\n",
      "78 2.8993883692480473\n",
      "79 1.8838808709289594\n",
      "80 1.941553219139437\n",
      "81 0.675522794431903\n",
      "82 3.2476599947033047\n",
      "83 0.251804013978212\n",
      "84 2.7208432249934766\n",
      "85 2.4713365706052435\n",
      "86 0.9423280156536163\n",
      "87 0.5354521153464803\n",
      "88 4.987326586475485\n",
      "89 0.9549530412979786\n",
      "90 0.5362560971860743\n",
      "91 0.9515182921636566\n",
      "92 2.334668247590217\n",
      "93 0.32759089631556043\n",
      "94 2.877602524896029\n",
      "95 3.1528665258929967\n",
      "96 5.1564756214413086\n",
      "97 1.4163184292880964\n",
      "98 0.3555293641986687\n",
      "99 7.242873544285314\n",
      "Training model with best seed...\n",
      "Test MAPE: 0.3094486996323959\n",
      "Test MdSA: 0.3407722498040296\n"
     ]
    }
   ],
   "source": [
    "# define model\n",
    "nNeurons = 50\n",
    "nFeatures = 1\n",
    "\n",
    "bestValidMAPE = 100\n",
    "bestSeed = -1\n",
    "for seed in range(100):\n",
    "    tf.random.set_seed(seed=seed)\n",
    "    model = Sequential()\n",
    "    model.add(Bidirectional(LSTM(nNeurons, activation='relu'), input_shape=(nDaysMin, nFeatures)))\n",
    "    model.add(Dense(1))\n",
    "    opt = Adam(learning_rate=0.1)\n",
    "    model.compile(optimizer=opt, loss='mse')\n",
    "\n",
    "    # fit model\n",
    "    model.fit(XTrain, yTrain[:,0], epochs=1000, verbose=0)\n",
    "\n",
    "    yPredListList = []\n",
    "    for day in range(nTest):\n",
    "        yPredListList.append([])\n",
    "    XValidNew = XValid.copy()\n",
    "    for day in range(k):\n",
    "        yPred = model.predict(np.float32(XValidNew), verbose=0)\n",
    "        for i in range(len(yPred)):\n",
    "            yPredListList[i].append(yPred[i][0])\n",
    "        XValidNew = np.delete(XValidNew, 0, axis=1)\n",
    "        yPred = np.expand_dims(yPred, 2)\n",
    "        XValidNew = np.append(XValidNew, yPred, axis=1)\n",
    "\n",
    "#     for yTrue, yPred in zip(yTest, yPredList):\n",
    "#         print(yTrue, yPred)\n",
    "    MAPE = meanAbsolutePercentageError_kDay(yValid, yPredListList)\n",
    "    print(seed, MAPE)\n",
    "    if MAPE < bestValidMAPE:\n",
    "        print('Updating best MAPE to {}...'.format(MAPE))\n",
    "        bestValidMAPE = MAPE\n",
    "        print('Updating best seed to {}...'.format(seed))\n",
    "        bestSeed = seed\n",
    "# define model\n",
    "print('Training model with best seed...')\n",
    "tf.random.set_seed(seed=bestSeed)\n",
    "model = Sequential()\n",
    "model.add(Bidirectional(LSTM(nNeurons, activation='relu'), input_shape=(nDaysMin, nFeatures)))\n",
    "model.add(Dense(1))\n",
    "opt = Adam(learning_rate=0.1)\n",
    "model.compile(optimizer=opt, loss='mse')\n",
    "\n",
    "# fit model\n",
    "model.fit(XTrain, yTrain[:,0], epochs=1000, verbose=0)\n",
    "\n",
    "yPredListList = []\n",
    "for day in range(nTest):\n",
    "    yPredListList.append([])\n",
    "XTestNew = XTest.copy()\n",
    "for day in range(k):\n",
    "    yPred = model.predict(np.float32(XTestNew), verbose=0)\n",
    "    for i in range(len(yPred)):\n",
    "        yPredListList[i].append(yPred[i][0])\n",
    "    XTestNew = np.delete(XTestNew, 0, axis=1)\n",
    "    yPred = np.expand_dims(yPred, 2)\n",
    "    XTestNew = np.append(XTestNew, yPred, axis=1)\n",
    "    \n",
    "MAPE = meanAbsolutePercentageError_kDay(yTest, yPredListList)\n",
    "print('Test MAPE:', MAPE)\n",
    "MdSA = medianSymmetricAccuracy_kDay(yTest, yPredListList)\n",
    "print('Test MdSA:', MdSA)\n",
    "yPredBidirectional = yPredListList"
   ]
  },
  {
   "cell_type": "code",
   "execution_count": 13,
   "metadata": {},
   "outputs": [],
   "source": [
    "import matplotlib.pyplot as plt\n",
    "from matplotlib.ticker import FuncFormatter\n",
    "from matplotlib.dates import DateFormatter\n",
    "#from statsmodels.tsa.statespace.sarimax import SARIMAX\n",
    "\n",
    "# Format y tick labels\n",
    "def y_fmt(y, pos):\n",
    "    decades = [1e9, 1e6, 1e3, 1e0, 1e-3, 1e-6, 1e-9 ]\n",
    "    suffix  = [\"G\", \"M\", \"k\", \"\" , \"m\" , \"u\", \"n\"  ]\n",
    "    if y == 0:\n",
    "        return str(0)\n",
    "    for i, d in enumerate(decades):\n",
    "        if np.abs(y) >=d:\n",
    "            val = y/float(d)\n",
    "            signf = len(str(val).split(\".\")[1])\n",
    "            if signf == 0:\n",
    "                return '{val:d} {suffix}'.format(val=int(val), suffix=suffix[i])\n",
    "            else:\n",
    "                if signf == 1:\n",
    "                    if str(val).split(\".\")[1] == \"0\":\n",
    "                        return '{val:d} {suffix}'.format(val=int(round(val)), suffix=suffix[i]) \n",
    "                tx = \"{\"+\"val:.{signf}f\".format(signf = signf) +\"} {suffix}\"\n",
    "                return tx.format(val=val, suffix=suffix[i])\n",
    "\n",
    "                #return y\n",
    "    return y"
   ]
  },
  {
   "cell_type": "code",
   "execution_count": 14,
   "metadata": {
    "scrolled": true
   },
   "outputs": [
    {
     "data": {
      "image/png": "[encoded data removed]",
      "text/plain": [
       "<Figure size 720x720 with 1 Axes>"
      ]
     },
     "metadata": {
      "needs_background": "light"
     },
     "output_type": "display_data"
    }
   ],
   "source": [
    "plt.figure(figsize=(10,10))\n",
    "datesForPlottingList = datesGreaterDaysSinceList[-k:]\n",
    "groundTruthList = nCasesGreaterDaysSinceList[-k:]\n",
    "\n",
    "\n",
    "plt.ylabel('Number of confirmed cases in Russia', fontsize=20)\n",
    "plt.plot(datesForPlottingList, groundTruthList, '-o', linewidth=3, label='Actual confirmed numbers');\n",
    "plt.plot(datesForPlottingList, yPredVanilla[-1], '-o', linewidth=3, label='Vanilla LSTM predictions');\n",
    "plt.plot(datesForPlottingList, yPredStacked[-1], '-o', linewidth=3, label='Stacked LSTM predictions');\n",
    "plt.plot(datesForPlottingList, yPredBidirectional[-1], '-o', linewidth=3, label='Bidirectional LSTM predictions');\n",
    "plt.xlabel('Date', fontsize=20);\n",
    "plt.legend(fontsize=14);\n",
    "plt.xticks(fontsize=16);\n",
    "plt.yticks(fontsize=16);\n",
    "ax = plt.gca()\n",
    "ax.yaxis.set_major_formatter(FuncFormatter(y_fmt))\n",
    "#date_form = DateFormatter(\"%d-%m\")\n",
    "#ax.xaxis.set_major_formatter(date_form)\n",
    "# plt.grid(axis='y')\n",
    "plt.savefig(os.path.join('Plots_3days_k3', 'predictions_{}.png'.format(countryName)), dpi=400)\n",
    "plt.savefig(os.path.join('Plots_3days_k3', 'predictions_{}.pdf'.format(countryName)), dpi=400)"
   ]
  },
  {
   "cell_type": "code",
   "execution_count": 18,
   "metadata": {},
   "outputs": [
    {
     "name": "stdout",
     "output_type": "stream",
     "text": [
      "Test RMSE: 53009.35758812195\n"
     ]
    }
   ],
   "source": [
    "RMSE = rootMeanSquaredError(groundTruthList, yPredVanilla)\n",
    "print('Test RMSE:', RMSE)"
   ]
  },
  {
   "cell_type": "code",
   "execution_count": 48,
   "metadata": {},
   "outputs": [
    {
     "name": "stdout",
     "output_type": "stream",
     "text": [
      "Test RMSE: 5818.70494041361\n"
     ]
    }
   ],
   "source": [
    "RMSE = rootMeanSquaredError(groundTruthList, yPredVanilla[-1])\n",
    "print('Test RMSE:', RMSE)"
   ]
  },
  {
   "cell_type": "code",
   "execution_count": 19,
   "metadata": {},
   "outputs": [
    {
     "name": "stdout",
     "output_type": "stream",
     "text": [
      "Test RMSE: 51280.36461931198\n"
     ]
    }
   ],
   "source": [
    "RMSE = rootMeanSquaredError(groundTruthList, yPredStacked)\n",
    "print('Test RMSE:', RMSE)"
   ]
  },
  {
   "cell_type": "code",
   "execution_count": 49,
   "metadata": {},
   "outputs": [
    {
     "name": "stdout",
     "output_type": "stream",
     "text": [
      "Test RMSE: 2702.2739214139942\n"
     ]
    }
   ],
   "source": [
    "RMSE = rootMeanSquaredError(groundTruthList, yPredStacked[-1])\n",
    "print('Test RMSE:', RMSE)#Test RMSE: 2702.2739214139942"
   ]
  },
  {
   "cell_type": "code",
   "execution_count": 20,
   "metadata": {},
   "outputs": [
    {
     "name": "stdout",
     "output_type": "stream",
     "text": [
      "Test RMSE: 51299.70042122786\n"
     ]
    }
   ],
   "source": [
    "RMSE = rootMeanSquaredError(groundTruthList, yPredBidirectional)\n",
    "print('Test RMSE:', RMSE)#Test RMSE: 51299.70042122786"
   ]
  },
  {
   "cell_type": "code",
   "execution_count": 50,
   "metadata": {},
   "outputs": [
    {
     "name": "stdout",
     "output_type": "stream",
     "text": [
      "Test RMSE: 2813.802043286287\n"
     ]
    }
   ],
   "source": [
    "RMSE = rootMeanSquaredError(groundTruthList, yPredBidirectional[-1])\n",
    "print('Test RMSE:', RMSE)#Test RMSE: 2813.802043286287"
   ]
  },
  {
   "cell_type": "code",
   "execution_count": 21,
   "metadata": {},
   "outputs": [],
   "source": [
    "MSE = meanSquaredError(groundTruthList, yPredBidirectional)"
   ]
  },
  {
   "cell_type": "code",
   "execution_count": 24,
   "metadata": {},
   "outputs": [
    {
     "data": {
      "text/plain": [
       "2631659263.307726"
      ]
     },
     "execution_count": 24,
     "metadata": {},
     "output_type": "execute_result"
    }
   ],
   "source": [
    "MSE"
   ]
  },
  {
   "cell_type": "code",
   "execution_count": 15,
   "metadata": {},
   "outputs": [
    {
     "data": {
      "text/plain": [
       "[811073, 816680, 822060]"
      ]
     },
     "execution_count": 15,
     "metadata": {},
     "output_type": "execute_result"
    }
   ],
   "source": [
    "groundTruthList"
   ]
  },
  {
   "cell_type": "code",
   "execution_count": 67,
   "metadata": {},
   "outputs": [
    {
     "data": {
      "text/plain": [
       "[805187.6, 810807.2, 816364.0]"
      ]
     },
     "execution_count": 67,
     "metadata": {},
     "output_type": "execute_result"
    }
   ],
   "source": [
    "yPredVanilla[-1]\n",
    "#[805187.6, 810807.2, 816364.0]"
   ]
  },
  {
   "cell_type": "code",
   "execution_count": 68,
   "metadata": {},
   "outputs": [
    {
     "data": {
      "text/plain": [
       "[806959.94, 814447.25, 821993.7]"
      ]
     },
     "execution_count": 68,
     "metadata": {},
     "output_type": "execute_result"
    }
   ],
   "source": [
    " yPredStacked[-1]\n",
    "    #[806959.94, 814447.25, 821993.7]"
   ]
  },
  {
   "cell_type": "code",
   "execution_count": 69,
   "metadata": {},
   "outputs": [
    {
     "data": {
      "text/plain": [
       "[806834.75, 814283.0, 821850.06]"
      ]
     },
     "execution_count": 69,
     "metadata": {},
     "output_type": "execute_result"
    }
   ],
   "source": [
    "yPredBidirectional[-1]\n",
    "#[806834.75, 814283.0, 821850.06]"
   ]
  },
  {
   "cell_type": "code",
   "execution_count": 65,
   "metadata": {},
   "outputs": [
    {
     "data": {
      "text/html": [
       "<div>\n",
       "<style scoped>\n",
       "    .dataframe tbody tr th:only-of-type {\n",
       "        vertical-align: middle;\n",
       "    }\n",
       "\n",
       "    .dataframe tbody tr th {\n",
       "        vertical-align: top;\n",
       "    }\n",
       "\n",
       "    .dataframe thead th {\n",
       "        text-align: right;\n",
       "    }\n",
       "</style>\n",
       "<table border=\"1\" class=\"dataframe\">\n",
       "  <thead>\n",
       "    <tr style=\"text-align: right;\">\n",
       "      <th></th>\n",
       "      <th>Experiments for US</th>\n",
       "      <th>Vanilla RMSE</th>\n",
       "      <th>Stacked RMSE</th>\n",
       "      <th>BiLSTM RMSE</th>\n",
       "    </tr>\n",
       "  </thead>\n",
       "  <tbody>\n",
       "    <tr>\n",
       "      <th>0</th>\n",
       "      <td>Exp 1</td>\n",
       "      <td>41531.15</td>\n",
       "      <td>45551.60</td>\n",
       "      <td>53594.45</td>\n",
       "    </tr>\n",
       "    <tr>\n",
       "      <th>1</th>\n",
       "      <td>Exp 2</td>\n",
       "      <td>42936.06</td>\n",
       "      <td>41820.91</td>\n",
       "      <td>47332.06</td>\n",
       "    </tr>\n",
       "    <tr>\n",
       "      <th>2</th>\n",
       "      <td>Exp 3</td>\n",
       "      <td>38833.74</td>\n",
       "      <td>56367.72</td>\n",
       "      <td>229591.44</td>\n",
       "    </tr>\n",
       "    <tr>\n",
       "      <th>3</th>\n",
       "      <td>Exp 4</td>\n",
       "      <td>25181.02</td>\n",
       "      <td>25227.20</td>\n",
       "      <td>25305.00</td>\n",
       "    </tr>\n",
       "  </tbody>\n",
       "</table>\n",
       "</div>"
      ],
      "text/plain": [
       "  Experiments for US  Vanilla RMSE  Stacked RMSE  BiLSTM RMSE\n",
       "0              Exp 1      41531.15      45551.60     53594.45\n",
       "1              Exp 2      42936.06      41820.91     47332.06\n",
       "2              Exp 3      38833.74      56367.72    229591.44\n",
       "3              Exp 4      25181.02      25227.20     25305.00"
      ]
     },
     "execution_count": 65,
     "metadata": {},
     "output_type": "execute_result"
    }
   ],
   "source": [
    "#us\n",
    "ustable = pd.read_csv('US_RMSE_2.csv')\n",
    "ustable"
   ]
  },
  {
   "cell_type": "code",
   "execution_count": 52,
   "metadata": {},
   "outputs": [
    {
     "data": {
      "text/plain": [
       "<matplotlib.axes._subplots.AxesSubplot at 0x18aa3f81c48>"
      ]
     },
     "execution_count": 52,
     "metadata": {},
     "output_type": "execute_result"
    },
    {
     "data": {
      "image/png": "[encoded data removed]",
      "text/plain": [
       "<Figure size 432x288 with 1 Axes>"
      ]
     },
     "metadata": {
      "needs_background": "light"
     },
     "output_type": "display_data"
    }
   ],
   "source": [
    "ustable.plot.bar(x = 'Experiments', y = 'Vanilla RMSE')\n"
   ]
  },
  {
   "cell_type": "code",
   "execution_count": 53,
   "metadata": {},
   "outputs": [
    {
     "data": {
      "text/plain": [
       "<matplotlib.axes._subplots.AxesSubplot at 0x18aa4fa6808>"
      ]
     },
     "execution_count": 53,
     "metadata": {},
     "output_type": "execute_result"
    },
    {
     "data": {
      "image/png": "[encoded data removed]",
      "text/plain": [
       "<Figure size 432x288 with 1 Axes>"
      ]
     },
     "metadata": {
      "needs_background": "light"
     },
     "output_type": "display_data"
    }
   ],
   "source": [
    "ustable.plot(kind='bar', x = 'Experiments', y = 'Stacked RMSE')"
   ]
  },
  {
   "cell_type": "code",
   "execution_count": 66,
   "metadata": {},
   "outputs": [
    {
     "data": {
      "image/png": "[encoded data removed]",
      "text/plain": [
       "<Figure size 432x288 with 1 Axes>"
      ]
     },
     "metadata": {
      "needs_background": "light"
     },
     "output_type": "display_data"
    }
   ],
   "source": [
    "import matplotlib.pyplot as plot\n",
    "\n",
    "ustable.plot.bar(x = 'Experiments for US')\n",
    "plot.show(block=True);\n"
   ]
  },
  {
   "cell_type": "code",
   "execution_count": 63,
   "metadata": {},
   "outputs": [],
   "source": [
    "braziltable = pd.read_csv('brazil_RMSE_2.csv')"
   ]
  },
  {
   "cell_type": "code",
   "execution_count": 64,
   "metadata": {
    "scrolled": true
   },
   "outputs": [
    {
     "data": {
      "image/png": "[encoded data removed]",
      "text/plain": [
       "<Figure size 432x288 with 1 Axes>"
      ]
     },
     "metadata": {
      "needs_background": "light"
     },
     "output_type": "display_data"
    }
   ],
   "source": [
    "\n",
    "#brazil\n",
    "braziltable.plot.bar(x = 'Experiments for Brazil')\n",
    "plot.show(block=True);"
   ]
  },
  {
   "cell_type": "code",
   "execution_count": 61,
   "metadata": {},
   "outputs": [],
   "source": [
    "#russia\n",
    "russiatable = pd.read_csv('russia_RMSE_2.csv')"
   ]
  },
  {
   "cell_type": "code",
   "execution_count": 62,
   "metadata": {},
   "outputs": [
    {
     "data": {
      "image/png": "[encoded data removed]",
      "text/plain": [
       "<Figure size 432x288 with 1 Axes>"
      ]
     },
     "metadata": {
      "needs_background": "light"
     },
     "output_type": "display_data"
    }
   ],
   "source": [
    "russiatable.plot.bar(x = 'Experiments for Russia')\n",
    "plot.show(block=True);\n"
   ]
  },
  {
   "cell_type": "code",
   "execution_count": null,
   "metadata": {},
   "outputs": [],
   "source": []
  }
 ],
 "metadata": {
  "kernelspec": {
   "display_name": "Python 3",
   "language": "python",
   "name": "python3"
  },
  "language_info": {
   "codemirror_mode": {
    "name": "ipython",
    "version": 3
   },
   "file_extension": ".py",
   "mimetype": "text/x-python",
   "name": "python",
   "nbconvert_exporter": "python",
   "pygments_lexer": "ipython3",
   "version": "3.7.6"
  }
 },
 "nbformat": 4,
 "nbformat_minor": 4
}

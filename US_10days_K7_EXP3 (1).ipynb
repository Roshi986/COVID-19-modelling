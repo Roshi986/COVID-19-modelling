{
 "cells": [
  {
   "cell_type": "code",
   "execution_count": 1,
   "metadata": {},
   "outputs": [],
   "source": [
    "import numpy as np\n",
    "import pandas as pd\n",
    "import warnings\n",
    "import os\n",
    "\n",
    "import tensorflow as tf\n",
    "from tensorflow.keras import Sequential\n",
    "from tensorflow.keras.layers import LSTM, Dense\n",
    "from tensorflow.keras.layers import Bidirectional\n",
    "from tensorflow.keras.optimizers import Adam\n",
    "from tensorflow.keras.layers import Flatten\n",
    "from tensorflow.compat.v1.keras.layers import TimeDistributed\n",
    "warnings.simplefilter('ignore')\n",
    "\n",
    "countryName = 'US'\n",
    "\n",
    "nfeatures = 1\n",
    "\n",
    "nDaysMin = 10\n",
    "k = 7\n",
    "\n",
    "nValid = 10\n",
    "nTest = 10"
   ]
  },
  {
   "cell_type": "code",
   "execution_count": 2,
   "metadata": {},
   "outputs": [],
   "source": [
    "dataDir = os.path.join('C:\\\\Users\\\\AMC\\\\Desktop\\\\Roshi\\\\Data')\n",
    "confirmedFile = 'confirmed_july.csv'\n",
    "deathsFile = 'deaths_july.csv'\n",
    "recoveredFile = 'recovered_july.csv'"
   ]
  },
  {
   "cell_type": "code",
   "execution_count": 3,
   "metadata": {},
   "outputs": [],
   "source": [
    "# split a univariate sequence into samples\n",
    "def split_sequence(sequence, n_steps, k):\n",
    "    X, y = list(), list()\n",
    "    for i in range(len(sequence)):\n",
    "        # find the end of this pattern\n",
    "        end_ix = i + n_steps\n",
    "        # check if we are beyond the sequence\n",
    "        if end_ix + k >= len(sequence):\n",
    "            break\n",
    "        # input and output\n",
    "        seq_x, seq_y = sequence[i:end_ix], sequence[end_ix:end_ix+k]\n",
    "        X.append(seq_x)\n",
    "        y.append(seq_y)\n",
    "    return np.array(X), np.array(y)"
   ]
  },
  {
   "cell_type": "code",
   "execution_count": 4,
   "metadata": {},
   "outputs": [],
   "source": [
    "def meanAbsolutePercentageError(yTrueList, yPredList):\n",
    "    absErrorList = [np.abs(yTrue - yPred) for yTrue, yPred in zip(yTrueList, yPredList)]\n",
    "    absPcErrorList = [absError/yTrue for absError, yTrue in zip(absErrorList, yTrueList)]\n",
    "    MAPE = 100*np.mean(absPcErrorList)\n",
    "    return MAPE\n",
    "\n",
    "def meanAbsolutePercentageError_kDay(yTrueListList, yPredListList):\n",
    "    # Store true and predictions for day 1 in a list, day 2 in a list and so on\n",
    "    # Keep each list of these lists in a respective dict with key as day #\n",
    "    yTrueForDayK = {}\n",
    "    yPredForDayK = {}\n",
    "    for i in range(len(yTrueListList[0])):\n",
    "        yTrueForDayK[i] = []\n",
    "        yPredForDayK[i] = []\n",
    "    for yTrueList, yPredList in zip(yTrueListList, yPredListList):\n",
    "        for i in range(len(yTrueList)):\n",
    "            yTrueForDayK[i].append(yTrueList[i])\n",
    "            yPredForDayK[i].append(yPredList[i])\n",
    "            \n",
    "    # Get MAPE for each day in a list\n",
    "    MAPEList = []\n",
    "    for i in yTrueForDayK.keys():\n",
    "        MAPEList.append(meanAbsolutePercentageError(yTrueForDayK[i], yPredForDayK[i]))\n",
    "    return np.mean(MAPEList)\n",
    "\n",
    "def meanForecastError(yTrueList, yPredList):\n",
    "    forecastErrors = [yTrue - yPred for yTrue, yPred in zip(yTrueList, yPredList)]\n",
    "    MFE = np.mean(forecastErrors)\n",
    "    return MFE\n",
    "\n",
    "def meanAbsoluteError(yTrueList, yPredList):\n",
    "    absErrorList = [np.abs(yTrue - yPred) for yTrue, yPred in zip(yTrueList, yPredList)]\n",
    "    return np.mean(absErrorList)\n",
    "\n",
    "def meanSquaredError(yTrueList, yPredList):\n",
    "    sqErrorList = [np.square(yTrue - yPred) for yTrue, yPred in zip(yTrueList, yPredList)]\n",
    "    return np.mean(sqErrorList)\n",
    "\n",
    "def rootMeanSquaredError(yTrueList, yPredList):\n",
    "    return np.sqrt(meanSquaredError(yTrueList, yPredList))\n",
    "\n",
    "def medianSymmetricAccuracy(yTrueList, yPredList):\n",
    "    '''https://helda.helsinki.fi//bitstream/handle/10138/312261/2017SW001669.pdf?sequence=1'''\n",
    "    logAccRatioList = [np.abs(np.log(yPred/yTrue)) for yTrue, yPred in zip(yTrueList, yPredList)]\n",
    "    MdSA = 100*(np.exp(np.median(logAccRatioList))-1)\n",
    "    return MdSA\n",
    "\n",
    "def medianSymmetricAccuracy_kDay(yTrueListList, yPredListList):\n",
    "    # Store true and predictions for day 1 in a list, day 2 in a list and so on\n",
    "    # Keep each list of these lists in a respective dict with key as day #\n",
    "    yTrueForDayK = {}\n",
    "    yPredForDayK = {}\n",
    "    for i in range(len(yTrueListList[0])):\n",
    "        yTrueForDayK[i] = []\n",
    "        yPredForDayK[i] = []\n",
    "    for yTrueList, yPredList in zip(yTrueListList, yPredListList):\n",
    "        for i in range(len(yTrueList)):\n",
    "            yTrueForDayK[i].append(yTrueList[i])\n",
    "            yPredForDayK[i].append(yPredList[i])\n",
    "    # Get MdSA for each day in a list\n",
    "    MdSAList = []\n",
    "    for i in yTrueForDayK.keys():\n",
    "        MdSAList.append(medianSymmetricAccuracy(yTrueForDayK[i], yPredForDayK[i]))\n",
    "    return(np.mean(MdSAList))"
   ]
  },
  {
   "cell_type": "code",
   "execution_count": 5,
   "metadata": {},
   "outputs": [],
   "source": [
    "# All three csvs for this countru\n",
    "def getCountryDict(countryName):\n",
    "    countryDict = {}\n",
    "    for key in covidFrDict.keys():\n",
    "        dataFr = covidFrDict[key]\n",
    "        countryDict[key] = dataFr[dataFr['Country/Region'] == countryName]\n",
    "    return countryDict"
   ]
  },
  {
   "cell_type": "code",
   "execution_count": 6,
   "metadata": {},
   "outputs": [
    {
     "name": "stdout",
     "output_type": "stream",
     "text": [
      "Total size of data points for LSTM: 130\n",
      "Size of training set: 110\n",
      "Size of validation set: 10\n",
      "Size of test set: 10\n"
     ]
    },
    {
     "data": {
      "text/plain": [
       "dict"
      ]
     },
     "execution_count": 6,
     "metadata": {},
     "output_type": "execute_result"
    }
   ],
   "source": [
    "# get time series data for country\n",
    "covidFrDict = {}\n",
    "covidFrDict['confirmed'] = pd.read_csv(confirmedFile)\n",
    "covidFrDict['deaths'] = pd.read_csv(deathsFile)\n",
    "covidFrDict['recovered'] = pd.read_csv(recoveredFile)\n",
    "\n",
    "countryDict = getCountryDict(countryName)\n",
    "\n",
    "# List of dates\n",
    "colNamesList = list(countryDict['confirmed'])\n",
    "dateList = [colName for colName in colNamesList if '/20' in colName]\n",
    "dataList = [countryDict['confirmed'][date].iloc[0] for date in dateList]\n",
    "dataDict = dict(zip(dateList, dataList))\n",
    "\n",
    "# Only take time series from where the cases were >100\n",
    "daysSince = 100\n",
    "nCasesGreaterDaysSinceList = []\n",
    "datesGreaterDaysSinceList = []\n",
    "\n",
    "for key in dataDict.keys():\n",
    "    if dataDict[key] > daysSince:\n",
    "        datesGreaterDaysSinceList.append(key)\n",
    "        nCasesGreaterDaysSinceList.append(dataDict[key])\n",
    "        \n",
    "XList, yList = split_sequence(nCasesGreaterDaysSinceList, nDaysMin, k)\n",
    "\n",
    "XTrainList = XList[0:len(XList)-(nValid + nTest)]\n",
    "XValidList = XList[len(XList)-(nValid+nTest):len(XList)-(nTest)]\n",
    "XTestList = XList[-nTest:]\n",
    "\n",
    "yTrain = yList[0:len(XList)-(nValid + nTest)]\n",
    "yValid = yList[len(XList)-(nValid+nTest):len(XList)-(nTest)]\n",
    "yTest = yList[-nTest:]\n",
    "print('Total size of data points for LSTM:', len(yList))\n",
    "print('Size of training set:', len(yTrain))\n",
    "print('Size of validation set:', len(yValid))\n",
    "print('Size of test set:', len(yTest))\n",
    "type(yTrain)\n",
    "XTrainList.shape\n",
    "yTest\n",
    "dateList \n",
    "covidFrDict['confirmed']\n",
    "type(countryDict)"
   ]
  },
  {
   "cell_type": "code",
   "execution_count": 7,
   "metadata": {},
   "outputs": [],
   "source": [
    "# Convert the list to matrix\n",
    "XTrain = XTrainList.reshape((XTrainList.shape[0], XTrainList.shape[1], nfeatures))\n",
    "XValid = XValidList.reshape((XValidList.shape[0], XValidList.shape[1], nfeatures))\n",
    "XTest = XTestList.reshape((XTestList.shape[0], XTestList.shape[1], nfeatures))"
   ]
  },
  {
   "cell_type": "code",
   "execution_count": 8,
   "metadata": {},
   "outputs": [
    {
     "name": "stdout",
     "output_type": "stream",
     "text": [
      "0 0.334764053169715\n",
      "Updating best MAPE to 0.334764053169715...\n",
      "Updating best seed to 0...\n",
      "1 2.4598687668321957\n",
      "2 149.4521242862511\n",
      "3 nan\n",
      "4 0.4227328151111361\n",
      "5 99.9877531355492\n",
      "6 99.98798768245784\n",
      "7 1.8570235663134531\n",
      "8 1.6235885570222237\n",
      "9 0.854574526887082\n",
      "10 3.5870555297302373\n",
      "11 5.070780397331463\n",
      "12 1.4776530331030282\n",
      "13 3.8217119455906294\n",
      "14 99.98747478024168\n",
      "15 0.3930474001317446\n",
      "16 0.9667461588275429\n",
      "17 0.32794385691744793\n",
      "Updating best MAPE to 0.32794385691744793...\n",
      "Updating best seed to 17...\n",
      "18 1.1276903653724148\n",
      "19 0.9759995253047525\n",
      "20 99.9884018871111\n",
      "21 1.0267471491422047\n",
      "22 99.99403549727342\n",
      "23 99.98975177017999\n",
      "24 99.9878244637872\n",
      "25 1.4166349139403744\n",
      "26 99.98871674456237\n",
      "27 0.4780636903985495\n",
      "28 99.98815700812453\n",
      "29 99.99155077721821\n",
      "30 4.809641256690684\n",
      "31 99.98861866750677\n",
      "32 0.9065912760611499\n",
      "33 99.98827503852009\n",
      "34 1.408054615042175\n",
      "35 0.5100638820600997\n",
      "36 1.3155648884383855\n",
      "37 9.082354933086865\n",
      "38 1.5768464895656433\n",
      "39 0.3367984887800688\n",
      "40 0.7358922156289903\n",
      "41 99.9890082062661\n",
      "42 1.9931495057156037\n",
      "43 1.634346261348144\n",
      "44 3.876477986101599\n",
      "45 99.99906624232692\n",
      "46 99.9909429063094\n",
      "47 4.209281908743887\n",
      "48 99.9881336686985\n",
      "49 1.426516610867632\n",
      "50 1.6540731385550342\n",
      "51 0.7437769152940054\n",
      "52 3.3703206950303124\n",
      "53 99.98770272005841\n",
      "54 99.98829572112608\n",
      "55 3.7020745682875273\n",
      "56 2.3743372870313384\n",
      "57 1.9504021877275204\n",
      "58 1.0603842505244674\n",
      "59 99.98791006466448\n",
      "60 nan\n",
      "61 99.987594912011\n",
      "62 99.99486115653812\n",
      "63 2.1020186846245177\n",
      "64 0.7806940707383173\n",
      "65 1.1053125266283357\n",
      "66 0.6487502398849091\n",
      "67 0.6672277977287038\n",
      "68 99.60900700750756\n",
      "69 99.98921724828497\n",
      "70 1.9875207795192311\n",
      "71 4.493669161773537\n",
      "72 2.570571177003143\n",
      "73 99.99372847724705\n",
      "74 0.7576726665484355\n",
      "75 99.99083981372914\n",
      "76 0.3802280172688\n",
      "77 99.99122840570499\n",
      "78 2.301363876382953\n",
      "79 0.5459804950293594\n",
      "80 2.122724473254885\n",
      "81 1.7291394893933132\n",
      "82 99.98937047669078\n",
      "83 99.98744255561705\n",
      "84 0.6802136646959697\n",
      "85 1.064265845082321\n",
      "86 99.99072262232937\n",
      "87 0.9133046617750759\n",
      "88 2.863623653974632\n",
      "89 99.98797830298973\n",
      "90 99.98742998427484\n",
      "91 1.3858531125924658\n",
      "92 99.98757849818456\n",
      "93 99.98780573301174\n",
      "94 0.30145158648561676\n",
      "Updating best MAPE to 0.30145158648561676...\n",
      "Updating best seed to 94...\n",
      "95 2.2686912849794965\n",
      "96 99.9933297988714\n",
      "97 0.9628623769366883\n",
      "98 2.0971245065982274\n",
      "99 99.98826289444426\n",
      "Training model with best seed...\n"
     ]
    }
   ],
   "source": [
    "import matplotlib.pyplot as plt\n",
    "from sklearn.metrics import accuracy_score\n",
    "from matplotlib import pyplot\n",
    "\n",
    "neurons = 100 # number of neurones\n",
    "nfeatures = 1  # number of features\n",
    "\n",
    "#getting the best MAPE to use for model fitting\n",
    "bestValidMAPE = 100 #100 validation for selecting the best MAPE\n",
    "bestSeed = -1\n",
    "for seed in range(100):\n",
    "    tf.random.set_seed(seed=seed)\n",
    "    \n",
    "    # define model\n",
    "    model = Sequential()\n",
    "    model.add(LSTM(neurons, activation='relu', input_shape=(nDaysMin, nfeatures)))\n",
    "    model.add(Dense(1))\n",
    "    opt = Adam(learning_rate=0.1)\n",
    "    model.compile(optimizer=opt, loss='mse')\n",
    "\n",
    "    # fit model\n",
    "   \n",
    "    history = model.fit(XTrain, yTrain[:,0], epochs=1000, verbose=0)\n",
    "    yPredListList = []\n",
    "    for day in range(nTest):\n",
    "        yPredListList.append([])\n",
    "    XValidNew = XValid.copy()\n",
    "    for day in range(k):\n",
    "        yPred = model.predict(np.float32(XValidNew), verbose=0)\n",
    "        for i in range(len(yPred)):\n",
    "            yPredListList[i].append(yPred[i][0])\n",
    "        XValidNew = np.delete(XValidNew, 0, axis=1)\n",
    "        yPred = np.expand_dims(yPred, 2)\n",
    "        XValidNew = np.append(XValidNew, yPred, axis=1)\n",
    "\n",
    "#     for yTrue, yPred in zip(yTest, yPredList):\n",
    "#         print(yTrue, yPred)\n",
    "    \n",
    "    MAPE = meanAbsolutePercentageError_kDay(yValid, yPredListList)\n",
    "    print(seed, MAPE)\n",
    "    if MAPE < bestValidMAPE:\n",
    "        print('Updating best MAPE to {}...'.format(MAPE))\n",
    "        bestValidMAPE = MAPE\n",
    "        print('Updating best seed to {}...'.format(seed))\n",
    "        bestSeed = seed\n",
    "\n",
    "print('Training model with best seed...')\n",
    "tf.random.set_seed(seed=bestSeed)\n",
    "   "
   ]
  },
  {
   "cell_type": "code",
   "execution_count": 9,
   "metadata": {},
   "outputs": [
    {
     "name": "stdout",
     "output_type": "stream",
     "text": [
      "Model: \"sequential_100\"\n",
      "_________________________________________________________________\n",
      "Layer (type)                 Output Shape              Param #   \n",
      "=================================================================\n",
      "lstm_100 (LSTM)              (None, 100)               40800     \n",
      "_________________________________________________________________\n",
      "dense_100 (Dense)            (None, 1)                 101       \n",
      "=================================================================\n",
      "Total params: 40,901\n",
      "Trainable params: 40,901\n",
      "Non-trainable params: 0\n",
      "_________________________________________________________________\n"
     ]
    }
   ],
   "source": [
    "# define model\n",
    "model = Sequential()\n",
    "model.add(LSTM(neurons, activation='relu', input_shape=(nDaysMin, nfeatures)))\n",
    "model.add(Dense(1))\n",
    "opt = Adam(learning_rate=0.1)\n",
    "model.compile(optimizer=opt, loss='mse')\n",
    "model.summary()\n",
    "\n",
    "history = model.fit(XTrain, yTrain[:,0], validation_data = (XValid, yValid), epochs=1000, verbose=0)"
   ]
  },
  {
   "cell_type": "code",
   "execution_count": 10,
   "metadata": {},
   "outputs": [
    {
     "data": {
      "image/png": "[encoded data removed]",
      "text/plain": [
       "<Figure size 576x360 with 1 Axes>"
      ]
     },
     "metadata": {
      "needs_background": "light"
     },
     "output_type": "display_data"
    }
   ],
   "source": [
    "plt.figure(figsize=(8,5))\n",
    "plt.plot(history.history['loss'])\n",
    "plt.plot(history.history['val_loss'])\n",
    "plt.title('Model loss')\n",
    "plt.ylabel('Loss')\n",
    "plt.xlabel('Epoch')\n",
    "plt.legend(['Train', 'Valid'], loc='upper left')\n",
    "plt.show()"
   ]
  },
  {
   "cell_type": "code",
   "execution_count": 11,
   "metadata": {},
   "outputs": [
    {
     "name": "stdout",
     "output_type": "stream",
     "text": [
      "Test MAPE: 0.6483771438387472\n",
      "Test MdSA: 0.6457198059949709\n",
      "Test MSE: 1274224476.9410715\n",
      "Test RMSE: 35696.2809959395\n"
     ]
    }
   ],
   "source": [
    "yPredListList = []\n",
    "for day in range(nTest):\n",
    "    yPredListList.append([])\n",
    "XTestNew = XTest.copy()\n",
    "for day in range(k):\n",
    "    yPred = model.predict(np.float32(XTestNew), verbose=0)\n",
    "    for i in range(len(yPred)):\n",
    "        yPredListList[i].append(yPred[i][0])\n",
    "    XTestNew = np.delete(XTestNew, 0, axis=1)\n",
    "    yPred = np.expand_dims(yPred, 2)\n",
    "    XTestNew = np.append(XTestNew, yPred, axis=1)\n",
    "MAPE = meanAbsolutePercentageError_kDay(yTest, yPredListList)\n",
    "print('Test MAPE:', MAPE)\n",
    "MdSA = medianSymmetricAccuracy_kDay(yTest, yPredListList)\n",
    "print('Test MdSA:', MdSA)\n",
    "MSE = meanSquaredError(yTest, yPredListList)\n",
    "print('Test MSE:', MSE)\n",
    "RMSE = rootMeanSquaredError(yTest, yPredListList)\n",
    "print('Test RMSE:', RMSE)\n",
    "yPredVanilla = yPredListList \n",
    "#Test MAPE: 0.04888603859343367\n",
    "#Test MdSA: 0.05161317825322761\n",
    "#Test MSE: 203428.25474330358\n",
    "#Test RMSE: 451.03021488953885"
   ]
  },
  {
   "cell_type": "code",
   "execution_count": 13,
   "metadata": {},
   "outputs": [
    {
     "data": {
      "text/plain": [
       "[3913773.2, 3987611.2, 4065455.8, 4143624.8, 4223461.0, 4302944.0, 4384023.0]"
      ]
     },
     "execution_count": 13,
     "metadata": {},
     "output_type": "execute_result"
    }
   ],
   "source": [
    "datesForPlottingList_df = pd.DataFrame(datesForPlottingList)\n",
    "datesForPlottingList_df\n",
    "groundTruthList_df = pd.DataFrame(groundTruthList)\n",
    "groundTruthList_df\n",
    "yPredVanilla[-1]#[786326.1, 791561.75, 795952.1, 810342.25, 813480.75, 813834.0, 838000.0]"
   ]
  },
  {
   "cell_type": "code",
   "execution_count": 14,
   "metadata": {},
   "outputs": [
    {
     "name": "stdout",
     "output_type": "stream",
     "text": [
      "Test RMSE: 471521.2870272715\n"
     ]
    }
   ],
   "source": [
    "RMSE = rootMeanSquaredError(groundTruthList, yPredVanilla)\n",
    "print('Test RMSE:', RMSE)"
   ]
  },
  {
   "cell_type": "code",
   "execution_count": 15,
   "metadata": {},
   "outputs": [
    {
     "data": {
      "text/html": [
       "<div>\n",
       "<style scoped>\n",
       "    .dataframe tbody tr th:only-of-type {\n",
       "        vertical-align: middle;\n",
       "    }\n",
       "\n",
       "    .dataframe tbody tr th {\n",
       "        vertical-align: top;\n",
       "    }\n",
       "\n",
       "    .dataframe thead th {\n",
       "        text-align: right;\n",
       "    }\n",
       "</style>\n",
       "<table border=\"1\" class=\"dataframe\">\n",
       "  <thead>\n",
       "    <tr style=\"text-align: right;\">\n",
       "      <th></th>\n",
       "      <th>0</th>\n",
       "    </tr>\n",
       "  </thead>\n",
       "  <tbody>\n",
       "    <tr>\n",
       "      <th>0</th>\n",
       "      <td>3913773.25</td>\n",
       "    </tr>\n",
       "    <tr>\n",
       "      <th>1</th>\n",
       "      <td>3987611.25</td>\n",
       "    </tr>\n",
       "    <tr>\n",
       "      <th>2</th>\n",
       "      <td>4065455.75</td>\n",
       "    </tr>\n",
       "    <tr>\n",
       "      <th>3</th>\n",
       "      <td>4143624.75</td>\n",
       "    </tr>\n",
       "    <tr>\n",
       "      <th>4</th>\n",
       "      <td>4223461.00</td>\n",
       "    </tr>\n",
       "    <tr>\n",
       "      <th>5</th>\n",
       "      <td>4302944.00</td>\n",
       "    </tr>\n",
       "    <tr>\n",
       "      <th>6</th>\n",
       "      <td>4384023.00</td>\n",
       "    </tr>\n",
       "  </tbody>\n",
       "</table>\n",
       "</div>"
      ],
      "text/plain": [
       "            0\n",
       "0  3913773.25\n",
       "1  3987611.25\n",
       "2  4065455.75\n",
       "3  4143624.75\n",
       "4  4223461.00\n",
       "5  4302944.00\n",
       "6  4384023.00"
      ]
     },
     "execution_count": 15,
     "metadata": {},
     "output_type": "execute_result"
    }
   ],
   "source": [
    "yPredVanilla[-1]\n",
    "yPredVanilla_df = pd.DataFrame(yPredVanilla[-1])\n",
    "yPredVanilla_df\n",
    "#merge the three dataframes?\n",
    "yPredVanilla_df"
   ]
  },
  {
   "cell_type": "code",
   "execution_count": 16,
   "metadata": {},
   "outputs": [
    {
     "data": {
      "text/plain": [
       "[3970121, 4038816, 4112531, 4178970, 4233923, 4290337, 4351997]"
      ]
     },
     "execution_count": 16,
     "metadata": {},
     "output_type": "execute_result"
    }
   ],
   "source": [
    "dates = datesForPlottingList_df\n",
    "actual = groundTruthList_df\n",
    "predicted_vanilla = yPredVanilla_df\n",
    "datesForPlottingList\n",
    "groundTruthList #[787890, 793720, 799499, 805332, 811073, 816680, 822060]"
   ]
  },
  {
   "cell_type": "markdown",
   "metadata": {},
   "source": [
    "# Stacked LSTM"
   ]
  },
  {
   "cell_type": "code",
   "execution_count": 17,
   "metadata": {},
   "outputs": [
    {
     "name": "stdout",
     "output_type": "stream",
     "text": [
      "0 65.3450176193644\n",
      "Updating best MAPE to 65.3450176193644...\n",
      "Updating best seed to 0...\n",
      "1 99.99565257719986\n",
      "2 5.09999706128057\n",
      "Updating best MAPE to 5.09999706128057...\n",
      "Updating best seed to 2...\n",
      "3 63.538188079520474\n",
      "4 nan\n",
      "5 57.00218058508775\n",
      "6 65.4933888687063\n",
      "7 99.98860291982747\n",
      "8 nan\n",
      "9 63.5819799315231\n",
      "10 99.98795196687266\n",
      "11 1.0283655221779386\n",
      "Updating best MAPE to 1.0283655221779386...\n",
      "Updating best seed to 11...\n",
      "12 1.7227020356089204\n",
      "13 0.9083274545725228\n",
      "Updating best MAPE to 0.9083274545725228...\n",
      "Updating best seed to 13...\n",
      "14 99.99057893070344\n",
      "15 1.5359259297945598\n",
      "16 266.59812342451085\n",
      "17 99.98792755151217\n",
      "18 2.4985330782298276\n",
      "19 99.98895566026975\n",
      "20 55.723709086690356\n",
      "21 346.15177707146756\n",
      "22 5.701733879345633\n",
      "23 94.8890626418691\n",
      "24 55.55227253764243\n",
      "25 318.423636054074\n",
      "26 108.82259024453124\n",
      "27 0.8399304605223851\n",
      "Updating best MAPE to 0.8399304605223851...\n",
      "Updating best seed to 27...\n",
      "28 62.160940300229925\n",
      "29 64.125698929594\n",
      "30 nan\n",
      "31 61.58383051218974\n",
      "32 2.6484983603294814\n",
      "33 nan\n",
      "34 99.99701899207896\n",
      "35 nan\n",
      "36 0.9261033364001944\n",
      "37 99.98988191940381\n",
      "38 62.73969277990292\n",
      "39 1.0523873556124872\n",
      "40 141.88196386630972\n",
      "41 67.65984656355442\n",
      "42 nan\n",
      "43 1.8949862302069593\n",
      "44 59.63410668760042\n",
      "45 1.021290883460909\n",
      "46 61.5017396826273\n",
      "47 60.88778666796581\n",
      "48 99.99113275532825\n",
      "49 1.4387456038033857\n",
      "50 61.539326694564174\n",
      "51 99.98812399402813\n",
      "52 99.9902116340724\n",
      "53 62.3742403605912\n",
      "54 0.6574933750592259\n",
      "Updating best MAPE to 0.6574933750592259...\n",
      "Updating best seed to 54...\n",
      "55 96.2886125584888\n",
      "56 99.99719361730537\n",
      "57 607.5156042976656\n",
      "58 99.98918027614822\n",
      "59 99.99224429075981\n",
      "60 59.50816036665007\n",
      "61 3.4621878825959627\n",
      "62 nan\n",
      "63 64.66857182061416\n",
      "64 5.755402692630445\n",
      "65 85.8300190125955\n",
      "66 0.9548942360206567\n",
      "67 99.9953993305896\n",
      "68 nan\n",
      "69 99.99192539855446\n",
      "70 nan\n",
      "71 60.251889997764046\n",
      "72 451.38141665475416\n",
      "73 0.6410842222342337\n",
      "Updating best MAPE to 0.6410842222342337...\n",
      "Updating best seed to 73...\n",
      "74 nan\n",
      "75 64.44584083475658\n",
      "76 99.98783026878365\n",
      "77 2.5561164978107476\n",
      "78 99.99392581216708\n",
      "79 99.99635125653768\n",
      "80 1.2622603447915843\n",
      "81 86.71048278986336\n",
      "82 100.12299207449988\n",
      "83 99.99022398401291\n",
      "84 56.22815462911418\n",
      "85 99.99420394752953\n",
      "86 62.78255390589569\n",
      "87 63.247893046058856\n",
      "88 64.4449140862083\n",
      "89 6.458413934677905\n",
      "90 72.44238017651647\n",
      "91 61.87774105822814\n",
      "92 849.6457504489512\n",
      "93 34641.499991804674\n",
      "94 56.26874462454442\n",
      "95 1.5532112147929464\n",
      "96 59.06109766244985\n",
      "97 1.4499866600254276\n",
      "98 99.98774694795517\n",
      "99 99.98807265505933\n",
      "Training model with best seed...\n"
     ]
    }
   ],
   "source": [
    "neurons = 50\n",
    "nfeatures = 1\n",
    "\n",
    "bestValidMAPE = 100\n",
    "bestSeed = -1\n",
    "for seed in range(100):\n",
    "    tf.random.set_seed(seed=seed)\n",
    "    model = Sequential()\n",
    "    model.add(LSTM(neurons, activation='relu', return_sequences=True, input_shape=(nDaysMin, nfeatures)))\n",
    "    model.add(LSTM(neurons, activation='relu'))\n",
    "    model.add(Dense(1))\n",
    "    opt = Adam(learning_rate=0.1)\n",
    "    model.compile(optimizer=opt, loss='mse')\n",
    "\n",
    "    # fit model\n",
    "    history = model.fit(XTrain, yTrain[:,0], epochs=1000, verbose=0)\n",
    "\n",
    "    yPredListList = []\n",
    "    for day in range(nTest):\n",
    "        yPredListList.append([])\n",
    "    XValidNew = XValid.copy()\n",
    "    for day in range(k):\n",
    "        yPred = model.predict(np.float32(XValidNew), verbose=0)\n",
    "        for i in range(len(yPred)):\n",
    "            yPredListList[i].append(yPred[i][0])\n",
    "        XValidNew = np.delete(XValidNew, 0, axis=1)\n",
    "        yPred = np.expand_dims(yPred, 2)\n",
    "        XValidNew = np.append(XValidNew, yPred, axis=1)\n",
    "        \n",
    "        \n",
    "#     for yTrue, yPred in zip(yTest, yPredList):\n",
    "#         print(yTrue, yPred)\n",
    "\n",
    "    MAPE = meanAbsolutePercentageError_kDay(yValid, yPredListList)\n",
    "    print(seed, MAPE)\n",
    "    if MAPE < bestValidMAPE:\n",
    "        print('Updating best MAPE to {}...'.format(MAPE))\n",
    "        bestValidMAPE = MAPE\n",
    "        print('Updating best seed to {}...'.format(seed))\n",
    "        bestSeed = seed\n",
    "        \n",
    "# define model\n",
    "print('Training model with best seed...')\n",
    "tf.random.set_seed(seed=bestSeed)\n",
    "model = Sequential()\n",
    "model.add(LSTM(neurons, activation='relu', return_sequences=True, input_shape=(nDaysMin, nfeatures)))\n",
    "model.add(LSTM(neurons, activation='relu'))\n",
    "model.add(Dense(1))\n",
    "opt = Adam(learning_rate=0.1)\n",
    "model.compile(optimizer=opt, loss='mse')\n",
    "\n",
    "# fit model\n",
    "history = model.fit(XTrain, yTrain[:,0], validation_data = (XValid, yValid), epochs=1000, verbose=0)\n",
    "\n"
   ]
  },
  {
   "cell_type": "code",
   "execution_count": 18,
   "metadata": {},
   "outputs": [
    {
     "name": "stdout",
     "output_type": "stream",
     "text": [
      "Model: \"sequential_201\"\n",
      "_________________________________________________________________\n",
      "Layer (type)                 Output Shape              Param #   \n",
      "=================================================================\n",
      "lstm_301 (LSTM)              (None, 10, 50)            10400     \n",
      "_________________________________________________________________\n",
      "lstm_302 (LSTM)              (None, 50)                20200     \n",
      "_________________________________________________________________\n",
      "dense_201 (Dense)            (None, 1)                 51        \n",
      "=================================================================\n",
      "Total params: 30,651\n",
      "Trainable params: 30,651\n",
      "Non-trainable params: 0\n",
      "_________________________________________________________________\n"
     ]
    }
   ],
   "source": [
    "model.summary()"
   ]
  },
  {
   "cell_type": "code",
   "execution_count": 19,
   "metadata": {},
   "outputs": [
    {
     "data": {
      "image/png": "[encoded data removed]",
      "text/plain": [
       "<Figure size 576x360 with 1 Axes>"
      ]
     },
     "metadata": {
      "needs_background": "light"
     },
     "output_type": "display_data"
    }
   ],
   "source": [
    "#diagnostic plots\n",
    "plt.figure(figsize=(8,5))\n",
    "plt.plot(history.history['loss'])\n",
    "plt.plot(history.history['val_loss'])\n",
    "plt.title('Model loss')\n",
    "plt.ylabel('Loss')\n",
    "plt.xlabel('Epoch')\n",
    "plt.legend(['Train', 'Valid'], loc='upper left')\n",
    "plt.show()"
   ]
  },
  {
   "cell_type": "code",
   "execution_count": 20,
   "metadata": {},
   "outputs": [
    {
     "name": "stdout",
     "output_type": "stream",
     "text": [
      "Test MAPE: 1.4835551933629454\n",
      "Test MdSA: 1.46124789482622\n",
      "Test MSE: 5095610146.275893\n",
      "Test RMSE: 71383.54254501448\n"
     ]
    }
   ],
   "source": [
    "yPredListList = []\n",
    "for day in range(nTest):\n",
    "    yPredListList.append([])\n",
    "XTestNew = XTest.copy()\n",
    "for day in range(k):\n",
    "    yPred = model.predict(np.float32(XTestNew), verbose=0)\n",
    "    for i in range(len(yPred)):\n",
    "        yPredListList[i].append(yPred[i][0])\n",
    "    XTestNew = np.delete(XTestNew, 0, axis=1)\n",
    "    yPred = np.expand_dims(yPred, 2)\n",
    "    XTestNew = np.append(XTestNew, yPred, axis=1)\n",
    "    \n",
    "MAPE = meanAbsolutePercentageError_kDay(yTest, yPredListList)\n",
    "print('Test MAPE:', MAPE)\n",
    "MdSA = medianSymmetricAccuracy_kDay(yTest, yPredListList)\n",
    "print('Test MdSA:', MdSA)\n",
    "MSE = meanSquaredError(yTest, yPredListList)\n",
    "print('Test MSE:', MSE)\n",
    "RMSE = rootMeanSquaredError(yTest, yPredListList)\n",
    "print('Test RMSE:', RMSE)\n",
    "yPredStacked = yPredListList\n",
    "#Test MAPE: 0.6526826190135445\n",
    "#Test MdSA: 0.6277125989801505\n",
    "#Test MSE: 37158961.193359375\n",
    "#Test RMSE: 6095.815055704969"
   ]
  },
  {
   "cell_type": "code",
   "execution_count": 22,
   "metadata": {},
   "outputs": [
    {
     "name": "stdout",
     "output_type": "stream",
     "text": [
      "Test RMSE: 446800.59853170754\n"
     ]
    }
   ],
   "source": [
    "RMSE = rootMeanSquaredError(groundTruthList, yPredStacked)\n",
    "print('Test RMSE:', RMSE)"
   ]
  },
  {
   "cell_type": "markdown",
   "metadata": {},
   "source": [
    "# Bi-directional LSTM"
   ]
  },
  {
   "cell_type": "code",
   "execution_count": 23,
   "metadata": {},
   "outputs": [
    {
     "name": "stdout",
     "output_type": "stream",
     "text": [
      "0 3.839415456453154\n",
      "Updating best MAPE to 3.839415456453154...\n",
      "Updating best seed to 0...\n",
      "1 3.8578417814235104\n",
      "2 99.98752106387239\n",
      "3 99.98993082198321\n",
      "4 1.2432108028486655\n",
      "Updating best MAPE to 1.2432108028486655...\n",
      "Updating best seed to 4...\n",
      "5 1.3537239086395925\n",
      "6 0.4739353034217356\n",
      "Updating best MAPE to 0.4739353034217356...\n",
      "Updating best seed to 6...\n",
      "7 1.7701468920511079\n",
      "8 99.9878105572376\n",
      "9 0.8790779500709264\n",
      "10 1.3586454375510815\n",
      "11 2.741600819688179\n",
      "12 1.5850007762274463\n",
      "13 99.98796213678358\n",
      "14 1.5185736178675633\n",
      "15 2.147572856866943\n",
      "16 1.0334063977175423\n",
      "17 1.384108649656398\n",
      "18 0.7093339614754084\n",
      "19 99.98832645323158\n",
      "20 99.990296414404\n",
      "21 11.216321088447858\n",
      "22 2.0855771013513396\n",
      "23 0.8650688357068422\n",
      "24 3.68662589340366\n",
      "25 0.6685034348956993\n",
      "26 0.28811497046717716\n",
      "Updating best MAPE to 0.28811497046717716...\n",
      "Updating best seed to 26...\n",
      "27 0.3249421066425074\n",
      "28 99.98777001160018\n",
      "29 106.83089621237364\n",
      "30 1.3171000374756836\n",
      "31 4.170211103105763\n",
      "32 99.9881849191167\n",
      "33 1.8281299826185236\n",
      "34 2.770440136185759\n",
      "35 99.99100828000776\n",
      "36 52.57143123558825\n",
      "37 0.4976243005184936\n",
      "38 99.98817357926268\n",
      "39 99.98778386279939\n",
      "40 2.5152964087138168\n",
      "41 0.9600797183494328\n",
      "42 6.428604442255069\n",
      "43 1.1182323783524253\n",
      "44 2.7858427718770358\n",
      "45 0.5765117190840761\n",
      "46 99.98869605904318\n",
      "47 5.590276518404352\n",
      "48 0.39791179705033486\n",
      "49 99.9879380389597\n",
      "50 1.1970140977532275\n",
      "51 108.50262511323548\n",
      "52 5.199600617344658\n",
      "53 99.98816700421571\n",
      "54 1.788292557521016\n",
      "55 5.96127635583819\n",
      "56 99.98792469853802\n",
      "57 3.9614216372496394\n",
      "58 99.98799570341309\n",
      "59 5.879513188584914\n",
      "60 2.4365797274338226\n",
      "61 1.131333183835643\n",
      "62 0.797336177791353\n",
      "63 3.3403897910000495\n",
      "64 99.99064774098295\n",
      "65 2.1397673632187444\n",
      "66 0.5164365876056326\n",
      "67 4.472220848109132\n",
      "68 1.3331456463981766\n",
      "69 99.98767194716838\n",
      "70 0.7337645505381184\n",
      "71 1.3175068320618764\n",
      "72 13.552645825132824\n",
      "73 0.771281377755855\n",
      "74 20.299351866318606\n",
      "75 99.9950479564287\n",
      "76 3.830590815328462\n",
      "77 nan\n",
      "78 2.011281315765721\n",
      "79 1.540194879626737\n",
      "80 0.5977073064817545\n",
      "81 1.6218406717497091\n",
      "82 99.98841841552262\n",
      "83 0.6750100160613223\n",
      "84 99.98806850766223\n",
      "85 1.4587690698664348\n",
      "86 1.5328020001160827\n",
      "87 2.181518218532299\n",
      "88 0.4414857047805543\n",
      "89 10.5467062248878\n",
      "90 1.5737049676921377\n",
      "91 2.1146309770603398\n",
      "92 0.6153144972922198\n",
      "93 3.4283469162810194\n",
      "94 1.2629427346412814\n",
      "95 2.289910338990347\n",
      "96 99.98803268234727\n",
      "97 0.35614506353623454\n",
      "98 1.2457199122972404\n",
      "99 99.98752730875897\n",
      "Training model with best seed...\n"
     ]
    }
   ],
   "source": [
    "# define model\n",
    "neurons = 50\n",
    "nfeatures = 1\n",
    "\n",
    "bestValidMAPE = 100\n",
    "bestSeed = -1\n",
    "for seed in range(100):\n",
    "    tf.random.set_seed(seed=seed)\n",
    "    model = Sequential()\n",
    "    model.add(Bidirectional(LSTM(neurons, activation='relu'), input_shape=(nDaysMin, nfeatures)))\n",
    "    model.add(Dense(1))\n",
    "    opt = Adam(learning_rate=0.1)\n",
    "    model.compile(optimizer=opt, loss='mse')\n",
    "\n",
    "    # fit model\n",
    "    history = model.fit(XTrain, yTrain[:,0], epochs=1000, verbose=0)\n",
    "\n",
    "    yPredListList = []\n",
    "    for day in range(nTest):\n",
    "        yPredListList.append([])\n",
    "    XValidNew = XValid.copy()\n",
    "    for day in range(k):\n",
    "        yPred = model.predict(np.float32(XValidNew), verbose=0)\n",
    "        for i in range(len(yPred)):\n",
    "            yPredListList[i].append(yPred[i][0])\n",
    "        XValidNew = np.delete(XValidNew, 0, axis=1)\n",
    "        yPred = np.expand_dims(yPred, 2)\n",
    "        XValidNew = np.append(XValidNew, yPred, axis=1)\n",
    "\n",
    "#     for yTrue, yPred in zip(yTest, yPredList):\n",
    "#         print(yTrue, yPred)\n",
    "    MAPE = meanAbsolutePercentageError_kDay(yValid, yPredListList)\n",
    "    print(seed, MAPE)\n",
    "    if MAPE < bestValidMAPE:\n",
    "        print('Updating best MAPE to {}...'.format(MAPE))\n",
    "        bestValidMAPE = MAPE\n",
    "        print('Updating best seed to {}...'.format(seed))\n",
    "        bestSeed = seed\n",
    "# define model\n",
    "print('Training model with best seed...')\n",
    "tf.random.set_seed(seed=bestSeed)\n",
    "model = Sequential()\n",
    "model.add(Bidirectional(LSTM(neurons, activation='relu'), input_shape=(nDaysMin, nfeatures)))\n",
    "model.add(Dense(1))\n",
    "opt = Adam(learning_rate=0.1)\n",
    "model.compile(optimizer=opt, loss='mse')\n",
    "\n",
    "# fit model\n",
    "history = model.fit(XTrain, yTrain[:,0], validation_data = (XValid, yValid), epochs=1000, verbose=0)\n",
    "\n"
   ]
  },
  {
   "cell_type": "code",
   "execution_count": 24,
   "metadata": {},
   "outputs": [
    {
     "name": "stdout",
     "output_type": "stream",
     "text": [
      "Model: \"sequential_302\"\n",
      "_________________________________________________________________\n",
      "Layer (type)                 Output Shape              Param #   \n",
      "=================================================================\n",
      "bidirectional_100 (Bidirecti (None, 100)               20800     \n",
      "_________________________________________________________________\n",
      "dense_302 (Dense)            (None, 1)                 101       \n",
      "=================================================================\n",
      "Total params: 20,901\n",
      "Trainable params: 20,901\n",
      "Non-trainable params: 0\n",
      "_________________________________________________________________\n"
     ]
    }
   ],
   "source": [
    "model.summary()"
   ]
  },
  {
   "cell_type": "code",
   "execution_count": 25,
   "metadata": {},
   "outputs": [
    {
     "data": {
      "image/png": "[encoded data removed]",
      "text/plain": [
       "<Figure size 576x360 with 1 Axes>"
      ]
     },
     "metadata": {
      "needs_background": "light"
     },
     "output_type": "display_data"
    }
   ],
   "source": [
    "#diagnostic plots\n",
    "plt.figure(figsize=(8,5))\n",
    "plt.plot(history.history['loss'])\n",
    "plt.plot(history.history['val_loss'])\n",
    "plt.title('Model loss')\n",
    "plt.ylabel('Loss')\n",
    "plt.xlabel('Epoch')\n",
    "plt.legend(['Train', 'Valid'], loc='upper left')\n",
    "plt.show()"
   ]
  },
  {
   "cell_type": "code",
   "execution_count": 26,
   "metadata": {},
   "outputs": [
    {
     "name": "stdout",
     "output_type": "stream",
     "text": [
      "Epoch 1/30\n",
      "4/4 [==============================] - 0s 29ms/step - loss: 382639744.0000 - val_loss: 48222711808.0000\n",
      "Epoch 2/30\n",
      "4/4 [==============================] - 0s 29ms/step - loss: 401508736.0000 - val_loss: 47053090816.0000\n",
      "Epoch 3/30\n",
      "4/4 [==============================] - 0s 29ms/step - loss: 347717600.0000 - val_loss: 50316914688.0000\n",
      "Epoch 4/30\n",
      "4/4 [==============================] - 0s 29ms/step - loss: 324468768.0000 - val_loss: 56866996224.0000\n",
      "Epoch 5/30\n",
      "4/4 [==============================] - 0s 30ms/step - loss: 343081376.0000 - val_loss: 54291136512.0000\n",
      "Epoch 6/30\n",
      "4/4 [==============================] - 0s 28ms/step - loss: 332130304.0000 - val_loss: 51331538944.0000\n",
      "Epoch 7/30\n",
      "4/4 [==============================] - 0s 29ms/step - loss: 350539616.0000 - val_loss: 48030134272.0000\n",
      "Epoch 8/30\n",
      "4/4 [==============================] - 0s 27ms/step - loss: 398011648.0000 - val_loss: 54458097664.0000\n",
      "Epoch 9/30\n",
      "4/4 [==============================] - 0s 30ms/step - loss: 364769120.0000 - val_loss: 54964322304.0000\n",
      "Epoch 10/30\n",
      "4/4 [==============================] - 0s 29ms/step - loss: 329441088.0000 - val_loss: 49989148672.0000\n",
      "Epoch 11/30\n",
      "4/4 [==============================] - 0s 28ms/step - loss: 327608224.0000 - val_loss: 58273472512.0000\n",
      "Epoch 12/30\n",
      "4/4 [==============================] - 0s 27ms/step - loss: 357884896.0000 - val_loss: 61793525760.0000\n",
      "Epoch 13/30\n",
      "4/4 [==============================] - 0s 29ms/step - loss: 405110400.0000 - val_loss: 58944520192.0000\n",
      "Epoch 14/30\n",
      "4/4 [==============================] - 0s 33ms/step - loss: 497646912.0000 - val_loss: 57470234624.0000\n",
      "Epoch 15/30\n",
      "4/4 [==============================] - 0s 32ms/step - loss: 342694592.0000 - val_loss: 44491276288.0000\n",
      "Epoch 16/30\n",
      "4/4 [==============================] - 0s 31ms/step - loss: 464692800.0000 - val_loss: 27605184512.0000\n",
      "Epoch 17/30\n",
      "4/4 [==============================] - 0s 30ms/step - loss: 1010491008.0000 - val_loss: 31143329792.0000\n",
      "Epoch 18/30\n",
      "4/4 [==============================] - 0s 35ms/step - loss: 756214848.0000 - val_loss: 34512646144.0000\n",
      "Epoch 19/30\n",
      "4/4 [==============================] - 0s 35ms/step - loss: 664719872.0000 - val_loss: 34208524288.0000\n",
      "Epoch 20/30\n",
      "4/4 [==============================] - 0s 34ms/step - loss: 790053248.0000 - val_loss: 40997515264.0000\n",
      "Epoch 21/30\n",
      "4/4 [==============================] - 0s 32ms/step - loss: 691841088.0000 - val_loss: 43718402048.0000\n",
      "Epoch 22/30\n",
      "4/4 [==============================] - 0s 33ms/step - loss: 460776512.0000 - val_loss: 52856774656.0000\n",
      "Epoch 23/30\n",
      "4/4 [==============================] - 0s 34ms/step - loss: 400100000.0000 - val_loss: 51624534016.0000\n",
      "Epoch 24/30\n",
      "4/4 [==============================] - 0s 33ms/step - loss: 403474272.0000 - val_loss: 54233575424.0000\n",
      "Epoch 25/30\n",
      "4/4 [==============================] - 0s 34ms/step - loss: 396504864.0000 - val_loss: 60506120192.0000\n",
      "Epoch 26/30\n",
      "4/4 [==============================] - 0s 31ms/step - loss: 406656416.0000 - val_loss: 65487601664.0000\n",
      "Epoch 27/30\n",
      "4/4 [==============================] - 0s 29ms/step - loss: 439558176.0000 - val_loss: 60423380992.0000\n",
      "Epoch 28/30\n",
      "4/4 [==============================] - 0s 39ms/step - loss: 346921344.0000 - val_loss: 51510960128.0000\n",
      "Epoch 29/30\n",
      "4/4 [==============================] - 0s 29ms/step - loss: 320510880.0000 - val_loss: 39440986112.0000\n",
      "Epoch 30/30\n",
      "4/4 [==============================] - 0s 44ms/step - loss: 711090496.0000 - val_loss: 30470668288.0000\n"
     ]
    }
   ],
   "source": [
    "history = model.fit(XTrain, yTrain[:,0], validation_data = (XValid, yValid), epochs=30, verbose=1)"
   ]
  },
  {
   "cell_type": "code",
   "execution_count": 27,
   "metadata": {},
   "outputs": [
    {
     "data": {
      "image/png": "[encoded data removed]",
      "text/plain": [
       "<Figure size 432x288 with 1 Axes>"
      ]
     },
     "metadata": {
      "needs_background": "light"
     },
     "output_type": "display_data"
    }
   ],
   "source": [
    "from matplotlib import pyplot\n",
    "pyplot.plot(history.history['loss'])\n",
    "pyplot.show()"
   ]
  },
  {
   "cell_type": "code",
   "execution_count": 28,
   "metadata": {},
   "outputs": [
    {
     "name": "stdout",
     "output_type": "stream",
     "text": [
      "Test MAPE: 5.3922052299956595\n",
      "Test MdSA: 5.396834387761436\n",
      "Test MSE: 56670526632.16428\n",
      "Test RMSE: 238055.72169591783\n"
     ]
    }
   ],
   "source": [
    "yPredListList = []\n",
    "for day in range(nTest):\n",
    "    yPredListList.append([])\n",
    "XTestNew = XTest.copy()\n",
    "for day in range(k):\n",
    "    yPred = model.predict(np.float32(XTestNew), verbose=0)\n",
    "    for i in range(len(yPred)):\n",
    "        yPredListList[i].append(yPred[i][0])\n",
    "    XTestNew = np.delete(XTestNew, 0, axis=1)\n",
    "    yPred = np.expand_dims(yPred, 2)\n",
    "    XTestNew = np.append(XTestNew, yPred, axis=1)\n",
    "    \n",
    "MAPE = meanAbsolutePercentageError_kDay(yTest, yPredListList)\n",
    "print('Test MAPE:', MAPE)\n",
    "MdSA = medianSymmetricAccuracy_kDay(yTest, yPredListList)\n",
    "print('Test MdSA:', MdSA)\n",
    "MSE = meanSquaredError(yTest, yPredListList)\n",
    "print('Test MSE:', MSE)\n",
    "RMSE = rootMeanSquaredError(yTest, yPredListList)\n",
    "print('Test RMSE:', RMSE)\n",
    "yPredBidirectional = yPredListList\n",
    "#Test MAPE: 5.3922052299956595\n",
    "#Test MdSA: 5.396834387761436\n",
    "#Test MSE: 56670526632.16428\n",
    "#Test RMSE: 238055.72169591783"
   ]
  },
  {
   "cell_type": "code",
   "execution_count": 30,
   "metadata": {},
   "outputs": [
    {
     "name": "stdout",
     "output_type": "stream",
     "text": [
      "Test RMSE: 357907.80456859415\n"
     ]
    }
   ],
   "source": [
    "RMSE = rootMeanSquaredError(groundTruthList, yPredBidirectional)\n",
    "print('Test RMSE:', RMSE)"
   ]
  },
  {
   "cell_type": "code",
   "execution_count": 31,
   "metadata": {},
   "outputs": [],
   "source": [
    "import matplotlib.pyplot as plt\n",
    "from matplotlib.ticker import FuncFormatter\n",
    "from matplotlib.dates import DateFormatter\n",
    "#from statsmodels.tsa.statespace.sarimax import SARIMAX\n",
    "\n",
    "# Format y tick labels\n",
    "def y_fmt(y, pos):\n",
    "    decades = [1e9, 1e6, 1e3, 1e0, 1e-3, 1e-6, 1e-9 ]\n",
    "    suffix  = [\"G\", \"M\", \"k\", \"\" , \"m\" , \"u\", \"n\"  ]\n",
    "    if y == 0:\n",
    "        return str(0)\n",
    "    for i, d in enumerate(decades):\n",
    "        if np.abs(y) >=d:\n",
    "            val = y/float(d)\n",
    "            signf = len(str(val).split(\".\")[1])\n",
    "            if signf == 0:\n",
    "                return '{val:d} {suffix}'.format(val=int(val), suffix=suffix[i])\n",
    "            else:\n",
    "                if signf == 1:\n",
    "                    if str(val).split(\".\")[1] == \"0\":\n",
    "                        return '{val:d} {suffix}'.format(val=int(round(val)), suffix=suffix[i]) \n",
    "                tx = \"{\"+\"val:.{signf}f\".format(signf = signf) +\"} {suffix}\"\n",
    "                return tx.format(val=val, suffix=suffix[i])\n",
    "\n",
    "                #return y\n",
    "    return y"
   ]
  },
  {
   "cell_type": "code",
   "execution_count": 32,
   "metadata": {},
   "outputs": [
    {
     "data": {
      "image/png": "[encoded data removed]",
      "text/plain": [
       "<Figure size 720x720 with 1 Axes>"
      ]
     },
     "metadata": {
      "needs_background": "light"
     },
     "output_type": "display_data"
    }
   ],
   "source": [
    "plt.figure(figsize=(10,10))\n",
    "datesForPlottingList = datesGreaterDaysSinceList[-k:]\n",
    "groundTruthList = nCasesGreaterDaysSinceList[-k:]\n",
    "\n",
    "\n",
    "plt.ylabel('Number of confirmed cases in US', fontsize=20)\n",
    "plt.plot(datesForPlottingList, groundTruthList, '-o', linewidth=3, label='Actual numbers of confirmed cases');\n",
    "plt.plot(datesForPlottingList, yPredVanilla[-1], '-o', linewidth=3, label='Vanilla LSTM predictions');\n",
    "plt.plot(datesForPlottingList, yPredStacked[-1], '-o', linewidth=3, label='Stacked LSTM predictions');\n",
    "plt.plot(datesForPlottingList, yPredBidirectional[-1], '-o', linewidth=3, label='Bidirectional LSTM predictions');\n",
    "plt.xlabel('Date', fontsize=20);\n",
    "plt.legend(fontsize=14);\n",
    "plt.xticks(fontsize=16);\n",
    "plt.yticks(fontsize=16);\n",
    "ax = plt.gca()\n",
    "ax.yaxis.set_major_formatter(FuncFormatter(y_fmt))\n",
    "#date_form = DateFormatter(\"%d-%m\")\n",
    "#ax.xaxis.set_major_formatter(date_form)\n",
    "# plt.grid(axis='y')\n",
    "plt.savefig(os.path.join('Plots_3days_k7_new', 'predictions_{}.png'.format(countryName)), dpi=400)\n",
    "plt.savefig(os.path.join('Plots_3days_k7_new', 'predictions_{}.pdf'.format(countryName)), dpi=400)"
   ]
  },
  {
   "cell_type": "code",
   "execution_count": 33,
   "metadata": {},
   "outputs": [
    {
     "data": {
      "text/plain": [
       "[3970121, 4038816, 4112531, 4178970, 4233923, 4290337, 4351997]"
      ]
     },
     "execution_count": 33,
     "metadata": {},
     "output_type": "execute_result"
    }
   ],
   "source": [
    "datesForPlottingList\n",
    "groundTruthList\n",
    "#yPredVanilla[-1]\n",
    "#yPredStacked[-1]\n",
    "#yPredBidirectional[-1]"
   ]
  },
  {
   "cell_type": "code",
   "execution_count": 35,
   "metadata": {},
   "outputs": [
    {
     "name": "stdout",
     "output_type": "stream",
     "text": [
      "Test RMSE: 471521.2870272715\n",
      "Test RMSE: 446800.59853170754\n",
      "Test RMSE: 357907.80456859415\n"
     ]
    }
   ],
   "source": [
    "RMSE = rootMeanSquaredError(groundTruthList, yPredVanilla)\n",
    "print('Test RMSE:', RMSE)\n",
    "RMSE = rootMeanSquaredError(groundTruthList, yPredStacked)\n",
    "print('Test RMSE:', RMSE)\n",
    "RMSE = rootMeanSquaredError(groundTruthList, yPredBidirectional)\n",
    "print('Test RMSE:', RMSE)\n",
    "\n",
    "#Test RMSE: 471521.2870272715\n",
    "#Test RMSE: 446800.59853170754\n",
    "#Test RMSE: 357907.80456859415"
   ]
  },
  {
   "cell_type": "code",
   "execution_count": 39,
   "metadata": {},
   "outputs": [],
   "source": [
    "MAPE = meanAbsolutePercentageError_kDay(yTest, yPredVanilla )"
   ]
  },
  {
   "cell_type": "code",
   "execution_count": 40,
   "metadata": {},
   "outputs": [
    {
     "data": {
      "text/plain": [
       "0.6483771438387472"
      ]
     },
     "execution_count": 40,
     "metadata": {},
     "output_type": "execute_result"
    }
   ],
   "source": [
    "MAPE"
   ]
  },
  {
   "cell_type": "code",
   "execution_count": 41,
   "metadata": {},
   "outputs": [],
   "source": [
    "MAPE = meanAbsolutePercentageError_kDay(yTest, yPredStacked )"
   ]
  },
  {
   "cell_type": "code",
   "execution_count": 42,
   "metadata": {},
   "outputs": [
    {
     "data": {
      "text/plain": [
       "1.4835551933629454"
      ]
     },
     "execution_count": 42,
     "metadata": {},
     "output_type": "execute_result"
    }
   ],
   "source": [
    "MAPE"
   ]
  },
  {
   "cell_type": "code",
   "execution_count": 43,
   "metadata": {},
   "outputs": [
    {
     "name": "stdout",
     "output_type": "stream",
     "text": [
      "Test RMSE: 38833.74045070674\n",
      "Test RMSE: 56367.72730583521\n",
      "Test RMSE: 229591.4375799083\n"
     ]
    }
   ],
   "source": [
    "RMSE = rootMeanSquaredError(groundTruthList, yPredVanilla[-1])\n",
    "print('Test RMSE:', RMSE)\n",
    "RMSE = rootMeanSquaredError(groundTruthList, yPredStacked[-1])\n",
    "print('Test RMSE:', RMSE)\n",
    "RMSE = rootMeanSquaredError(groundTruthList, yPredBidirectional[-1])\n",
    "print('Test RMSE:', RMSE)\n",
    "#Test RMSE: 38833.74045070674\n",
    "#Test RMSE: 56367.72730583521\n",
    "#Test RMSE: 229591.4375799083"
   ]
  },
  {
   "cell_type": "code",
   "execution_count": 44,
   "metadata": {},
   "outputs": [
    {
     "data": {
      "text/plain": [
       "[3970121, 4038816, 4112531, 4178970, 4233923, 4290337, 4351997]"
      ]
     },
     "execution_count": 44,
     "metadata": {},
     "output_type": "execute_result"
    }
   ],
   "source": [
    "groundTruthList\n",
    "#[3970121, 4038816, 4112531, 4178970, 4233923, 4290337, 4351997]"
   ]
  },
  {
   "cell_type": "code",
   "execution_count": 45,
   "metadata": {},
   "outputs": [
    {
     "data": {
      "text/plain": [
       "[3913773.2, 3987611.2, 4065455.8, 4143624.8, 4223461.0, 4302944.0, 4384023.0]"
      ]
     },
     "execution_count": 45,
     "metadata": {},
     "output_type": "execute_result"
    }
   ],
   "source": [
    " yPredVanilla[-1]\n",
    "##[3913773.2, 3987611.2, 4065455.8, 4143624.8, 4223461.0, 4302944.0, 4384023.0]"
   ]
  },
  {
   "cell_type": "code",
   "execution_count": 46,
   "metadata": {},
   "outputs": [
    {
     "data": {
      "text/plain": [
       "[3929361.8, 4016824.0, 4101229.8, 4189010.0, 4278433.5, 4368046.0, 4460845.0]"
      ]
     },
     "execution_count": 46,
     "metadata": {},
     "output_type": "execute_result"
    }
   ],
   "source": [
    "yPredStacked[-1]\n",
    "#[3929361.8, 4016824.0, 4101229.8, 4189010.0, 4278433.5, 4368046.0, 4460845.0]"
   ]
  },
  {
   "cell_type": "code",
   "execution_count": 47,
   "metadata": {},
   "outputs": [
    {
     "data": {
      "text/plain": [
       "[3983544.0, 4080385.2, 4220094.0, 4338333.0, 4479160.5, 4612810.5, 4759404.0]"
      ]
     },
     "execution_count": 47,
     "metadata": {},
     "output_type": "execute_result"
    }
   ],
   "source": [
    "yPredBidirectional[-1]\n",
    "#[3983544.0, 4080385.2, 4220094.0, 4338333.0, 4479160.5, 4612810.5, 4759404.0]"
   ]
  },
  {
   "cell_type": "code",
   "execution_count": null,
   "metadata": {},
   "outputs": [],
   "source": []
  }
 ],
 "metadata": {
  "kernelspec": {
   "display_name": "Python 3",
   "language": "python",
   "name": "python3"
  },
  "language_info": {
   "codemirror_mode": {
    "name": "ipython",
    "version": 3
   },
   "file_extension": ".py",
   "mimetype": "text/x-python",
   "name": "python",
   "nbconvert_exporter": "python",
   "pygments_lexer": "ipython3",
   "version": "3.7.6"
  }
 },
 "nbformat": 4,
 "nbformat_minor": 4
}

{
 "cells": [
  {
   "cell_type": "code",
   "execution_count": 1,
   "metadata": {},
   "outputs": [],
   "source": [
    "import numpy as np\n",
    "import pandas as pd\n",
    "import warnings\n",
    "import os\n",
    "\n",
    "import tensorflow as tf\n",
    "from tensorflow.keras import Sequential\n",
    "from tensorflow.keras.layers import LSTM, Dense\n",
    "from tensorflow.keras.layers import Bidirectional\n",
    "from tensorflow.keras.optimizers import Adam\n",
    "from tensorflow.keras.layers import Flatten\n",
    "from tensorflow.compat.v1.keras.layers import TimeDistributed\n",
    "warnings.simplefilter('ignore')\n",
    "\n",
    "countryName = 'US'\n",
    "\n",
    "nfeatures = 1\n",
    "\n",
    "nDaysMin = 3\n",
    "k = 7\n",
    "\n",
    "nValid = 10\n",
    "nTest = 10"
   ]
  },
  {
   "cell_type": "code",
   "execution_count": 2,
   "metadata": {},
   "outputs": [],
   "source": [
    "dataDir = os.path.join('C:\\\\Users\\\\AMC\\\\Desktop\\\\Roshi\\\\Data')\n",
    "confirmedFile = 'confirmed_july.csv'\n",
    "deathsFile = 'deaths_july.csv'\n",
    "recoveredFile = 'recovered_july.csv'"
   ]
  },
  {
   "cell_type": "code",
   "execution_count": 3,
   "metadata": {},
   "outputs": [],
   "source": [
    "# split a univariate sequence into samples\n",
    "def split_sequence(sequence, n_steps, k):\n",
    "    X, y = list(), list()\n",
    "    for i in range(len(sequence)):\n",
    "        # find the end of this pattern\n",
    "        end_ix = i + n_steps\n",
    "        # check if we are beyond the sequence\n",
    "        if end_ix + k >= len(sequence):\n",
    "            break\n",
    "        # input and output\n",
    "        seq_x, seq_y = sequence[i:end_ix], sequence[end_ix:end_ix+k]\n",
    "        X.append(seq_x)\n",
    "        y.append(seq_y)\n",
    "    return np.array(X), np.array(y)"
   ]
  },
  {
   "cell_type": "code",
   "execution_count": 4,
   "metadata": {},
   "outputs": [],
   "source": [
    "def meanAbsolutePercentageError(yTrueList, yPredList):\n",
    "    absErrorList = [np.abs(yTrue - yPred) for yTrue, yPred in zip(yTrueList, yPredList)]\n",
    "    absPcErrorList = [absError/yTrue for absError, yTrue in zip(absErrorList, yTrueList)]\n",
    "    MAPE = 100*np.mean(absPcErrorList)\n",
    "    return MAPE\n",
    "\n",
    "def meanAbsolutePercentageError_kDay(yTrueListList, yPredListList):\n",
    "    # Store true and predictions for day 1 in a list, day 2 in a list and so on\n",
    "    # Keep each list of these lists in a respective dict with key as day #\n",
    "    yTrueForDayK = {}\n",
    "    yPredForDayK = {}\n",
    "    for i in range(len(yTrueListList[0])):\n",
    "        yTrueForDayK[i] = []\n",
    "        yPredForDayK[i] = []\n",
    "    for yTrueList, yPredList in zip(yTrueListList, yPredListList):\n",
    "        for i in range(len(yTrueList)):\n",
    "            yTrueForDayK[i].append(yTrueList[i])\n",
    "            yPredForDayK[i].append(yPredList[i])\n",
    "            \n",
    "    # Get MAPE for each day in a list\n",
    "    MAPEList = []\n",
    "    for i in yTrueForDayK.keys():\n",
    "        MAPEList.append(meanAbsolutePercentageError(yTrueForDayK[i], yPredForDayK[i]))\n",
    "    return np.mean(MAPEList)\n",
    "\n",
    "def meanForecastError(yTrueList, yPredList):\n",
    "    forecastErrors = [yTrue - yPred for yTrue, yPred in zip(yTrueList, yPredList)]\n",
    "    MFE = np.mean(forecastErrors)\n",
    "    return MFE\n",
    "\n",
    "def meanAbsoluteError(yTrueList, yPredList):\n",
    "    absErrorList = [np.abs(yTrue - yPred) for yTrue, yPred in zip(yTrueList, yPredList)]\n",
    "    return np.mean(absErrorList)\n",
    "\n",
    "def meanSquaredError(yTrueList, yPredList):\n",
    "    sqErrorList = [np.square(yTrue - yPred) for yTrue, yPred in zip(yTrueList, yPredList)]\n",
    "    return np.mean(sqErrorList)\n",
    "\n",
    "def rootMeanSquaredError(yTrueList, yPredList):\n",
    "    return np.sqrt(meanSquaredError(yTrueList, yPredList))\n",
    "\n",
    "def medianSymmetricAccuracy(yTrueList, yPredList):\n",
    "    '''https://helda.helsinki.fi//bitstream/handle/10138/312261/2017SW001669.pdf?sequence=1'''\n",
    "    logAccRatioList = [np.abs(np.log(yPred/yTrue)) for yTrue, yPred in zip(yTrueList, yPredList)]\n",
    "    MdSA = 100*(np.exp(np.median(logAccRatioList))-1)\n",
    "    return MdSA\n",
    "\n",
    "def medianSymmetricAccuracy_kDay(yTrueListList, yPredListList):\n",
    "    # Store true and predictions for day 1 in a list, day 2 in a list and so on\n",
    "    # Keep each list of these lists in a respective dict with key as day #\n",
    "    yTrueForDayK = {}\n",
    "    yPredForDayK = {}\n",
    "    for i in range(len(yTrueListList[0])):\n",
    "        yTrueForDayK[i] = []\n",
    "        yPredForDayK[i] = []\n",
    "    for yTrueList, yPredList in zip(yTrueListList, yPredListList):\n",
    "        for i in range(len(yTrueList)):\n",
    "            yTrueForDayK[i].append(yTrueList[i])\n",
    "            yPredForDayK[i].append(yPredList[i])\n",
    "    # Get MdSA for each day in a list\n",
    "    MdSAList = []\n",
    "    for i in yTrueForDayK.keys():\n",
    "        MdSAList.append(medianSymmetricAccuracy(yTrueForDayK[i], yPredForDayK[i]))\n",
    "    return(np.mean(MdSAList))"
   ]
  },
  {
   "cell_type": "code",
   "execution_count": 5,
   "metadata": {},
   "outputs": [],
   "source": [
    "# All three csvs for this countru\n",
    "def getCountryDict(countryName):\n",
    "    countryDict = {}\n",
    "    for key in covidFrDict.keys():\n",
    "        dataFr = covidFrDict[key]\n",
    "        countryDict[key] = dataFr[dataFr['Country/Region'] == countryName]\n",
    "    return countryDict"
   ]
  },
  {
   "cell_type": "code",
   "execution_count": 6,
   "metadata": {},
   "outputs": [
    {
     "name": "stdout",
     "output_type": "stream",
     "text": [
      "Total size of data points for LSTM: 137\n",
      "Size of training set: 117\n",
      "Size of validation set: 10\n",
      "Size of test set: 10\n"
     ]
    },
    {
     "data": {
      "text/plain": [
       "dict"
      ]
     },
     "execution_count": 6,
     "metadata": {},
     "output_type": "execute_result"
    }
   ],
   "source": [
    "# get time series data for country\n",
    "covidFrDict = {}\n",
    "covidFrDict['confirmed'] = pd.read_csv(confirmedFile)\n",
    "covidFrDict['deaths'] = pd.read_csv(deathsFile)\n",
    "covidFrDict['recovered'] = pd.read_csv(recoveredFile)\n",
    "\n",
    "countryDict = getCountryDict(countryName)\n",
    "\n",
    "# List of dates\n",
    "colNamesList = list(countryDict['confirmed'])\n",
    "dateList = [colName for colName in colNamesList if '/20' in colName]\n",
    "dataList = [countryDict['confirmed'][date].iloc[0] for date in dateList]\n",
    "dataDict = dict(zip(dateList, dataList))\n",
    "\n",
    "# Only take time series from where the cases were >100\n",
    "daysSince = 100\n",
    "nCasesGreaterDaysSinceList = []\n",
    "datesGreaterDaysSinceList = []\n",
    "\n",
    "for key in dataDict.keys():\n",
    "    if dataDict[key] > daysSince:\n",
    "        datesGreaterDaysSinceList.append(key)\n",
    "        nCasesGreaterDaysSinceList.append(dataDict[key])\n",
    "        \n",
    "XList, yList = split_sequence(nCasesGreaterDaysSinceList, nDaysMin, k)\n",
    "\n",
    "XTrainList = XList[0:len(XList)-(nValid + nTest)]\n",
    "XValidList = XList[len(XList)-(nValid+nTest):len(XList)-(nTest)]\n",
    "XTestList = XList[-nTest:]\n",
    "\n",
    "yTrain = yList[0:len(XList)-(nValid + nTest)]\n",
    "yValid = yList[len(XList)-(nValid+nTest):len(XList)-(nTest)]\n",
    "yTest = yList[-nTest:]\n",
    "print('Total size of data points for LSTM:', len(yList))\n",
    "print('Size of training set:', len(yTrain))\n",
    "print('Size of validation set:', len(yValid))\n",
    "print('Size of test set:', len(yTest))\n",
    "type(yTrain)\n",
    "XTrainList.shape\n",
    "yTest\n",
    "dateList \n",
    "covidFrDict['confirmed']\n",
    "type(countryDict)"
   ]
  },
  {
   "cell_type": "code",
   "execution_count": 7,
   "metadata": {},
   "outputs": [],
   "source": [
    "# Convert the list to matrix\n",
    "XTrain = XTrainList.reshape((XTrainList.shape[0], XTrainList.shape[1], nfeatures))\n",
    "XValid = XValidList.reshape((XValidList.shape[0], XValidList.shape[1], nfeatures))\n",
    "XTest = XTestList.reshape((XTestList.shape[0], XTestList.shape[1], nfeatures))"
   ]
  },
  {
   "cell_type": "code",
   "execution_count": 8,
   "metadata": {},
   "outputs": [
    {
     "name": "stdout",
     "output_type": "stream",
     "text": [
      "0 0.8835397636160901\n",
      "Updating best MAPE to 0.8835397636160901...\n",
      "Updating best seed to 0...\n",
      "1 3.863818759985725\n",
      "2 1.519249136897072\n",
      "3 1.4461742875741754\n",
      "4 2.722922113317927\n",
      "5 0.35001229932502936\n",
      "Updating best MAPE to 0.35001229932502936...\n",
      "Updating best seed to 5...\n",
      "6 99.98777465715102\n",
      "7 13.622952705753766\n",
      "8 4.65159211670409\n",
      "9 3.1744333162639076\n",
      "10 3.7068948984375027\n",
      "11 0.3105106161250056\n",
      "Updating best MAPE to 0.3105106161250056...\n",
      "Updating best seed to 11...\n",
      "12 0.7946900884656907\n",
      "13 2.1590344779192945\n",
      "14 99.9903963073417\n",
      "15 2.3561277933507827\n",
      "16 1.7025164006478486\n",
      "17 1.1610784090418422\n",
      "18 1.0873696327988736\n",
      "19 99.98759479257062\n",
      "20 99.98789772928987\n",
      "21 1.5953971076674198\n",
      "22 99.98741255860394\n",
      "23 3.4199245146157233\n",
      "24 0.6275024215143841\n",
      "25 99.9874262262728\n",
      "26 3.3824412599035125\n",
      "27 99.9874823098406\n",
      "28 2.9858169930154115\n",
      "29 1.857580298821766\n",
      "30 0.6435023973485808\n",
      "31 2.1690706831602937\n",
      "32 99.98782803922997\n",
      "33 1.1707699110503331\n",
      "34 3.720122231070103\n",
      "35 5.173871825590276\n",
      "36 0.6390297283683359\n",
      "37 3.04019339226163\n",
      "38 2.1994602055511225\n",
      "39 3.598527712222119\n",
      "40 2.192783145357447\n",
      "41 0.34212768619358797\n",
      "42 3.0212215872233594\n",
      "43 2.5379367206799883\n",
      "44 1.816653624196915\n",
      "45 99.98758729404564\n",
      "46 0.34507122896399517\n",
      "47 0.4546432267100207\n",
      "48 1.130130257553164\n",
      "49 1.4175900565384747\n",
      "50 0.7949486001014502\n",
      "51 3.3647524903490904\n",
      "52 0.29253246261463633\n",
      "Updating best MAPE to 0.29253246261463633...\n",
      "Updating best seed to 52...\n",
      "53 99.98763821740081\n",
      "54 3.102525463537892\n",
      "55 4.6403130433266995\n",
      "56 2.5347559559720216\n",
      "57 0.9749515488392293\n",
      "58 0.45102958426246786\n",
      "59 6.3231516830803\n",
      "60 1.987075543117042\n",
      "61 2.100045654628989\n",
      "62 8.974908460714007\n",
      "63 99.99002830669873\n",
      "64 0.8068698514111085\n",
      "65 99.9875135973924\n",
      "66 0.6788929187148813\n",
      "67 4.864882422220619\n",
      "68 1.4265065063318736\n",
      "69 2.0002723145710464\n",
      "70 23.93866340043181\n",
      "71 0.3721458967180354\n",
      "72 0.3053142386276318\n",
      "73 0.8134862252743834\n",
      "74 2.001998152730891\n",
      "75 0.4089071528874347\n",
      "76 0.4328406017998408\n",
      "77 2.7884023921660295\n",
      "78 0.8649097469138631\n",
      "79 1.6429832668535462\n",
      "80 1.7301482902931418\n",
      "81 2.712697092685254\n",
      "82 1.1089920801203572\n",
      "83 4.237282726446209\n",
      "84 0.770697322174005\n",
      "85 0.9720407082519337\n",
      "86 1.7462111576232588\n",
      "87 2.7830795324396216\n",
      "88 0.5594383715554617\n",
      "89 4.576252005749642\n",
      "90 1.1073096280957402\n",
      "91 2.976818219314112\n",
      "92 13.631698791036749\n",
      "93 3.8298169907889608\n",
      "94 2.4964669615841037\n",
      "95 1.502466749623476\n",
      "96 1.2218637194528035\n",
      "97 3.721713121159522\n",
      "98 4.56183833610329\n",
      "99 4.4949445113044835\n",
      "Training model with best seed...\n"
     ]
    }
   ],
   "source": [
    "import matplotlib.pyplot as plt\n",
    "from sklearn.metrics import accuracy_score\n",
    "from matplotlib import pyplot\n",
    "\n",
    "neurons = 100 # number of neurones\n",
    "nfeatures = 1  # number of features\n",
    "\n",
    "#getting the best MAPE to use for model fitting\n",
    "bestValidMAPE = 100 #100 validation for selecting the best MAPE\n",
    "bestSeed = -1\n",
    "for seed in range(100):\n",
    "    tf.random.set_seed(seed=seed)\n",
    "    \n",
    "    # define model\n",
    "    model = Sequential()\n",
    "    model.add(LSTM(neurons, activation='relu', input_shape=(nDaysMin, nfeatures)))\n",
    "    model.add(Dense(1))\n",
    "    opt = Adam(learning_rate=0.1)\n",
    "    model.compile(optimizer=opt, loss='mse')\n",
    "\n",
    "    # fit model\n",
    "   \n",
    "    history = model.fit(XTrain, yTrain[:,0], epochs=1000, verbose=0)\n",
    "    yPredListList = []\n",
    "    for day in range(nTest):\n",
    "        yPredListList.append([])\n",
    "    XValidNew = XValid.copy()\n",
    "    for day in range(k):\n",
    "        yPred = model.predict(np.float32(XValidNew), verbose=0)\n",
    "        for i in range(len(yPred)):\n",
    "            yPredListList[i].append(yPred[i][0])\n",
    "        XValidNew = np.delete(XValidNew, 0, axis=1)\n",
    "        yPred = np.expand_dims(yPred, 2)\n",
    "        XValidNew = np.append(XValidNew, yPred, axis=1)\n",
    "\n",
    "#     for yTrue, yPred in zip(yTest, yPredList):\n",
    "#         print(yTrue, yPred)\n",
    "    \n",
    "    MAPE = meanAbsolutePercentageError_kDay(yValid, yPredListList)\n",
    "    print(seed, MAPE)\n",
    "    if MAPE < bestValidMAPE:\n",
    "        print('Updating best MAPE to {}...'.format(MAPE))\n",
    "        bestValidMAPE = MAPE\n",
    "        print('Updating best seed to {}...'.format(seed))\n",
    "        bestSeed = seed\n",
    "\n",
    "print('Training model with best seed...')\n",
    "tf.random.set_seed(seed=bestSeed)\n",
    "   "
   ]
  },
  {
   "cell_type": "code",
   "execution_count": 9,
   "metadata": {},
   "outputs": [
    {
     "name": "stdout",
     "output_type": "stream",
     "text": [
      "Model: \"sequential_100\"\n",
      "_________________________________________________________________\n",
      "Layer (type)                 Output Shape              Param #   \n",
      "=================================================================\n",
      "lstm_100 (LSTM)              (None, 100)               40800     \n",
      "_________________________________________________________________\n",
      "dense_100 (Dense)            (None, 1)                 101       \n",
      "=================================================================\n",
      "Total params: 40,901\n",
      "Trainable params: 40,901\n",
      "Non-trainable params: 0\n",
      "_________________________________________________________________\n"
     ]
    }
   ],
   "source": [
    "# define model\n",
    "model = Sequential()\n",
    "model.add(LSTM(neurons, activation='relu', input_shape=(nDaysMin, nfeatures)))\n",
    "model.add(Dense(1))\n",
    "opt = Adam(learning_rate=0.1)\n",
    "model.compile(optimizer=opt, loss='mse')\n",
    "model.summary()\n",
    "\n",
    "history = model.fit(XTrain, yTrain[:,0], validation_data = (XValid, yValid), epochs=1000, verbose=0)"
   ]
  },
  {
   "cell_type": "code",
   "execution_count": 10,
   "metadata": {},
   "outputs": [
    {
     "data": {
      "image/png": "[encoded data removed]",
      "text/plain": [
       "<Figure size 576x360 with 1 Axes>"
      ]
     },
     "metadata": {
      "needs_background": "light"
     },
     "output_type": "display_data"
    }
   ],
   "source": [
    "plt.figure(figsize=(8,5))\n",
    "plt.plot(history.history['loss'])\n",
    "plt.plot(history.history['val_loss'])\n",
    "plt.title('Model loss')\n",
    "plt.ylabel('Loss')\n",
    "plt.xlabel('Epoch')\n",
    "plt.legend(['Train', 'Valid'], loc='upper left')\n",
    "plt.show()"
   ]
  },
  {
   "cell_type": "code",
   "execution_count": 11,
   "metadata": {},
   "outputs": [
    {
     "name": "stdout",
     "output_type": "stream",
     "text": [
      "Test MAPE: 0.5682699856360909\n",
      "Test MdSA: 0.5784749446231118\n",
      "Test MSE: 970889716.2517858\n",
      "Test RMSE: 31159.103264564368\n"
     ]
    }
   ],
   "source": [
    "yPredListList = []\n",
    "for day in range(nTest):\n",
    "    yPredListList.append([])\n",
    "XTestNew = XTest.copy()\n",
    "for day in range(k):\n",
    "    yPred = model.predict(np.float32(XTestNew), verbose=0)\n",
    "    for i in range(len(yPred)):\n",
    "        yPredListList[i].append(yPred[i][0])\n",
    "    XTestNew = np.delete(XTestNew, 0, axis=1)\n",
    "    yPred = np.expand_dims(yPred, 2)\n",
    "    XTestNew = np.append(XTestNew, yPred, axis=1)\n",
    "MAPE = meanAbsolutePercentageError_kDay(yTest, yPredListList)\n",
    "print('Test MAPE:', MAPE)\n",
    "MdSA = medianSymmetricAccuracy_kDay(yTest, yPredListList)\n",
    "print('Test MdSA:', MdSA)\n",
    "MSE = meanSquaredError(yTest, yPredListList)\n",
    "print('Test MSE:', MSE)\n",
    "RMSE = rootMeanSquaredError(yTest, yPredListList)\n",
    "print('Test RMSE:', RMSE)\n",
    "yPredVanilla = yPredListList \n",
    "#Test MAPE: 0.04888603859343367\n",
    "#Test MdSA: 0.05161317825322761\n",
    "#Test MSE: 203428.25474330358\n",
    "#Test RMSE: 451.03021488953885"
   ]
  },
  {
   "cell_type": "code",
   "execution_count": 14,
   "metadata": {},
   "outputs": [
    {
     "name": "stdout",
     "output_type": "stream",
     "text": [
      "0 64.10075229056032\n",
      "Updating best MAPE to 64.10075229056032...\n",
      "Updating best seed to 0...\n",
      "1 62.64445246235495\n",
      "Updating best MAPE to 62.64445246235495...\n",
      "Updating best seed to 1...\n",
      "2 65.45621153531224\n",
      "3 63.52274757366451\n",
      "4 0.492240650942267\n",
      "Updating best MAPE to 0.492240650942267...\n",
      "Updating best seed to 4...\n",
      "5 64.21740328379678\n",
      "6 65.16160493349722\n",
      "7 6.049912798236957\n",
      "8 2.6724241150318133\n",
      "9 64.0410744570047\n",
      "10 63.86880264102485\n",
      "11 1.3822677014627092\n",
      "12 64.68279015349893\n",
      "13 2.5579166761955605\n",
      "14 2.74288824255369\n",
      "15 0.8091042023555197\n",
      "16 2.1037713009624377\n",
      "17 1.69015388273751\n",
      "18 0.9613601185929369\n",
      "19 7.215138805789456\n",
      "20 0.3433433507254334\n",
      "Updating best MAPE to 0.3433433507254334...\n",
      "Updating best seed to 20...\n",
      "21 63.85888682930436\n",
      "22 65.4331502130678\n",
      "23 1.4272112120299043\n",
      "24 1.2189073238671289\n",
      "25 10.787991621988272\n",
      "26 2.5567389150195794\n",
      "27 1.274420686606989\n",
      "28 64.16062863310636\n",
      "29 3.8566214878741696\n",
      "30 3.278858253901346\n",
      "31 1.3701770884521924\n",
      "32 1.9278822443051258\n",
      "33 2.6474287945508905\n",
      "34 63.295535080871524\n",
      "35 7.154161368074911\n",
      "36 12.36832980495777\n",
      "37 8.268170052488724\n",
      "38 0.3316776628094704\n",
      "Updating best MAPE to 0.3316776628094704...\n",
      "Updating best seed to 38...\n",
      "39 63.07080054664329\n",
      "40 62.40525190035799\n",
      "41 1.377993572047395\n",
      "42 2.744092245738242\n",
      "43 63.62891000071285\n",
      "44 1.3926722202838853\n",
      "45 62.9985937091087\n",
      "46 4.248908277701439\n",
      "47 0.6800026637182076\n",
      "48 63.47114398711754\n",
      "49 2.3228830044193196\n",
      "50 0.6302589324165371\n",
      "51 0.3297511384359746\n",
      "Updating best MAPE to 0.3297511384359746...\n",
      "Updating best seed to 51...\n",
      "52 63.65183608926356\n",
      "53 1.4121771485131565\n",
      "54 12.430858973921755\n",
      "55 63.70708303061838\n",
      "56 64.17552061335286\n",
      "57 63.297153907734845\n",
      "58 63.879967375681645\n",
      "59 62.495949956780905\n",
      "60 1.6818568539566352\n",
      "61 5.611095059899168\n",
      "62 0.7509255250422503\n",
      "63 3.358448752406392\n",
      "64 1.3922054590241828\n",
      "65 2.307786116546254\n",
      "66 0.6922647621731601\n",
      "67 4.0469757754995745\n",
      "68 64.7767537058795\n",
      "69 64.13753585525792\n",
      "70 7.728928269213214\n",
      "71 63.51232662432327\n",
      "72 0.372317973023789\n",
      "73 63.990699906086135\n",
      "74 65.7433961938178\n",
      "75 63.42095637689325\n",
      "76 2.0408018750775994\n",
      "77 5.48628877690592\n",
      "78 2.2842110994547262\n",
      "79 3.022559711351899\n",
      "80 9.802054768748537\n",
      "81 0.6865103738078335\n",
      "82 64.0899690281266\n",
      "83 63.10176508504843\n",
      "84 2.2946762633391304\n",
      "85 63.73268992827441\n",
      "86 0.6812611325953105\n",
      "87 11.677477792546624\n",
      "88 2.738373588504259\n",
      "89 0.4218670320535255\n",
      "90 65.04272258431403\n",
      "91 2.464156696095919\n",
      "92 63.52128820935305\n",
      "93 3.354721991585532\n",
      "94 63.45681319304255\n",
      "95 2.2589058309458907\n",
      "96 65.2707385243463\n",
      "97 99.98773507189189\n",
      "98 63.86698096362092\n",
      "99 63.526856291477294\n",
      "Training model with best seed...\n"
     ]
    }
   ],
   "source": [
    "neurons = 50\n",
    "nfeatures = 1\n",
    "\n",
    "bestValidMAPE = 100\n",
    "bestSeed = -1\n",
    "for seed in range(100):\n",
    "    tf.random.set_seed(seed=seed)\n",
    "    model = Sequential()\n",
    "    model.add(LSTM(neurons, activation='relu', return_sequences=True, input_shape=(nDaysMin, nfeatures)))\n",
    "    model.add(LSTM(neurons, activation='relu'))\n",
    "    model.add(Dense(1))\n",
    "    opt = Adam(learning_rate=0.1)\n",
    "    model.compile(optimizer=opt, loss='mse')\n",
    "\n",
    "    # fit model\n",
    "    history = model.fit(XTrain, yTrain[:,0], epochs=1000, verbose=0)\n",
    "\n",
    "    yPredListList = []\n",
    "    for day in range(nTest):\n",
    "        yPredListList.append([])\n",
    "    XValidNew = XValid.copy()\n",
    "    for day in range(k):\n",
    "        yPred = model.predict(np.float32(XValidNew), verbose=0)\n",
    "        for i in range(len(yPred)):\n",
    "            yPredListList[i].append(yPred[i][0])\n",
    "        XValidNew = np.delete(XValidNew, 0, axis=1)\n",
    "        yPred = np.expand_dims(yPred, 2)\n",
    "        XValidNew = np.append(XValidNew, yPred, axis=1)\n",
    "        \n",
    "        \n",
    "#     for yTrue, yPred in zip(yTest, yPredList):\n",
    "#         print(yTrue, yPred)\n",
    "\n",
    "    MAPE = meanAbsolutePercentageError_kDay(yValid, yPredListList)\n",
    "    print(seed, MAPE)\n",
    "    if MAPE < bestValidMAPE:\n",
    "        print('Updating best MAPE to {}...'.format(MAPE))\n",
    "        bestValidMAPE = MAPE\n",
    "        print('Updating best seed to {}...'.format(seed))\n",
    "        bestSeed = seed\n",
    "        \n",
    "# define model\n",
    "print('Training model with best seed...')\n",
    "tf.random.set_seed(seed=bestSeed)\n",
    "model = Sequential()\n",
    "model.add(LSTM(neurons, activation='relu', return_sequences=True, input_shape=(nDaysMin, nfeatures)))\n",
    "model.add(LSTM(neurons, activation='relu'))\n",
    "model.add(Dense(1))\n",
    "opt = Adam(learning_rate=0.1)\n",
    "model.compile(optimizer=opt, loss='mse')\n",
    "\n",
    "# fit model\n",
    "history = model.fit(XTrain, yTrain[:,0], validation_data = (XValid, yValid), epochs=1000, verbose=0)\n",
    "\n"
   ]
  },
  {
   "cell_type": "code",
   "execution_count": 15,
   "metadata": {},
   "outputs": [
    {
     "name": "stdout",
     "output_type": "stream",
     "text": [
      "Model: \"sequential_201\"\n",
      "_________________________________________________________________\n",
      "Layer (type)                 Output Shape              Param #   \n",
      "=================================================================\n",
      "lstm_301 (LSTM)              (None, 3, 50)             10400     \n",
      "_________________________________________________________________\n",
      "lstm_302 (LSTM)              (None, 50)                20200     \n",
      "_________________________________________________________________\n",
      "dense_201 (Dense)            (None, 1)                 51        \n",
      "=================================================================\n",
      "Total params: 30,651\n",
      "Trainable params: 30,651\n",
      "Non-trainable params: 0\n",
      "_________________________________________________________________\n"
     ]
    }
   ],
   "source": [
    "model.summary()"
   ]
  },
  {
   "cell_type": "code",
   "execution_count": 16,
   "metadata": {},
   "outputs": [
    {
     "data": {
      "image/png": "[encoded data removed]",
      "text/plain": [
       "<Figure size 576x360 with 1 Axes>"
      ]
     },
     "metadata": {
      "needs_background": "light"
     },
     "output_type": "display_data"
    }
   ],
   "source": [
    "#diagnostic plots\n",
    "plt.figure(figsize=(8,5))\n",
    "plt.plot(history.history['loss'])\n",
    "plt.plot(history.history['val_loss'])\n",
    "plt.title('Model loss')\n",
    "plt.ylabel('Loss')\n",
    "plt.xlabel('Epoch')\n",
    "plt.legend(['Train', 'Valid'], loc='upper left')\n",
    "plt.show()"
   ]
  },
  {
   "cell_type": "code",
   "execution_count": 17,
   "metadata": {},
   "outputs": [
    {
     "name": "stdout",
     "output_type": "stream",
     "text": [
      "Test MAPE: 0.4599537981572653\n",
      "Test MdSA: 0.4473094887633192\n",
      "Test MSE: 540162740.1964285\n",
      "Test RMSE: 23241.401424966363\n"
     ]
    }
   ],
   "source": [
    "yPredListList = []\n",
    "for day in range(nTest):\n",
    "    yPredListList.append([])\n",
    "XTestNew = XTest.copy()\n",
    "for day in range(k):\n",
    "    yPred = model.predict(np.float32(XTestNew), verbose=0)\n",
    "    for i in range(len(yPred)):\n",
    "        yPredListList[i].append(yPred[i][0])\n",
    "    XTestNew = np.delete(XTestNew, 0, axis=1)\n",
    "    yPred = np.expand_dims(yPred, 2)\n",
    "    XTestNew = np.append(XTestNew, yPred, axis=1)\n",
    "    \n",
    "MAPE = meanAbsolutePercentageError_kDay(yTest, yPredListList)\n",
    "print('Test MAPE:', MAPE)\n",
    "MdSA = medianSymmetricAccuracy_kDay(yTest, yPredListList)\n",
    "print('Test MdSA:', MdSA)\n",
    "MSE = meanSquaredError(yTest, yPredListList)\n",
    "print('Test MSE:', MSE)\n",
    "RMSE = rootMeanSquaredError(yTest, yPredListList)\n",
    "print('Test RMSE:', RMSE)\n",
    "yPredStacked = yPredListList\n",
    "#Test MAPE: 0.6526826190135445\n",
    "#Test MdSA: 0.6277125989801505\n",
    "#Test MSE: 37158961.193359375\n",
    "#Test RMSE: 6095.815055704969"
   ]
  },
  {
   "cell_type": "markdown",
   "metadata": {},
   "source": [
    "# Bi-directional LSTM"
   ]
  },
  {
   "cell_type": "code",
   "execution_count": 18,
   "metadata": {},
   "outputs": [
    {
     "name": "stdout",
     "output_type": "stream",
     "text": [
      "0 0.7486884333707\n",
      "Updating best MAPE to 0.7486884333707...\n",
      "Updating best seed to 0...\n",
      "1 1.302434516868363\n",
      "2 1.3169397425198532\n",
      "3 0.9959957289624661\n",
      "4 0.3620430919187429\n",
      "Updating best MAPE to 0.3620430919187429...\n",
      "Updating best seed to 4...\n",
      "5 0.8562678484776939\n",
      "6 2.481715468539363\n",
      "7 1.4056750711898351\n",
      "8 1.1950033994944036\n",
      "9 4.920297755486488\n",
      "10 4.2330107742138035\n",
      "11 2.982974720949423\n",
      "12 4.718453102369218\n",
      "13 1.1891492275442033\n",
      "14 0.8853941349463071\n",
      "15 3.3794279550178428\n",
      "16 2.9200222898437964\n",
      "17 7.288274294074865\n",
      "18 4.14032976510308\n",
      "19 3.2647395226679947\n",
      "20 4.31702986625833\n",
      "21 11.603366825436748\n",
      "22 1.7278783539043119\n",
      "23 1.5326307895388713\n",
      "24 0.6308441256134387\n",
      "25 0.83771578673928\n",
      "26 1.9747884063308077\n",
      "27 2.543317191922436\n",
      "28 1.3012964282036072\n",
      "29 10.512527947960669\n",
      "30 0.2914509946999217\n",
      "Updating best MAPE to 0.2914509946999217...\n",
      "Updating best seed to 30...\n",
      "31 0.6660709717703515\n",
      "32 5.9657038914420735\n",
      "33 1.7995120222333334\n",
      "34 99.99399231180948\n",
      "35 1.2203203608325701\n",
      "36 99.99624428384462\n",
      "37 7.9215044453225945\n",
      "38 3.6004101048468544\n",
      "39 2.354785750790915\n",
      "40 8.300555220729315\n",
      "41 1.812518315376082\n",
      "42 3.8688521569552896\n",
      "43 0.2936001869436971\n",
      "44 7.626503813677766\n",
      "45 0.9748654765380994\n",
      "46 7.606164345961521\n",
      "47 0.8175740265227466\n",
      "48 0.8496263056743215\n",
      "49 0.3182091928811044\n",
      "50 2.0528257965726984\n",
      "51 2.13693480051198\n",
      "52 2.3317783542561297\n",
      "53 99.99222071585176\n",
      "54 1.7462678205367148\n",
      "55 1.2733620110094692\n",
      "56 1.751692776178622\n",
      "57 1.5947696995325207\n",
      "58 6.700011554039177\n",
      "59 0.33893571097083275\n",
      "60 99.98918441286365\n",
      "61 99.98779488627203\n",
      "62 1.4246062886540376\n",
      "63 2.0193400158015913\n",
      "64 0.9900965442584998\n",
      "65 3.2782402812209273\n",
      "66 1.9679752310242111\n",
      "67 1.3160749312178877\n",
      "68 0.9509768259011453\n",
      "69 2.2415802971473537\n",
      "70 2.6761669759742612\n",
      "71 7.583010877934954\n",
      "72 2.0520717800904285\n",
      "73 99.98842359418536\n",
      "74 1.6159239844917743\n",
      "75 2.411547511011723\n",
      "76 1.8515312386445193\n",
      "77 0.614526543097455\n",
      "78 0.33940796460432543\n",
      "79 2.0003302286497537\n",
      "80 0.9932488041471311\n",
      "81 0.3104144553032002\n",
      "82 2.1969533187249417\n",
      "83 3.3592726641566997\n",
      "84 99.99076447210031\n",
      "85 5.272198843932107\n",
      "86 3.181721939344451\n",
      "87 3.2667144429234223\n",
      "88 1.3224987300629234\n",
      "89 1.8024899340118787\n",
      "90 2.757304892447501\n",
      "91 1.9093107977892292\n",
      "92 1.5556216617535488\n",
      "93 1.2700340067414702\n",
      "94 0.4066196511778039\n",
      "95 1.5953456449167838\n",
      "96 2.6572710241578394\n",
      "97 4.439305516457587\n",
      "98 4.045276023141122\n",
      "99 1.5926068911214681\n",
      "Training model with best seed...\n"
     ]
    }
   ],
   "source": [
    "# define model\n",
    "neurons = 50\n",
    "nfeatures = 1\n",
    "\n",
    "bestValidMAPE = 100\n",
    "bestSeed = -1\n",
    "for seed in range(100):\n",
    "    tf.random.set_seed(seed=seed)\n",
    "    model = Sequential()\n",
    "    model.add(Bidirectional(LSTM(neurons, activation='relu'), input_shape=(nDaysMin, nfeatures)))\n",
    "    model.add(Dense(1))\n",
    "    opt = Adam(learning_rate=0.1)\n",
    "    model.compile(optimizer=opt, loss='mse')\n",
    "\n",
    "    # fit model\n",
    "    history = model.fit(XTrain, yTrain[:,0], epochs=1000, verbose=0)\n",
    "\n",
    "    yPredListList = []\n",
    "    for day in range(nTest):\n",
    "        yPredListList.append([])\n",
    "    XValidNew = XValid.copy()\n",
    "    for day in range(k):\n",
    "        yPred = model.predict(np.float32(XValidNew), verbose=0)\n",
    "        for i in range(len(yPred)):\n",
    "            yPredListList[i].append(yPred[i][0])\n",
    "        XValidNew = np.delete(XValidNew, 0, axis=1)\n",
    "        yPred = np.expand_dims(yPred, 2)\n",
    "        XValidNew = np.append(XValidNew, yPred, axis=1)\n",
    "\n",
    "#     for yTrue, yPred in zip(yTest, yPredList):\n",
    "#         print(yTrue, yPred)\n",
    "    MAPE = meanAbsolutePercentageError_kDay(yValid, yPredListList)\n",
    "    print(seed, MAPE)\n",
    "    if MAPE < bestValidMAPE:\n",
    "        print('Updating best MAPE to {}...'.format(MAPE))\n",
    "        bestValidMAPE = MAPE\n",
    "        print('Updating best seed to {}...'.format(seed))\n",
    "        bestSeed = seed\n",
    "# define model\n",
    "print('Training model with best seed...')\n",
    "tf.random.set_seed(seed=bestSeed)\n",
    "model = Sequential()\n",
    "model.add(Bidirectional(LSTM(neurons, activation='relu'), input_shape=(nDaysMin, nfeatures)))\n",
    "model.add(Dense(1))\n",
    "opt = Adam(learning_rate=0.1)\n",
    "model.compile(optimizer=opt, loss='mse')\n",
    "\n",
    "# fit model\n",
    "history = model.fit(XTrain, yTrain[:,0], validation_data = (XValid, yValid), epochs=1000, verbose=0)\n",
    "\n"
   ]
  },
  {
   "cell_type": "code",
   "execution_count": 19,
   "metadata": {},
   "outputs": [
    {
     "name": "stdout",
     "output_type": "stream",
     "text": [
      "Model: \"sequential_302\"\n",
      "_________________________________________________________________\n",
      "Layer (type)                 Output Shape              Param #   \n",
      "=================================================================\n",
      "bidirectional_100 (Bidirecti (None, 100)               20800     \n",
      "_________________________________________________________________\n",
      "dense_302 (Dense)            (None, 1)                 101       \n",
      "=================================================================\n",
      "Total params: 20,901\n",
      "Trainable params: 20,901\n",
      "Non-trainable params: 0\n",
      "_________________________________________________________________\n"
     ]
    }
   ],
   "source": [
    "model.summary()"
   ]
  },
  {
   "cell_type": "code",
   "execution_count": 20,
   "metadata": {},
   "outputs": [
    {
     "data": {
      "image/png": "[encoded data removed]",
      "text/plain": [
       "<Figure size 576x360 with 1 Axes>"
      ]
     },
     "metadata": {
      "needs_background": "light"
     },
     "output_type": "display_data"
    }
   ],
   "source": [
    "#diagnostic plots\n",
    "plt.figure(figsize=(8,5))\n",
    "plt.plot(history.history['loss'])\n",
    "plt.plot(history.history['val_loss'])\n",
    "plt.title('Model loss')\n",
    "plt.ylabel('Loss')\n",
    "plt.xlabel('Epoch')\n",
    "plt.legend(['Train', 'Valid'], loc='upper left')\n",
    "plt.show()"
   ]
  },
  {
   "cell_type": "code",
   "execution_count": 21,
   "metadata": {},
   "outputs": [
    {
     "name": "stdout",
     "output_type": "stream",
     "text": [
      "Epoch 1/30\n",
      "4/4 [==============================] - 0s 19ms/step - loss: 175256416.0000 - val_loss: 51713204224.0000\n",
      "Epoch 2/30\n",
      "4/4 [==============================] - 0s 20ms/step - loss: 206423648.0000 - val_loss: 45337227264.0000\n",
      "Epoch 3/30\n",
      "4/4 [==============================] - 0s 20ms/step - loss: 223094000.0000 - val_loss: 42014408704.0000\n",
      "Epoch 4/30\n",
      "4/4 [==============================] - 0s 20ms/step - loss: 204619008.0000 - val_loss: 41866629120.0000\n",
      "Epoch 5/30\n",
      "4/4 [==============================] - 0s 27ms/step - loss: 219453296.0000 - val_loss: 41535995904.0000\n",
      "Epoch 6/30\n",
      "4/4 [==============================] - 0s 23ms/step - loss: 270903520.0000 - val_loss: 43544432640.0000\n",
      "Epoch 7/30\n",
      "4/4 [==============================] - 0s 23ms/step - loss: 259145968.0000 - val_loss: 45048422400.0000\n",
      "Epoch 8/30\n",
      "4/4 [==============================] - 0s 23ms/step - loss: 260430224.0000 - val_loss: 60176728064.0000\n",
      "Epoch 9/30\n",
      "4/4 [==============================] - 0s 26ms/step - loss: 256484320.0000 - val_loss: 55958085632.0000\n",
      "Epoch 10/30\n",
      "4/4 [==============================] - 0s 21ms/step - loss: 192261056.0000 - val_loss: 49485320192.0000\n",
      "Epoch 11/30\n",
      "4/4 [==============================] - 0s 27ms/step - loss: 175122384.0000 - val_loss: 50686709760.0000\n",
      "Epoch 12/30\n",
      "4/4 [==============================] - 0s 23ms/step - loss: 161862944.0000 - val_loss: 51681255424.0000\n",
      "Epoch 13/30\n",
      "4/4 [==============================] - 0s 23ms/step - loss: 182346528.0000 - val_loss: 53172690944.0000\n",
      "Epoch 14/30\n",
      "4/4 [==============================] - 0s 23ms/step - loss: 187624848.0000 - val_loss: 46817366016.0000\n",
      "Epoch 15/30\n",
      "4/4 [==============================] - 0s 24ms/step - loss: 165629184.0000 - val_loss: 44592619520.0000\n",
      "Epoch 16/30\n",
      "4/4 [==============================] - 0s 22ms/step - loss: 213605552.0000 - val_loss: 37722316800.0000\n",
      "Epoch 17/30\n",
      "4/4 [==============================] - 0s 22ms/step - loss: 356531392.0000 - val_loss: 36143845376.0000\n",
      "Epoch 18/30\n",
      "4/4 [==============================] - 0s 26ms/step - loss: 390765632.0000 - val_loss: 41822699520.0000\n",
      "Epoch 19/30\n",
      "4/4 [==============================] - 0s 22ms/step - loss: 341582400.0000 - val_loss: 45952978944.0000\n",
      "Epoch 20/30\n",
      "4/4 [==============================] - 0s 23ms/step - loss: 288854432.0000 - val_loss: 49058328576.0000\n",
      "Epoch 21/30\n",
      "4/4 [==============================] - 0s 23ms/step - loss: 290258464.0000 - val_loss: 57848045568.0000\n",
      "Epoch 22/30\n",
      "4/4 [==============================] - 0s 25ms/step - loss: 294948960.0000 - val_loss: 68751802368.0000\n",
      "Epoch 23/30\n",
      "4/4 [==============================] - 0s 21ms/step - loss: 440062336.0000 - val_loss: 65893490688.0000\n",
      "Epoch 24/30\n",
      "4/4 [==============================] - 0s 20ms/step - loss: 465826112.0000 - val_loss: 60015661056.0000\n",
      "Epoch 25/30\n",
      "4/4 [==============================] - 0s 20ms/step - loss: 363689856.0000 - val_loss: 46923132928.0000\n",
      "Epoch 26/30\n",
      "4/4 [==============================] - 0s 20ms/step - loss: 175418688.0000 - val_loss: 44734476288.0000\n",
      "Epoch 27/30\n",
      "4/4 [==============================] - 0s 20ms/step - loss: 208931232.0000 - val_loss: 41491091456.0000\n",
      "Epoch 28/30\n",
      "4/4 [==============================] - 0s 22ms/step - loss: 221926112.0000 - val_loss: 41428279296.0000\n",
      "Epoch 29/30\n",
      "4/4 [==============================] - 0s 21ms/step - loss: 207975840.0000 - val_loss: 43657584640.0000\n",
      "Epoch 30/30\n",
      "4/4 [==============================] - 0s 20ms/step - loss: 173664768.0000 - val_loss: 43542859776.0000\n"
     ]
    }
   ],
   "source": [
    "history = model.fit(XTrain, yTrain[:,0], validation_data = (XValid, yValid), epochs=30, verbose=1)"
   ]
  },
  {
   "cell_type": "code",
   "execution_count": 22,
   "metadata": {},
   "outputs": [
    {
     "data": {
      "image/png": "[encoded data removed]",
      "text/plain": [
       "<Figure size 432x288 with 1 Axes>"
      ]
     },
     "metadata": {
      "needs_background": "light"
     },
     "output_type": "display_data"
    }
   ],
   "source": [
    "from matplotlib import pyplot\n",
    "pyplot.plot(history.history['loss'])\n",
    "pyplot.show()"
   ]
  },
  {
   "cell_type": "code",
   "execution_count": 23,
   "metadata": {},
   "outputs": [
    {
     "name": "stdout",
     "output_type": "stream",
     "text": [
      "Test MAPE: 1.3115236058854536\n",
      "Test MdSA: 1.3762808178734969\n",
      "Test MSE: 4099395458.8776784\n",
      "Test RMSE: 64026.521527236495\n"
     ]
    }
   ],
   "source": [
    "yPredListList = []\n",
    "for day in range(nTest):\n",
    "    yPredListList.append([])\n",
    "XTestNew = XTest.copy()\n",
    "for day in range(k):\n",
    "    yPred = model.predict(np.float32(XTestNew), verbose=0)\n",
    "    for i in range(len(yPred)):\n",
    "        yPredListList[i].append(yPred[i][0])\n",
    "    XTestNew = np.delete(XTestNew, 0, axis=1)\n",
    "    yPred = np.expand_dims(yPred, 2)\n",
    "    XTestNew = np.append(XTestNew, yPred, axis=1)\n",
    "    \n",
    "MAPE = meanAbsolutePercentageError_kDay(yTest, yPredListList)\n",
    "print('Test MAPE:', MAPE)\n",
    "MdSA = medianSymmetricAccuracy_kDay(yTest, yPredListList)\n",
    "print('Test MdSA:', MdSA)\n",
    "MSE = meanSquaredError(yTest, yPredListList)\n",
    "print('Test MSE:', MSE)\n",
    "RMSE = rootMeanSquaredError(yTest, yPredListList)\n",
    "print('Test RMSE:', RMSE)\n",
    "yPredBidirectional = yPredListList\n",
    "#Test MAPE: 5.3922052299956595\n",
    "#Test MdSA: 5.396834387761436\n",
    "#Test MSE: 56670526632.16428\n",
    "#Test RMSE: 238055.72169591783"
   ]
  },
  {
   "cell_type": "code",
   "execution_count": 24,
   "metadata": {},
   "outputs": [],
   "source": [
    "import matplotlib.pyplot as plt\n",
    "from matplotlib.ticker import FuncFormatter\n",
    "from matplotlib.dates import DateFormatter\n",
    "#from statsmodels.tsa.statespace.sarimax import SARIMAX\n",
    "\n",
    "# Format y tick labels\n",
    "def y_fmt(y, pos):\n",
    "    decades = [1e9, 1e6, 1e3, 1e0, 1e-3, 1e-6, 1e-9 ]\n",
    "    suffix  = [\"G\", \"M\", \"k\", \"\" , \"m\" , \"u\", \"n\"  ]\n",
    "    if y == 0:\n",
    "        return str(0)\n",
    "    for i, d in enumerate(decades):\n",
    "        if np.abs(y) >=d:\n",
    "            val = y/float(d)\n",
    "            signf = len(str(val).split(\".\")[1])\n",
    "            if signf == 0:\n",
    "                return '{val:d} {suffix}'.format(val=int(val), suffix=suffix[i])\n",
    "            else:\n",
    "                if signf == 1:\n",
    "                    if str(val).split(\".\")[1] == \"0\":\n",
    "                        return '{val:d} {suffix}'.format(val=int(round(val)), suffix=suffix[i]) \n",
    "                tx = \"{\"+\"val:.{signf}f\".format(signf = signf) +\"} {suffix}\"\n",
    "                return tx.format(val=val, suffix=suffix[i])\n",
    "\n",
    "                #return y\n",
    "    return y"
   ]
  },
  {
   "cell_type": "code",
   "execution_count": 25,
   "metadata": {},
   "outputs": [
    {
     "data": {
      "image/png": "[encoded data removed]",
      "text/plain": [
       "<Figure size 720x720 with 1 Axes>"
      ]
     },
     "metadata": {
      "needs_background": "light"
     },
     "output_type": "display_data"
    }
   ],
   "source": [
    "plt.figure(figsize=(10,10))\n",
    "datesForPlottingList = datesGreaterDaysSinceList[-k:]\n",
    "groundTruthList = nCasesGreaterDaysSinceList[-k:]\n",
    "\n",
    "\n",
    "plt.ylabel('Number of confirmed cases in US', fontsize=20)\n",
    "plt.plot(datesForPlottingList, groundTruthList, '-o', linewidth=3, label='Actual numbers of confirmed cases');\n",
    "plt.plot(datesForPlottingList, yPredVanilla[-1], '-o', linewidth=3, label='Vanilla LSTM predictions');\n",
    "plt.plot(datesForPlottingList, yPredStacked[-1], '-o', linewidth=3, label='Stacked LSTM predictions');\n",
    "plt.plot(datesForPlottingList, yPredBidirectional[-1], '-o', linewidth=3, label='Bidirectional LSTM predictions');\n",
    "plt.xlabel('Date', fontsize=20);\n",
    "plt.legend(fontsize=14);\n",
    "plt.xticks(fontsize=16);\n",
    "plt.yticks(fontsize=16);\n",
    "ax = plt.gca()\n",
    "ax.yaxis.set_major_formatter(FuncFormatter(y_fmt))\n",
    "#date_form = DateFormatter(\"%d-%m\")\n",
    "#ax.xaxis.set_major_formatter(date_form)\n",
    "# plt.grid(axis='y')\n",
    "plt.savefig(os.path.join('Plots_3days_k7_new', 'predictions_{}.png'.format(countryName)), dpi=400)\n",
    "plt.savefig(os.path.join('Plots_3days_k7_new', 'predictions_{}.pdf'.format(countryName)), dpi=400)"
   ]
  },
  {
   "cell_type": "code",
   "execution_count": 26,
   "metadata": {},
   "outputs": [
    {
     "data": {
      "text/plain": [
       "[3970121, 4038816, 4112531, 4178970, 4233923, 4290337, 4351997]"
      ]
     },
     "execution_count": 26,
     "metadata": {},
     "output_type": "execute_result"
    }
   ],
   "source": [
    "datesForPlottingList\n",
    "groundTruthList\n",
    "#yPredVanilla[-1]\n",
    "#yPredStacked[-1]\n",
    "#yPredBidirectional[-1]"
   ]
  },
  {
   "cell_type": "code",
   "execution_count": 27,
   "metadata": {},
   "outputs": [
    {
     "name": "stdout",
     "output_type": "stream",
     "text": [
      "Test RMSE: 474686.0857197107\n",
      "Test RMSE: 482631.6970954928\n",
      "Test RMSE: 450396.2191884893\n"
     ]
    }
   ],
   "source": [
    "RMSE = rootMeanSquaredError(groundTruthList, yPredVanilla)\n",
    "print('Test RMSE:', RMSE)\n",
    "RMSE = rootMeanSquaredError(groundTruthList, yPredStacked)\n",
    "print('Test RMSE:', RMSE)\n",
    "RMSE = rootMeanSquaredError(groundTruthList, yPredBidirectional)\n",
    "print('Test RMSE:', RMSE)\n",
    "#Test RMSE: 474686.0857197107\n",
    "#Test RMSE: 482631.6970954928\n",
    "#Test RMSE: 450396.2191884893"
   ]
  },
  {
   "cell_type": "code",
   "execution_count": 28,
   "metadata": {},
   "outputs": [
    {
     "name": "stdout",
     "output_type": "stream",
     "text": [
      "Test RMSE: 41531.148532607425\n",
      "Test RMSE: 45551.58776792057\n",
      "Test RMSE: 53594.45385801861\n"
     ]
    }
   ],
   "source": [
    "RMSE = rootMeanSquaredError(groundTruthList, yPredVanilla[-1])\n",
    "print('Test RMSE:', RMSE)\n",
    "RMSE = rootMeanSquaredError(groundTruthList, yPredStacked[-1])\n",
    "print('Test RMSE:', RMSE)\n",
    "RMSE = rootMeanSquaredError(groundTruthList, yPredBidirectional[-1])\n",
    "print('Test RMSE:', RMSE)\n",
    "#Test RMSE: 41531.148532607425\n",
    "#Test RMSE: 45551.58776792057\n",
    "#Test RMSE: 53594.45385801861"
   ]
  },
  {
   "cell_type": "code",
   "execution_count": 29,
   "metadata": {},
   "outputs": [
    {
     "data": {
      "text/plain": [
       "[3970121, 4038816, 4112531, 4178970, 4233923, 4290337, 4351997]"
      ]
     },
     "execution_count": 29,
     "metadata": {},
     "output_type": "execute_result"
    }
   ],
   "source": [
    "groundTruthList\n",
    "#[3970121, 4038816, 4112531, 4178970, 4233923, 4290337, 4351997]"
   ]
  },
  {
   "cell_type": "code",
   "execution_count": 30,
   "metadata": {},
   "outputs": [
    {
     "data": {
      "text/plain": [
       "[3909247.5, 3985107.5, 4062437.2, 4141264.5, 4221619.0, 4303530.0, 4387027.5]"
      ]
     },
     "execution_count": 30,
     "metadata": {},
     "output_type": "execute_result"
    }
   ],
   "source": [
    "yPredVanilla[-1]\n",
    "#[3909247.5, 3985107.5, 4062437.2, 4141264.5, 4221619.0, 4303530.0, 4387027.5]"
   ]
  },
  {
   "cell_type": "code",
   "execution_count": 31,
   "metadata": {},
   "outputs": [
    {
     "data": {
      "text/plain": [
       "[3906455.5, 3979021.5, 4053525.0, 4129358.5, 4206646.5, 4285373.0, 4365572.5]"
      ]
     },
     "execution_count": 31,
     "metadata": {},
     "output_type": "execute_result"
    }
   ],
   "source": [
    "yPredStacked[-1]\n",
    "#[3906455.5, 3979021.5, 4053525.0, 4129358.5, 4206646.5, 4285373.0, 4365572.5]"
   ]
  },
  {
   "cell_type": "code",
   "execution_count": 32,
   "metadata": {},
   "outputs": [
    {
     "data": {
      "text/plain": [
       "[3916895.0, 4001185.8, 4087339.8, 4175345.5, 4265241.5, 4357069.0, 4450869.5]"
      ]
     },
     "execution_count": 32,
     "metadata": {},
     "output_type": "execute_result"
    }
   ],
   "source": [
    " yPredBidirectional[-1]\n",
    "    #[3916895.0, 4001185.8, 4087339.8, 4175345.5, 4265241.5, 4357069.0, 4450869.5]"
   ]
  },
  {
   "cell_type": "code",
   "execution_count": null,
   "metadata": {},
   "outputs": [],
   "source": []
  }
 ],
 "metadata": {
  "kernelspec": {
   "display_name": "Python 3",
   "language": "python",
   "name": "python3"
  },
  "language_info": {
   "codemirror_mode": {
    "name": "ipython",
    "version": 3
   },
   "file_extension": ".py",
   "mimetype": "text/x-python",
   "name": "python",
   "nbconvert_exporter": "python",
   "pygments_lexer": "ipython3",
   "version": "3.7.6"
  }
 },
 "nbformat": 4,
 "nbformat_minor": 4
}

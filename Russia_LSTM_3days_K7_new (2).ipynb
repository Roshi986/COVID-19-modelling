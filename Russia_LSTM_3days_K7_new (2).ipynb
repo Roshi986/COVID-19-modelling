{
 "cells": [
  {
   "cell_type": "code",
   "execution_count": 2,
   "metadata": {},
   "outputs": [],
   "source": [
    "import numpy as np\n",
    "import pandas as pd\n",
    "import warnings\n",
    "import os\n",
    "\n",
    "import tensorflow as tf\n",
    "from tensorflow.keras import Sequential\n",
    "from tensorflow.keras.layers import LSTM, Dense\n",
    "from tensorflow.keras.layers import Bidirectional\n",
    "from tensorflow.keras.optimizers import Adam\n",
    "from tensorflow.keras.layers import Flatten\n",
    "from tensorflow.compat.v1.keras.layers import TimeDistributed\n",
    "warnings.simplefilter('ignore')\n",
    "\n",
    "countryName = 'Russia'\n",
    "\n",
    "nfeatures = 1\n",
    "\n",
    "nDaysMin = 3\n",
    "k = 7\n",
    "\n",
    "nValid = 10\n",
    "nTest = 10"
   ]
  },
  {
   "cell_type": "code",
   "execution_count": 3,
   "metadata": {},
   "outputs": [],
   "source": [
    "dataDir = os.path.join('C:\\\\Users\\\\AMC\\\\Desktop\\\\Roshi\\\\Data')\n",
    "confirmedFile = 'confirmed_july.csv'\n",
    "deathsFile = 'deaths_july.csv'\n",
    "recoveredFile = 'recovered_july.csv'"
   ]
  },
  {
   "cell_type": "code",
   "execution_count": 4,
   "metadata": {},
   "outputs": [],
   "source": [
    "# split a univariate sequence into samples\n",
    "def split_sequence(sequence, n_steps, k):\n",
    "    X, y = list(), list()\n",
    "    for i in range(len(sequence)):\n",
    "        # find the end of this pattern\n",
    "        end_ix = i + n_steps\n",
    "        # check if we are beyond the sequence\n",
    "        if end_ix + k >= len(sequence):\n",
    "            break\n",
    "        # input and output\n",
    "        seq_x, seq_y = sequence[i:end_ix], sequence[end_ix:end_ix+k]\n",
    "        X.append(seq_x)\n",
    "        y.append(seq_y)\n",
    "    return np.array(X), np.array(y)"
   ]
  },
  {
   "cell_type": "code",
   "execution_count": 5,
   "metadata": {},
   "outputs": [],
   "source": [
    "def meanAbsolutePercentageError(yTrueList, yPredList):\n",
    "    absErrorList = [np.abs(yTrue - yPred) for yTrue, yPred in zip(yTrueList, yPredList)]\n",
    "    absPcErrorList = [absError/yTrue for absError, yTrue in zip(absErrorList, yTrueList)]\n",
    "    MAPE = 100*np.mean(absPcErrorList)\n",
    "    return MAPE\n",
    "\n",
    "def meanAbsolutePercentageError_kDay(yTrueListList, yPredListList):\n",
    "    # Store true and predictions for day 1 in a list, day 2 in a list and so on\n",
    "    # Keep each list of these lists in a respective dict with key as day #\n",
    "    yTrueForDayK = {}\n",
    "    yPredForDayK = {}\n",
    "    for i in range(len(yTrueListList[0])):\n",
    "        yTrueForDayK[i] = []\n",
    "        yPredForDayK[i] = []\n",
    "    for yTrueList, yPredList in zip(yTrueListList, yPredListList):\n",
    "        for i in range(len(yTrueList)):\n",
    "            yTrueForDayK[i].append(yTrueList[i])\n",
    "            yPredForDayK[i].append(yPredList[i])\n",
    "            \n",
    "    # Get MAPE for each day in a list\n",
    "    MAPEList = []\n",
    "    for i in yTrueForDayK.keys():\n",
    "        MAPEList.append(meanAbsolutePercentageError(yTrueForDayK[i], yPredForDayK[i]))\n",
    "    return np.mean(MAPEList)\n",
    "\n",
    "def meanForecastError(yTrueList, yPredList):\n",
    "    forecastErrors = [yTrue - yPred for yTrue, yPred in zip(yTrueList, yPredList)]\n",
    "    MFE = np.mean(forecastErrors)\n",
    "    return MFE\n",
    "\n",
    "def meanAbsoluteError(yTrueList, yPredList):\n",
    "    absErrorList = [np.abs(yTrue - yPred) for yTrue, yPred in zip(yTrueList, yPredList)]\n",
    "    return np.mean(absErrorList)\n",
    "\n",
    "def meanSquaredError(yTrueList, yPredList):\n",
    "    sqErrorList = [np.square(yTrue - yPred) for yTrue, yPred in zip(yTrueList, yPredList)]\n",
    "    return np.mean(sqErrorList)\n",
    "\n",
    "def rootMeanSquaredError(yTrueList, yPredList):\n",
    "    return np.sqrt(meanSquaredError(yTrueList, yPredList))\n",
    "\n",
    "def medianSymmetricAccuracy(yTrueList, yPredList):\n",
    "    '''https://helda.helsinki.fi//bitstream/handle/10138/312261/2017SW001669.pdf?sequence=1'''\n",
    "    logAccRatioList = [np.abs(np.log(yPred/yTrue)) for yTrue, yPred in zip(yTrueList, yPredList)]\n",
    "    MdSA = 100*(np.exp(np.median(logAccRatioList))-1)\n",
    "    return MdSA\n",
    "\n",
    "def medianSymmetricAccuracy_kDay(yTrueListList, yPredListList):\n",
    "    # Store true and predictions for day 1 in a list, day 2 in a list and so on\n",
    "    # Keep each list of these lists in a respective dict with key as day #\n",
    "    yTrueForDayK = {}\n",
    "    yPredForDayK = {}\n",
    "    for i in range(len(yTrueListList[0])):\n",
    "        yTrueForDayK[i] = []\n",
    "        yPredForDayK[i] = []\n",
    "    for yTrueList, yPredList in zip(yTrueListList, yPredListList):\n",
    "        for i in range(len(yTrueList)):\n",
    "            yTrueForDayK[i].append(yTrueList[i])\n",
    "            yPredForDayK[i].append(yPredList[i])\n",
    "    # Get MdSA for each day in a list\n",
    "    MdSAList = []\n",
    "    for i in yTrueForDayK.keys():\n",
    "        MdSAList.append(medianSymmetricAccuracy(yTrueForDayK[i], yPredForDayK[i]))\n",
    "    return(np.mean(MdSAList))"
   ]
  },
  {
   "cell_type": "code",
   "execution_count": 6,
   "metadata": {},
   "outputs": [],
   "source": [
    "# All three csvs for this countru\n",
    "def getCountryDict(countryName):\n",
    "    countryDict = {}\n",
    "    for key in covidFrDict.keys():\n",
    "        dataFr = covidFrDict[key]\n",
    "        countryDict[key] = dataFr[dataFr['Country/Region'] == countryName]\n",
    "    return countryDict"
   ]
  },
  {
   "cell_type": "code",
   "execution_count": 7,
   "metadata": {},
   "outputs": [
    {
     "name": "stdout",
     "output_type": "stream",
     "text": [
      "Total size of data points for LSTM: 124\n",
      "Size of training set: 104\n",
      "Size of validation set: 10\n",
      "Size of test set: 10\n"
     ]
    },
    {
     "data": {
      "text/plain": [
       "dict"
      ]
     },
     "execution_count": 7,
     "metadata": {},
     "output_type": "execute_result"
    }
   ],
   "source": [
    "# get time series data for country\n",
    "covidFrDict = {}\n",
    "covidFrDict['confirmed'] = pd.read_csv(confirmedFile)\n",
    "covidFrDict['deaths'] = pd.read_csv(deathsFile)\n",
    "covidFrDict['recovered'] = pd.read_csv(recoveredFile)\n",
    "\n",
    "countryDict = getCountryDict(countryName)\n",
    "\n",
    "# List of dates\n",
    "colNamesList = list(countryDict['confirmed'])\n",
    "dateList = [colName for colName in colNamesList if '/20' in colName]\n",
    "dataList = [countryDict['confirmed'][date].iloc[0] for date in dateList]\n",
    "dataDict = dict(zip(dateList, dataList))\n",
    "\n",
    "# Only take time series from where the cases were >100\n",
    "daysSince = 100\n",
    "nCasesGreaterDaysSinceList = []\n",
    "datesGreaterDaysSinceList = []\n",
    "\n",
    "for key in dataDict.keys():\n",
    "    if dataDict[key] > daysSince:\n",
    "        datesGreaterDaysSinceList.append(key)\n",
    "        nCasesGreaterDaysSinceList.append(dataDict[key])\n",
    "        \n",
    "XList, yList = split_sequence(nCasesGreaterDaysSinceList, nDaysMin, k)\n",
    "\n",
    "XTrainList = XList[0:len(XList)-(nValid + nTest)]\n",
    "XValidList = XList[len(XList)-(nValid+nTest):len(XList)-(nTest)]\n",
    "XTestList = XList[-nTest:]\n",
    "\n",
    "yTrain = yList[0:len(XList)-(nValid + nTest)]\n",
    "yValid = yList[len(XList)-(nValid+nTest):len(XList)-(nTest)]\n",
    "yTest = yList[-nTest:]\n",
    "print('Total size of data points for LSTM:', len(yList))\n",
    "print('Size of training set:', len(yTrain))\n",
    "print('Size of validation set:', len(yValid))\n",
    "print('Size of test set:', len(yTest))\n",
    "type(yTrain)\n",
    "XTrainList.shape\n",
    "yTest\n",
    "dateList \n",
    "covidFrDict['confirmed']\n",
    "type(countryDict)"
   ]
  },
  {
   "cell_type": "code",
   "execution_count": 8,
   "metadata": {},
   "outputs": [],
   "source": [
    "# Convert the list to matrix\n",
    "XTrain = XTrainList.reshape((XTrainList.shape[0], XTrainList.shape[1], nfeatures))\n",
    "XValid = XValidList.reshape((XValidList.shape[0], XValidList.shape[1], nfeatures))\n",
    "XTest = XTestList.reshape((XTestList.shape[0], XTestList.shape[1], nfeatures))"
   ]
  },
  {
   "cell_type": "code",
   "execution_count": 9,
   "metadata": {},
   "outputs": [
    {
     "name": "stdout",
     "output_type": "stream",
     "text": [
      "0 15.54342703728912\n",
      "Updating best MAPE to 15.54342703728912...\n",
      "Updating best seed to 0...\n",
      "1 5.243132479463436\n",
      "Updating best MAPE to 5.243132479463436...\n",
      "Updating best seed to 1...\n",
      "2 5.551461574836237\n",
      "3 1.2278635745898225\n",
      "Updating best MAPE to 1.2278635745898225...\n",
      "Updating best seed to 3...\n",
      "4 99.94472921171405\n",
      "5 6.061401891452547\n",
      "6 2.5386176983905537\n",
      "7 5.932347667632748\n",
      "8 4.010592706925368\n",
      "9 14.953315646770859\n",
      "10 99.9452869294902\n",
      "11 5.3829754007812705\n",
      "12 8.699061925958217\n",
      "13 5.356863864575666\n",
      "14 3.0251510597577354\n",
      "15 11.249958376047102\n",
      "16 4.427799397353404\n",
      "17 2.0634604531708116\n",
      "18 2.2991510840494414\n",
      "19 5.476646300181081\n",
      "20 1.9269766435742703\n",
      "21 99.94471929198582\n",
      "22 6.558442558540479\n",
      "23 0.9867791016822844\n",
      "Updating best MAPE to 0.9867791016822844...\n",
      "Updating best seed to 23...\n",
      "24 7.154493566817231\n",
      "25 23.906676977297593\n",
      "26 1.0032212093037616\n",
      "27 99.94515690958006\n",
      "28 5.122419351982519\n",
      "29 2.885023637388958\n",
      "30 6.021126616962925\n",
      "31 7.95342913512409\n",
      "32 99.94495687894904\n",
      "33 0.8908204157302474\n",
      "Updating best MAPE to 0.8908204157302474...\n",
      "Updating best seed to 33...\n",
      "34 0.5274384504329834\n",
      "Updating best MAPE to 0.5274384504329834...\n",
      "Updating best seed to 34...\n",
      "35 2.7122205146987675\n",
      "36 99.9491034717367\n",
      "37 1.025929439881709\n",
      "38 1.9257800663943336\n",
      "39 13.154948291869188\n",
      "40 7.972461673530101\n",
      "41 0.40480644222647466\n",
      "Updating best MAPE to 0.40480644222647466...\n",
      "Updating best seed to 41...\n",
      "42 4.149438286445197\n",
      "43 1.515539285388282\n",
      "44 5.27580810709646\n",
      "45 4.887152904463147\n",
      "46 3.4289954711588586\n",
      "47 94.65719298670068\n",
      "48 9.374173890765244\n",
      "49 4.3061739348888475\n",
      "50 8.816234105153729\n",
      "51 0.6739947128386156\n",
      "52 2.4964174849669214\n",
      "53 6.075796961927125\n",
      "54 3.616037480422552\n",
      "55 10.368417960438787\n",
      "56 5.249270635689285\n",
      "57 6.218426983194021\n",
      "58 99.95656511370437\n",
      "59 3.541303889955235\n",
      "60 3.672656748777787\n",
      "61 99.96460602862153\n",
      "62 99.94486739473392\n",
      "63 1.433453730912928\n",
      "64 4.568343812825043\n",
      "65 0.6551509902502591\n",
      "66 4.83619606975734\n",
      "67 1.5669009501957807\n",
      "68 99.94500366183401\n",
      "69 3.401963429527565\n",
      "70 2.4460318837982586\n",
      "71 8.054392152424672\n",
      "72 4.577186594042544\n",
      "73 99.9533359321719\n",
      "74 6.580962419517063\n",
      "75 1.6976813996968338\n",
      "76 10.15693049111555\n",
      "77 99.98102638209822\n",
      "78 5.547835264158597\n",
      "79 4.24096384506466\n",
      "80 0.6551840094082779\n",
      "81 99.9450423246637\n",
      "82 4.263817704522992\n",
      "83 0.3140763443445294\n",
      "Updating best MAPE to 0.3140763443445294...\n",
      "Updating best seed to 83...\n",
      "84 0.49933130534245035\n",
      "85 2.8813643919160663\n",
      "86 0.8586805828641376\n",
      "87 5.662444669567918\n",
      "88 99.94277714352678\n",
      "89 3.0105356266257606\n",
      "90 6.550157985448216\n",
      "91 8.574499246888426\n",
      "92 2.73863140549974\n",
      "93 1.1500609292450725\n",
      "94 4.73575132449439\n",
      "95 7.148045579640702\n",
      "96 3.3249510988435738\n",
      "97 7.320139702720935\n",
      "98 2.920749673563848\n",
      "99 4.121537015731237\n",
      "Training model with best seed...\n"
     ]
    }
   ],
   "source": [
    "import matplotlib.pyplot as plt\n",
    "from sklearn.metrics import accuracy_score\n",
    "from matplotlib import pyplot\n",
    "\n",
    "neurons = 100 # number of neurones\n",
    "nfeatures = 1  # number of features\n",
    "\n",
    "#getting the best MAPE to use for model fitting\n",
    "bestValidMAPE = 100 #100 validation for selecting the best MAPE\n",
    "bestSeed = -1\n",
    "for seed in range(100):\n",
    "    tf.random.set_seed(seed=seed)\n",
    "    \n",
    "    # define model\n",
    "    model = Sequential()\n",
    "    model.add(LSTM(neurons, activation='relu', input_shape=(nDaysMin, nfeatures)))\n",
    "    model.add(Dense(1))\n",
    "    opt = Adam(learning_rate=0.1)\n",
    "    model.compile(optimizer=opt, loss='mse')\n",
    "\n",
    "    # fit model\n",
    "   \n",
    "    history = model.fit(XTrain, yTrain[:,0], epochs=1000, verbose=0)\n",
    "    yPredListList = []\n",
    "    for day in range(nTest):\n",
    "        yPredListList.append([])\n",
    "    XValidNew = XValid.copy()\n",
    "    for day in range(k):\n",
    "        yPred = model.predict(np.float32(XValidNew), verbose=0)\n",
    "        for i in range(len(yPred)):\n",
    "            yPredListList[i].append(yPred[i][0])\n",
    "        XValidNew = np.delete(XValidNew, 0, axis=1)\n",
    "        yPred = np.expand_dims(yPred, 2)\n",
    "        XValidNew = np.append(XValidNew, yPred, axis=1)\n",
    "\n",
    "#     for yTrue, yPred in zip(yTest, yPredList):\n",
    "#         print(yTrue, yPred)\n",
    "    \n",
    "    MAPE = meanAbsolutePercentageError_kDay(yValid, yPredListList)\n",
    "    print(seed, MAPE)\n",
    "    if MAPE < bestValidMAPE:\n",
    "        print('Updating best MAPE to {}...'.format(MAPE))\n",
    "        bestValidMAPE = MAPE\n",
    "        print('Updating best seed to {}...'.format(seed))\n",
    "        bestSeed = seed\n",
    "\n",
    "print('Training model with best seed...')\n",
    "tf.random.set_seed(seed=bestSeed)\n",
    "   "
   ]
  },
  {
   "cell_type": "code",
   "execution_count": 10,
   "metadata": {
    "scrolled": true
   },
   "outputs": [
    {
     "name": "stdout",
     "output_type": "stream",
     "text": [
      "Model: \"sequential_100\"\n",
      "_________________________________________________________________\n",
      "Layer (type)                 Output Shape              Param #   \n",
      "=================================================================\n",
      "lstm_100 (LSTM)              (None, 100)               40800     \n",
      "_________________________________________________________________\n",
      "dense_100 (Dense)            (None, 1)                 101       \n",
      "=================================================================\n",
      "Total params: 40,901\n",
      "Trainable params: 40,901\n",
      "Non-trainable params: 0\n",
      "_________________________________________________________________\n"
     ]
    }
   ],
   "source": [
    "# define model\n",
    "model = Sequential()\n",
    "model.add(LSTM(neurons, activation='relu', input_shape=(nDaysMin, nfeatures)))\n",
    "model.add(Dense(1))\n",
    "opt = Adam(learning_rate=0.1)\n",
    "model.compile(optimizer=opt, loss='mse')\n",
    "model.summary()\n",
    "\n",
    "history = model.fit(XTrain, yTrain[:,0], validation_data = (XValid, yValid), epochs=1000, verbose=0)"
   ]
  },
  {
   "cell_type": "code",
   "execution_count": 11,
   "metadata": {},
   "outputs": [
    {
     "data": {
      "image/png": "[encoded data removed]",
      "text/plain": [
       "<Figure size 576x360 with 1 Axes>"
      ]
     },
     "metadata": {
      "needs_background": "light"
     },
     "output_type": "display_data"
    }
   ],
   "source": [
    "plt.figure(figsize=(8,5))\n",
    "plt.plot(history.history['loss'])\n",
    "plt.plot(history.history['val_loss'])\n",
    "plt.title('Model loss')\n",
    "plt.ylabel('Loss')\n",
    "plt.xlabel('Epoch')\n",
    "plt.legend(['Train', 'Valid'], loc='upper left')\n",
    "plt.show()\n",
    "\n",
    "\n",
    "#get scores for loss"
   ]
  },
  {
   "cell_type": "code",
   "execution_count": 12,
   "metadata": {},
   "outputs": [],
   "source": [
    "\n",
    "history = model.fit(XTrain, yTrain[:,0], validation_data = (XValid, yValid), epochs=1000, verbose=0)"
   ]
  },
  {
   "cell_type": "code",
   "execution_count": 13,
   "metadata": {},
   "outputs": [
    {
     "name": "stdout",
     "output_type": "stream",
     "text": [
      "4/4 - 0s - loss: 1138733824.0000\n",
      "mse: 1138733824.000000\n"
     ]
    }
   ],
   "source": [
    "# evaluate model\n",
    "loss = model.evaluate(XTrain, yTrain, verbose=2)\n",
    "print( \"mse: %f\" %loss)"
   ]
  },
  {
   "cell_type": "code",
   "execution_count": 14,
   "metadata": {},
   "outputs": [
    {
     "name": "stdout",
     "output_type": "stream",
     "text": [
      "Test MAPE: 2.552834071836838\n",
      "Test MdSA: 2.538045631842329\n",
      "Test MSE: 477867136.73978794\n",
      "Test RMSE: 21860.17238586622\n"
     ]
    }
   ],
   "source": [
    "yPredListList = []\n",
    "for day in range(nTest):\n",
    "    yPredListList.append([])\n",
    "XTestNew = XTest.copy()\n",
    "for day in range(k):\n",
    "    yPred = model.predict(np.float32(XTestNew), verbose=0)\n",
    "    for i in range(len(yPred)):\n",
    "        yPredListList[i].append(yPred[i][0])\n",
    "    XTestNew = np.delete(XTestNew, 0, axis=1)\n",
    "    yPred = np.expand_dims(yPred, 2)\n",
    "    XTestNew = np.append(XTestNew, yPred, axis=1)\n",
    "MAPE = meanAbsolutePercentageError_kDay(yTest, yPredListList)\n",
    "print('Test MAPE:', MAPE)\n",
    "MdSA = medianSymmetricAccuracy_kDay(yTest, yPredListList)\n",
    "print('Test MdSA:', MdSA)\n",
    "MSE = meanSquaredError(yTest, yPredListList)\n",
    "print('Test MSE:', MSE)\n",
    "RMSE = rootMeanSquaredError(yTest, yPredListList)\n",
    "print('Test RMSE:', RMSE)\n",
    "yPredVanilla = yPredListList \n",
    "#Test MAPE: 0.5149819512997876\n",
    "#Test MdSA: 0.5037830307316448\n",
    "#Test MSE: 34067736.27388393\n",
    "#Test RMSE: 5836.757342384891"
   ]
  },
  {
   "cell_type": "code",
   "execution_count": 15,
   "metadata": {},
   "outputs": [
    {
     "data": {
      "image/png": "[encoded data removed]",
      "text/plain": [
       "<Figure size 720x720 with 1 Axes>"
      ]
     },
     "metadata": {
      "needs_background": "light"
     },
     "output_type": "display_data"
    }
   ],
   "source": [
    "plt.figure(figsize=(10,10))\n",
    "datesForPlottingList = datesGreaterDaysSinceList[-k:]\n",
    "groundTruthList = nCasesGreaterDaysSinceList[-k:]\n",
    "\n",
    "plt.ylabel('Number of confirmed cases in Russia', fontsize=20)\n",
    "plt.plot(datesForPlottingList, groundTruthList, '-o', linewidth=3, label='Actual numbers of confirmed cases');\n",
    "plt.plot(datesForPlottingList, yPredVanilla[-1], '-o', linewidth=3, label='Vanilla LSTM predictions');\n",
    "#plt.plot(datesForPlottingList, yPredStacked[-1], '-o', linewidth=3, label='Stacked LSTM predictions');\n",
    "#plt.plot(datesForPlottingList, yPredBidirectional[-1], '-o', linewidth=3, label='Bidirectional LSTM predictions');\n",
    "plt.xlabel('Date', fontsize=20);\n",
    "plt.legend(fontsize=14);\n",
    "plt.xticks(fontsize=16);\n",
    "plt.yticks(fontsize=16);\n",
    "ax = plt.gca()\n",
    "#ax.yaxis.set_major_formatter(FuncFormatter(y_fmt))\n",
    "#date_form = DateFormatter(\"%d-%m\")\n",
    "#ax.xaxis.set_major_formatter(date_form)\n",
    "# plt.grid(axis='y')\n",
    "#plt.savefig(os.path.join('Plots_3days_k7', 'predictions_{}.png'.format(countryName)), dpi=400)"
   ]
  },
  {
   "cell_type": "code",
   "execution_count": 16,
   "metadata": {},
   "outputs": [
    {
     "name": "stdout",
     "output_type": "stream",
     "text": [
      "Test RMSE: 30674.46080040605\n"
     ]
    }
   ],
   "source": [
    "yPredVanilla\n",
    "RMSE = rootMeanSquaredError(groundTruthList, yPredVanilla)\n",
    "print('Test RMSE:', RMSE)"
   ]
  },
  {
   "cell_type": "code",
   "execution_count": 17,
   "metadata": {},
   "outputs": [
    {
     "data": {
      "text/plain": [
       "[792336.0, 801026.1, 809968.25, 823253.25, 833386.8, 843821.2, 856149.06]"
      ]
     },
     "execution_count": 17,
     "metadata": {},
     "output_type": "execute_result"
    }
   ],
   "source": [
    "datesForPlottingList_df = pd.DataFrame(datesForPlottingList)\n",
    "datesForPlottingList_df\n",
    "groundTruthList_df = pd.DataFrame(groundTruthList)\n",
    "groundTruthList_df\n",
    "yPredVanilla[-1]#[786326.1, 791561.75, 795952.1, 810342.25, 813480.75, 813834.0, 838000.0]"
   ]
  },
  {
   "cell_type": "code",
   "execution_count": 18,
   "metadata": {},
   "outputs": [
    {
     "data": {
      "text/html": [
       "<div>\n",
       "<style scoped>\n",
       "    .dataframe tbody tr th:only-of-type {\n",
       "        vertical-align: middle;\n",
       "    }\n",
       "\n",
       "    .dataframe tbody tr th {\n",
       "        vertical-align: top;\n",
       "    }\n",
       "\n",
       "    .dataframe thead th {\n",
       "        text-align: right;\n",
       "    }\n",
       "</style>\n",
       "<table border=\"1\" class=\"dataframe\">\n",
       "  <thead>\n",
       "    <tr style=\"text-align: right;\">\n",
       "      <th></th>\n",
       "      <th>0</th>\n",
       "    </tr>\n",
       "  </thead>\n",
       "  <tbody>\n",
       "    <tr>\n",
       "      <th>0</th>\n",
       "      <td>792336.0000</td>\n",
       "    </tr>\n",
       "    <tr>\n",
       "      <th>1</th>\n",
       "      <td>801026.1250</td>\n",
       "    </tr>\n",
       "    <tr>\n",
       "      <th>2</th>\n",
       "      <td>809968.2500</td>\n",
       "    </tr>\n",
       "    <tr>\n",
       "      <th>3</th>\n",
       "      <td>823253.2500</td>\n",
       "    </tr>\n",
       "    <tr>\n",
       "      <th>4</th>\n",
       "      <td>833386.8125</td>\n",
       "    </tr>\n",
       "    <tr>\n",
       "      <th>5</th>\n",
       "      <td>843821.1875</td>\n",
       "    </tr>\n",
       "    <tr>\n",
       "      <th>6</th>\n",
       "      <td>856149.0625</td>\n",
       "    </tr>\n",
       "  </tbody>\n",
       "</table>\n",
       "</div>"
      ],
      "text/plain": [
       "             0\n",
       "0  792336.0000\n",
       "1  801026.1250\n",
       "2  809968.2500\n",
       "3  823253.2500\n",
       "4  833386.8125\n",
       "5  843821.1875\n",
       "6  856149.0625"
      ]
     },
     "execution_count": 18,
     "metadata": {},
     "output_type": "execute_result"
    }
   ],
   "source": [
    "yPredVanilla[-1]\n",
    "yPredVanilla_df = pd.DataFrame(yPredVanilla[-1])\n",
    "yPredVanilla_df\n",
    "#merge the three dataframes?\n",
    "yPredVanilla_df"
   ]
  },
  {
   "cell_type": "code",
   "execution_count": 19,
   "metadata": {},
   "outputs": [
    {
     "data": {
      "text/plain": [
       "[787890, 793720, 799499, 805332, 811073, 816680, 822060]"
      ]
     },
     "execution_count": 19,
     "metadata": {},
     "output_type": "execute_result"
    }
   ],
   "source": [
    "dates = datesForPlottingList_df\n",
    "actual = groundTruthList_df\n",
    "predicted_vanilla = yPredVanilla_df\n",
    "datesForPlottingList\n",
    "groundTruthList #[787890, 793720, 799499, 805332, 811073, 816680, 822060]"
   ]
  },
  {
   "cell_type": "code",
   "execution_count": 20,
   "metadata": {},
   "outputs": [],
   "source": [
    "datesForPlottingList\n",
    "groundTruthList\n",
    "yPredVanilla\n",
    "allvalues = {\n",
    "    'Date': ['7/22/20', '7/23/20', '7/24/20', '7/25/20', '7/26/20', '7/27/20', '7/28/20'],\n",
    "    'Actual':[787890, 793720, 799499, 805332, 811073, 816680, 822060],\n",
    "    'Predicted_Vanilla': [86326.1, 791561.75, 795952.1, 810342.25, 813480.75, 813834.0, 838000.0]}"
   ]
  },
  {
   "cell_type": "code",
   "execution_count": 21,
   "metadata": {},
   "outputs": [
    {
     "data": {
      "text/html": [
       "<div>\n",
       "<style scoped>\n",
       "    .dataframe tbody tr th:only-of-type {\n",
       "        vertical-align: middle;\n",
       "    }\n",
       "\n",
       "    .dataframe tbody tr th {\n",
       "        vertical-align: top;\n",
       "    }\n",
       "\n",
       "    .dataframe thead th {\n",
       "        text-align: right;\n",
       "    }\n",
       "</style>\n",
       "<table border=\"1\" class=\"dataframe\">\n",
       "  <thead>\n",
       "    <tr style=\"text-align: right;\">\n",
       "      <th></th>\n",
       "      <th>Date</th>\n",
       "      <th>Actual</th>\n",
       "      <th>Predicted_Vanilla</th>\n",
       "    </tr>\n",
       "  </thead>\n",
       "  <tbody>\n",
       "    <tr>\n",
       "      <th>0</th>\n",
       "      <td>7/22/20</td>\n",
       "      <td>787890</td>\n",
       "      <td>86326.10</td>\n",
       "    </tr>\n",
       "    <tr>\n",
       "      <th>1</th>\n",
       "      <td>7/23/20</td>\n",
       "      <td>793720</td>\n",
       "      <td>791561.75</td>\n",
       "    </tr>\n",
       "    <tr>\n",
       "      <th>2</th>\n",
       "      <td>7/24/20</td>\n",
       "      <td>799499</td>\n",
       "      <td>795952.10</td>\n",
       "    </tr>\n",
       "    <tr>\n",
       "      <th>3</th>\n",
       "      <td>7/25/20</td>\n",
       "      <td>805332</td>\n",
       "      <td>810342.25</td>\n",
       "    </tr>\n",
       "    <tr>\n",
       "      <th>4</th>\n",
       "      <td>7/26/20</td>\n",
       "      <td>811073</td>\n",
       "      <td>813480.75</td>\n",
       "    </tr>\n",
       "    <tr>\n",
       "      <th>5</th>\n",
       "      <td>7/27/20</td>\n",
       "      <td>816680</td>\n",
       "      <td>813834.00</td>\n",
       "    </tr>\n",
       "    <tr>\n",
       "      <th>6</th>\n",
       "      <td>7/28/20</td>\n",
       "      <td>822060</td>\n",
       "      <td>838000.00</td>\n",
       "    </tr>\n",
       "  </tbody>\n",
       "</table>\n",
       "</div>"
      ],
      "text/plain": [
       "      Date  Actual  Predicted_Vanilla\n",
       "0  7/22/20  787890           86326.10\n",
       "1  7/23/20  793720          791561.75\n",
       "2  7/24/20  799499          795952.10\n",
       "3  7/25/20  805332          810342.25\n",
       "4  7/26/20  811073          813480.75\n",
       "5  7/27/20  816680          813834.00\n",
       "6  7/28/20  822060          838000.00"
      ]
     },
     "execution_count": 21,
     "metadata": {},
     "output_type": "execute_result"
    }
   ],
   "source": [
    "allvalues = pd.DataFrame (allvalues, columns = ['Date', 'Actual', 'Predicted_Vanilla'])\n",
    "allvalues.to_csv('russia_3d_k7_vanilla.csv')\n",
    "allvalues"
   ]
  },
  {
   "cell_type": "markdown",
   "metadata": {},
   "source": [
    "# Stacked LSTM"
   ]
  },
  {
   "cell_type": "code",
   "execution_count": 22,
   "metadata": {},
   "outputs": [
    {
     "name": "stdout",
     "output_type": "stream",
     "text": [
      "0 1.7559397770309941\n",
      "Updating best MAPE to 1.7559397770309941...\n",
      "Updating best seed to 0...\n",
      "1 1.4346095879403624\n",
      "Updating best MAPE to 1.4346095879403624...\n",
      "Updating best seed to 1...\n",
      "2 4.6286556833688755\n",
      "3 7.501696136638263\n",
      "4 64.60812686792497\n",
      "5 22.582281109167216\n",
      "6 62.65545040844247\n",
      "7 2.181563483004955\n",
      "8 10.42194310140546\n",
      "9 3.0820412906295687\n",
      "10 0.760261620155161\n",
      "Updating best MAPE to 0.760261620155161...\n",
      "Updating best seed to 10...\n",
      "11 0.253375878557524\n",
      "Updating best MAPE to 0.253375878557524...\n",
      "Updating best seed to 11...\n",
      "12 6.805573931141194\n",
      "13 0.8967520665125662\n",
      "14 2.4856171534494638\n",
      "15 3.0854362166147276\n",
      "16 62.88124546694204\n",
      "17 3.2814007143203097\n",
      "18 1.9793549410050875\n",
      "19 13.54829429305923\n",
      "20 4.2293439447011565\n",
      "21 2.292803382177361\n",
      "22 6.038253245970902\n",
      "23 5.486412661285677\n",
      "24 61.44560508259392\n",
      "25 5.024413387765997\n",
      "26 3.2633445378230794\n",
      "27 65.89890174549365\n",
      "28 1.1537208440607698\n",
      "29 64.29555843558202\n",
      "30 65.45752453980987\n",
      "31 10.463101229966698\n",
      "32 63.12858837955498\n",
      "33 2.9671580656869083\n",
      "34 3.6677453859222053\n",
      "35 698.817296936296\n",
      "36 64.19169667656352\n",
      "37 6.536326183546715\n",
      "38 3.2196411719518556\n",
      "39 2.4008308658822144\n",
      "40 9.190008235594522\n",
      "41 2.1833448512312894\n",
      "42 65.21985887318748\n",
      "43 65.13185986181091\n",
      "44 62.06111760650651\n",
      "45 4.6468466727818925\n",
      "46 63.72203942786995\n",
      "47 63.41354249287201\n",
      "48 3.4226366064246343\n",
      "49 0.8505727005287322\n",
      "50 7.604801282381052\n",
      "51 1.2677341678117424\n",
      "52 84394.99968907512\n",
      "53 65.57315770966882\n",
      "54 66.56748040670254\n",
      "55 1.271283812100408\n",
      "56 0.6228851470014604\n",
      "57 2.940263189041366\n",
      "58 63.762289276284896\n",
      "59 66.31025524038218\n",
      "60 63.73935486460249\n",
      "61 61.73193210406738\n",
      "62 9.274650703188215\n",
      "63 0.33477378194744645\n",
      "64 1.8815962624605487\n",
      "65 0.2735759844754216\n",
      "66 9.576875326686189\n",
      "67 2.8061239550163726\n",
      "68 10.365765850387286\n",
      "69 128.29202796510444\n",
      "70 2.961505759415067\n",
      "71 3.2835753560053016\n",
      "72 5.478932421370352\n",
      "73 66.01895911414603\n",
      "74 0.28369466323847975\n",
      "75 63.230166396695076\n",
      "76 15.510564340106082\n",
      "77 1.5553373968542614\n",
      "78 7.30386274181412\n",
      "79 3.983287843404453\n",
      "80 62.80627565036472\n",
      "81 0.6753868074471899\n",
      "82 0.30461180868976834\n",
      "83 64.47597624836048\n",
      "84 5.503840496764833\n",
      "85 2.347251942795663\n",
      "86 5.331863336770141\n",
      "87 4.177392106872738\n",
      "88 63.74060915912837\n",
      "89 5.191054128618089\n",
      "90 9.585444439899044\n",
      "91 6.587502852924639\n",
      "92 63.79057813683088\n",
      "93 7.332958777529405\n",
      "94 8.655964630278284\n",
      "95 65.35885851400315\n",
      "96 4.150065060816319\n",
      "97 9.078652024308534\n",
      "98 65.89569436669726\n",
      "99 2.7790441549959772\n",
      "Training model with best seed...\n"
     ]
    }
   ],
   "source": [
    "neurons = 50\n",
    "nfeatures = 1\n",
    "\n",
    "bestValidMAPE = 100\n",
    "bestSeed = -1\n",
    "for seed in range(100):\n",
    "    tf.random.set_seed(seed=seed)\n",
    "    model = Sequential()\n",
    "    model.add(LSTM(neurons, activation='relu', return_sequences=True, input_shape=(nDaysMin, nfeatures)))\n",
    "    model.add(LSTM(neurons, activation='relu'))\n",
    "    model.add(Dense(1))\n",
    "    opt = Adam(learning_rate=0.1)\n",
    "    model.compile(optimizer=opt, loss='mse')\n",
    "\n",
    "    # fit model\n",
    "    history = model.fit(XTrain, yTrain[:,0], epochs=1000, verbose=0)\n",
    "\n",
    "    yPredListList = []\n",
    "    for day in range(nTest):\n",
    "        yPredListList.append([])\n",
    "    XValidNew = XValid.copy()\n",
    "    for day in range(k):\n",
    "        yPred = model.predict(np.float32(XValidNew), verbose=0)\n",
    "        for i in range(len(yPred)):\n",
    "            yPredListList[i].append(yPred[i][0])\n",
    "        XValidNew = np.delete(XValidNew, 0, axis=1)\n",
    "        yPred = np.expand_dims(yPred, 2)\n",
    "        XValidNew = np.append(XValidNew, yPred, axis=1)\n",
    "        \n",
    "        \n",
    "#     for yTrue, yPred in zip(yTest, yPredList):\n",
    "#         print(yTrue, yPred)\n",
    "\n",
    "    MAPE = meanAbsolutePercentageError_kDay(yValid, yPredListList)\n",
    "    print(seed, MAPE)\n",
    "    if MAPE < bestValidMAPE:\n",
    "        print('Updating best MAPE to {}...'.format(MAPE))\n",
    "        bestValidMAPE = MAPE\n",
    "        print('Updating best seed to {}...'.format(seed))\n",
    "        bestSeed = seed\n",
    "        \n",
    "# define model\n",
    "print('Training model with best seed...')\n",
    "tf.random.set_seed(seed=bestSeed)\n",
    "model = Sequential()\n",
    "model.add(LSTM(neurons, activation='relu', return_sequences=True, input_shape=(nDaysMin, nfeatures)))\n",
    "model.add(LSTM(neurons, activation='relu'))\n",
    "model.add(Dense(1))\n",
    "opt = Adam(learning_rate=0.1)\n",
    "model.compile(optimizer=opt, loss='mse')\n",
    "\n",
    "# fit model\n",
    "history = model.fit(XTrain, yTrain[:,0], validation_data = (XValid, yValid), epochs=1000, verbose=0)\n",
    "\n"
   ]
  },
  {
   "cell_type": "code",
   "execution_count": 23,
   "metadata": {},
   "outputs": [
    {
     "name": "stdout",
     "output_type": "stream",
     "text": [
      "Model: \"sequential_201\"\n",
      "_________________________________________________________________\n",
      "Layer (type)                 Output Shape              Param #   \n",
      "=================================================================\n",
      "lstm_301 (LSTM)              (None, 3, 50)             10400     \n",
      "_________________________________________________________________\n",
      "lstm_302 (LSTM)              (None, 50)                20200     \n",
      "_________________________________________________________________\n",
      "dense_201 (Dense)            (None, 1)                 51        \n",
      "=================================================================\n",
      "Total params: 30,651\n",
      "Trainable params: 30,651\n",
      "Non-trainable params: 0\n",
      "_________________________________________________________________\n"
     ]
    }
   ],
   "source": [
    "model.summary()"
   ]
  },
  {
   "cell_type": "code",
   "execution_count": 24,
   "metadata": {},
   "outputs": [
    {
     "data": {
      "image/png": "[encoded data removed]",
      "text/plain": [
       "<Figure size 576x360 with 1 Axes>"
      ]
     },
     "metadata": {
      "needs_background": "light"
     },
     "output_type": "display_data"
    }
   ],
   "source": [
    "#diagnostic plots\n",
    "plt.figure(figsize=(8,5))\n",
    "plt.plot(history.history['loss'])\n",
    "plt.plot(history.history['val_loss'])\n",
    "plt.title('Model loss')\n",
    "plt.ylabel('Loss')\n",
    "plt.xlabel('Epoch')\n",
    "plt.legend(['Train', 'Valid'], loc='upper left')\n",
    "plt.show()"
   ]
  },
  {
   "cell_type": "code",
   "execution_count": 25,
   "metadata": {},
   "outputs": [
    {
     "name": "stdout",
     "output_type": "stream",
     "text": [
      "Test MAPE: 0.9035797378799045\n",
      "Test MdSA: 0.889833226411918\n",
      "Test MSE: 66627325.00446428\n",
      "Test RMSE: 8162.556278793077\n"
     ]
    }
   ],
   "source": [
    "yPredListList = []\n",
    "for day in range(nTest):\n",
    "    yPredListList.append([])\n",
    "XTestNew = XTest.copy()\n",
    "for day in range(k):\n",
    "    yPred = model.predict(np.float32(XTestNew), verbose=0)\n",
    "    for i in range(len(yPred)):\n",
    "        yPredListList[i].append(yPred[i][0])\n",
    "    XTestNew = np.delete(XTestNew, 0, axis=1)\n",
    "    yPred = np.expand_dims(yPred, 2)\n",
    "    XTestNew = np.append(XTestNew, yPred, axis=1)\n",
    "    \n",
    "MAPE = meanAbsolutePercentageError_kDay(yTest, yPredListList)\n",
    "print('Test MAPE:', MAPE)\n",
    "MdSA = medianSymmetricAccuracy_kDay(yTest, yPredListList)\n",
    "print('Test MdSA:', MdSA)\n",
    "MSE = meanSquaredError(yTest, yPredListList)\n",
    "print('Test MSE:', MSE)\n",
    "RMSE = rootMeanSquaredError(yTest, yPredListList)\n",
    "print('Test RMSE:', RMSE)\n",
    "yPredStacked = yPredListList\n",
    "#Test MAPE: 0.9035797378799045\n",
    "#Test MdSA: 0.889833226411918\n",
    "#Test MSE: 66627325.00446428\n",
    "#Test RMSE: 8162.556278793077"
   ]
  },
  {
   "cell_type": "code",
   "execution_count": 26,
   "metadata": {},
   "outputs": [
    {
     "data": {
      "image/png": "[encoded data removed]",
      "text/plain": [
       "<Figure size 720x720 with 1 Axes>"
      ]
     },
     "metadata": {
      "needs_background": "light"
     },
     "output_type": "display_data"
    }
   ],
   "source": [
    "plt.figure(figsize=(10,10))\n",
    "datesForPlottingList = datesGreaterDaysSinceList[-k:]\n",
    "groundTruthList = nCasesGreaterDaysSinceList[-k:]\n",
    "\n",
    "\n",
    "plt.ylabel('Number of confirmed cases in Brazil', fontsize=20)\n",
    "plt.plot(datesForPlottingList, groundTruthList, '-o', linewidth=3, label='Actual numbers of confirmed cases');\n",
    "#plt.plot(datesForPlottingList, yPredVanilla[-1], '-o', linewidth=3, label='Vanilla LSTM predictions');\n",
    "plt.plot(datesForPlottingList, yPredStacked[-1], '-o', linewidth=3, label='Stacked LSTM predictions');\n",
    "#plt.plot(datesForPlottingList, yPredBidirectional[-1], '-o', linewidth=3, label='Bidirectional LSTM predictions');\n",
    "plt.xlabel('Date', fontsize=20);\n",
    "plt.legend(fontsize=14);\n",
    "plt.xticks(fontsize=16);\n",
    "plt.yticks(fontsize=16);\n",
    "ax = plt.gca()\n",
    "#ax.yaxis.set_major_formatter(FuncFormatter(y_fmt))\n",
    "#date_form = DateFormatter(\"%d-%m\")\n",
    "#ax.xaxis.set_major_formatter(date_form)\n",
    "# plt.grid(axis='y')\n",
    "#plt.savefig(os.path.join('Plots_3days_k7', 'predictions_{}.png'.format(countryName)), dpi=400)"
   ]
  },
  {
   "cell_type": "code",
   "execution_count": 27,
   "metadata": {},
   "outputs": [
    {
     "name": "stdout",
     "output_type": "stream",
     "text": [
      "Test RMSE: 38589.30900324564\n"
     ]
    }
   ],
   "source": [
    "\n",
    "RMSE = rootMeanSquaredError(groundTruthList, yPredStacked)\n",
    "print('Test RMSE:', RMSE)"
   ]
  },
  {
   "cell_type": "markdown",
   "metadata": {},
   "source": [
    "# Bi-directional LSTM"
   ]
  },
  {
   "cell_type": "code",
   "execution_count": 28,
   "metadata": {},
   "outputs": [
    {
     "name": "stdout",
     "output_type": "stream",
     "text": [
      "0 5.376859459219621\n",
      "Updating best MAPE to 5.376859459219621...\n",
      "Updating best seed to 0...\n",
      "1 4.555612819712936\n",
      "Updating best MAPE to 4.555612819712936...\n",
      "Updating best seed to 1...\n",
      "2 4.61383581334519\n",
      "3 1.5271758823443222\n",
      "Updating best MAPE to 1.5271758823443222...\n",
      "Updating best seed to 3...\n",
      "4 0.9683503571118347\n",
      "Updating best MAPE to 0.9683503571118347...\n",
      "Updating best seed to 4...\n",
      "5 5.908275308348554\n",
      "6 2.6699894983857297\n",
      "7 5.141098286821991\n",
      "8 3.8739553434683756\n",
      "9 4.6915161360969275\n",
      "10 99.94890800056409\n",
      "11 2.823240621788785\n",
      "12 5.800105292279462\n",
      "13 99.95356795053904\n",
      "14 2.052436875296092\n",
      "15 2.5825005188745562\n",
      "16 1.4129566395872726\n",
      "17 3.5071434779661117\n",
      "18 3.668918499150333\n",
      "19 0.1795177092378309\n",
      "Updating best MAPE to 0.1795177092378309...\n",
      "Updating best seed to 19...\n",
      "20 5.756009194234392\n",
      "21 1.498539306400438\n",
      "22 7.555935717843732\n",
      "23 4.441827190799189\n",
      "24 51.34408287986347\n",
      "25 0.4028765607784865\n",
      "26 3.3087409174183446\n",
      "27 7.837485075944703\n",
      "28 2.753938199498763\n",
      "29 25.120181075888617\n",
      "30 1.9614900842852598\n",
      "31 7.9905824996531765\n",
      "32 7.49628068127243\n",
      "33 5.1105358172379605\n",
      "34 5.711036986231756\n",
      "35 4.548750830049704\n",
      "36 0.2120442507269204\n",
      "37 1.5814076179238832\n",
      "38 1.0882713271072582\n",
      "39 5.123814369550106\n",
      "40 10.121656125180275\n",
      "41 3.3832513216587965\n",
      "42 4.054095385088552\n",
      "43 6.367119767150994\n",
      "44 2.142016976500565\n",
      "45 4.097086371414703\n",
      "46 5.84429741996974\n",
      "47 23.220623144208442\n",
      "48 7.527867801856266\n",
      "49 4.951441074341326\n",
      "50 5.943938830200243\n",
      "51 1.3951088070276405\n",
      "52 0.39300624842361753\n",
      "53 6.8060733580913615\n",
      "54 5.773458167000604\n",
      "55 6.465408078026141\n",
      "56 4.823864535427824\n",
      "57 7.239879443283324\n",
      "58 1.0836215753517286\n",
      "59 4.4952499944599715\n",
      "60 4.705163091649946\n",
      "61 0.998385982047762\n",
      "62 4.549680212524975\n",
      "63 0.25067536706107646\n",
      "64 1.618966455484726\n",
      "65 0.36806900151183924\n",
      "66 8.228657127698972\n",
      "67 1.7080963277283805\n",
      "68 9.287217207523081\n",
      "69 3.6643672664924685\n",
      "70 1.5195232008757122\n",
      "71 2.688376198635516\n",
      "72 0.26084373722857884\n",
      "73 6.185050262410106\n",
      "74 0.6584155632474846\n",
      "75 0.1859312709209189\n",
      "76 10.376147177733912\n",
      "77 1.4909801638122935\n",
      "78 3.5028555172074585\n",
      "79 99.94388074773657\n",
      "80 2.0087604604530265\n",
      "81 2.8167240131251057\n",
      "82 1.2917346663004756\n",
      "83 4.901968099809729\n",
      "84 2.1440690405908653\n",
      "85 5.305226902490685\n",
      "86 5.080738054731632\n",
      "87 0.16771952035499635\n",
      "Updating best MAPE to 0.16771952035499635...\n",
      "Updating best seed to 87...\n",
      "88 1.9609422637456893\n",
      "89 3.1559317814405254\n",
      "90 9.007312567830095\n",
      "91 1.9038257922304618\n",
      "92 1.7867464654759455\n",
      "93 6.172757406701034\n",
      "94 4.311867365202811\n",
      "95 5.366227824809592\n",
      "96 5.210039023861846\n",
      "97 7.7235527347716735\n",
      "98 1.521369598924963\n",
      "99 10.098006618480541\n",
      "Training model with best seed...\n"
     ]
    }
   ],
   "source": [
    "# define model\n",
    "neurons = 50\n",
    "nfeatures = 1\n",
    "\n",
    "bestValidMAPE = 100\n",
    "bestSeed = -1\n",
    "for seed in range(100):\n",
    "    tf.random.set_seed(seed=seed)\n",
    "    model = Sequential()\n",
    "    model.add(Bidirectional(LSTM(neurons, activation='relu'), input_shape=(nDaysMin, nfeatures)))\n",
    "    model.add(Dense(1))\n",
    "    opt = Adam(learning_rate=0.1)\n",
    "    model.compile(optimizer=opt, loss='mse')\n",
    "\n",
    "    # fit model\n",
    "    history = model.fit(XTrain, yTrain[:,0], epochs=1000, verbose=0)\n",
    "\n",
    "    yPredListList = []\n",
    "    for day in range(nTest):\n",
    "        yPredListList.append([])\n",
    "    XValidNew = XValid.copy()\n",
    "    for day in range(k):\n",
    "        yPred = model.predict(np.float32(XValidNew), verbose=0)\n",
    "        for i in range(len(yPred)):\n",
    "            yPredListList[i].append(yPred[i][0])\n",
    "        XValidNew = np.delete(XValidNew, 0, axis=1)\n",
    "        yPred = np.expand_dims(yPred, 2)\n",
    "        XValidNew = np.append(XValidNew, yPred, axis=1)\n",
    "\n",
    "#     for yTrue, yPred in zip(yTest, yPredList):\n",
    "#         print(yTrue, yPred)\n",
    "    MAPE = meanAbsolutePercentageError_kDay(yValid, yPredListList)\n",
    "    print(seed, MAPE)\n",
    "    if MAPE < bestValidMAPE:\n",
    "        print('Updating best MAPE to {}...'.format(MAPE))\n",
    "        bestValidMAPE = MAPE\n",
    "        print('Updating best seed to {}...'.format(seed))\n",
    "        bestSeed = seed\n",
    "# define model\n",
    "print('Training model with best seed...')\n",
    "tf.random.set_seed(seed=bestSeed)\n",
    "model = Sequential()\n",
    "model.add(Bidirectional(LSTM(neurons, activation='relu'), input_shape=(nDaysMin, nfeatures)))\n",
    "model.add(Dense(1))\n",
    "opt = Adam(learning_rate=0.1)\n",
    "model.compile(optimizer=opt, loss='mse')\n",
    "\n",
    "# fit model\n",
    "history = model.fit(XTrain, yTrain[:,0], validation_data = (XValid, yValid), epochs=1000, verbose=0)\n",
    "\n"
   ]
  },
  {
   "cell_type": "code",
   "execution_count": 29,
   "metadata": {},
   "outputs": [
    {
     "name": "stdout",
     "output_type": "stream",
     "text": [
      "Model: \"sequential_302\"\n",
      "_________________________________________________________________\n",
      "Layer (type)                 Output Shape              Param #   \n",
      "=================================================================\n",
      "bidirectional_100 (Bidirecti (None, 100)               20800     \n",
      "_________________________________________________________________\n",
      "dense_302 (Dense)            (None, 1)                 101       \n",
      "=================================================================\n",
      "Total params: 20,901\n",
      "Trainable params: 20,901\n",
      "Non-trainable params: 0\n",
      "_________________________________________________________________\n"
     ]
    }
   ],
   "source": [
    "model.summary()"
   ]
  },
  {
   "cell_type": "code",
   "execution_count": 30,
   "metadata": {},
   "outputs": [
    {
     "data": {
      "image/png": "[encoded data removed]",
      "text/plain": [
       "<Figure size 576x360 with 1 Axes>"
      ]
     },
     "metadata": {
      "needs_background": "light"
     },
     "output_type": "display_data"
    }
   ],
   "source": [
    "#diagnostic plots\n",
    "plt.figure(figsize=(8,5))\n",
    "plt.plot(history.history['loss'])\n",
    "plt.plot(history.history['val_loss'])\n",
    "plt.title('Model loss')\n",
    "plt.ylabel('Loss')\n",
    "plt.xlabel('Epoch')\n",
    "plt.legend(['Train', 'Valid'], loc='upper left')\n",
    "plt.show()"
   ]
  },
  {
   "cell_type": "code",
   "execution_count": 31,
   "metadata": {},
   "outputs": [
    {
     "name": "stdout",
     "output_type": "stream",
     "text": [
      "Test MAPE: 0.675683122171473\n",
      "Test MdSA: 0.6633392779298023\n",
      "Test MSE: 40367388.83392857\n",
      "Test RMSE: 6353.533570693443\n"
     ]
    }
   ],
   "source": [
    "yPredListList = []\n",
    "for day in range(nTest):\n",
    "    yPredListList.append([])\n",
    "XTestNew = XTest.copy()\n",
    "for day in range(k):\n",
    "    yPred = model.predict(np.float32(XTestNew), verbose=0)\n",
    "    for i in range(len(yPred)):\n",
    "        yPredListList[i].append(yPred[i][0])\n",
    "    XTestNew = np.delete(XTestNew, 0, axis=1)\n",
    "    yPred = np.expand_dims(yPred, 2)\n",
    "    XTestNew = np.append(XTestNew, yPred, axis=1)\n",
    "    \n",
    "MAPE = meanAbsolutePercentageError_kDay(yTest, yPredListList)\n",
    "print('Test MAPE:', MAPE)\n",
    "MdSA = medianSymmetricAccuracy_kDay(yTest, yPredListList)\n",
    "print('Test MdSA:', MdSA)\n",
    "MSE = meanSquaredError(yTest, yPredListList)\n",
    "print('Test MSE:', MSE)\n",
    "RMSE = rootMeanSquaredError(yTest, yPredListList)\n",
    "print('Test RMSE:', RMSE)\n",
    "yPredBidirectional = yPredListList\n",
    "#Test MAPE: 0.675683122171473\n",
    "#Test MdSA: 0.6633392779298023\n",
    "#Test MSE: 40367388.83392857\n",
    "#Test RMSE: 6353.533570693443"
   ]
  },
  {
   "cell_type": "code",
   "execution_count": 32,
   "metadata": {},
   "outputs": [
    {
     "name": "stdout",
     "output_type": "stream",
     "text": [
      "Test RMSE: 39879.528172271355\n"
     ]
    }
   ],
   "source": [
    "RMSE = rootMeanSquaredError(groundTruthList, yPredBidirectional)\n",
    "print('Test RMSE:', RMSE)"
   ]
  },
  {
   "cell_type": "code",
   "execution_count": 33,
   "metadata": {},
   "outputs": [],
   "source": [
    "import matplotlib.pyplot as plt\n",
    "from matplotlib.ticker import FuncFormatter\n",
    "from matplotlib.dates import DateFormatter\n",
    "#from statsmodels.tsa.statespace.sarimax import SARIMAX\n",
    "\n",
    "# Format y tick labels\n",
    "def y_fmt(y, pos):\n",
    "    decades = [1e9, 1e6, 1e3, 1e0, 1e-3, 1e-6, 1e-9 ]\n",
    "    suffix  = [\"G\", \"M\", \"k\", \"\" , \"m\" , \"u\", \"n\"  ]\n",
    "    if y == 0:\n",
    "        return str(0)\n",
    "    for i, d in enumerate(decades):\n",
    "        if np.abs(y) >=d:\n",
    "            val = y/float(d)\n",
    "            signf = len(str(val).split(\".\")[1])\n",
    "            if signf == 0:\n",
    "                return '{val:d} {suffix}'.format(val=int(val), suffix=suffix[i])\n",
    "            else:\n",
    "                if signf == 1:\n",
    "                    if str(val).split(\".\")[1] == \"0\":\n",
    "                        return '{val:d} {suffix}'.format(val=int(round(val)), suffix=suffix[i]) \n",
    "                tx = \"{\"+\"val:.{signf}f\".format(signf = signf) +\"} {suffix}\"\n",
    "                return tx.format(val=val, suffix=suffix[i])\n",
    "\n",
    "                #return y\n",
    "    return y"
   ]
  },
  {
   "cell_type": "code",
   "execution_count": 34,
   "metadata": {},
   "outputs": [
    {
     "data": {
      "image/png": "[encoded data removed]",
      "text/plain": [
       "<Figure size 720x720 with 1 Axes>"
      ]
     },
     "metadata": {
      "needs_background": "light"
     },
     "output_type": "display_data"
    }
   ],
   "source": [
    "plt.figure(figsize=(10,10))\n",
    "datesForPlottingList = datesGreaterDaysSinceList[-k:]\n",
    "groundTruthList = nCasesGreaterDaysSinceList[-k:]\n",
    "\n",
    "\n",
    "plt.ylabel('Number of confirmed cases in Russia', fontsize=20)\n",
    "plt.plot(datesForPlottingList, groundTruthList, '-o', linewidth=3, label='Actual numbers of confirmed cases');\n",
    "plt.plot(datesForPlottingList, yPredVanilla[-1], '-o', linewidth=3, label='Vanilla LSTM predictions');\n",
    "plt.plot(datesForPlottingList, yPredStacked[-1], '-o', linewidth=3, label='Stacked LSTM predictions');\n",
    "plt.plot(datesForPlottingList, yPredBidirectional[-1], '-o', linewidth=3, label='Bidirectional LSTM predictions');\n",
    "plt.xlabel('Date', fontsize=20);\n",
    "plt.legend(fontsize=14);\n",
    "plt.xticks(fontsize=16);\n",
    "plt.yticks(fontsize=16);\n",
    "ax = plt.gca()\n",
    "ax.yaxis.set_major_formatter(FuncFormatter(y_fmt))\n",
    "#date_form = DateFormatter(\"%d-%m\")\n",
    "#ax.xaxis.set_major_formatter(date_form)\n",
    "# plt.grid(axis='y')\n",
    "plt.savefig(os.path.join('Plots_3days_k7_new', 'predictions_{}.png'.format(countryName)), dpi=400)\n",
    "plt.savefig(os.path.join('Plots_3days_k7_new', 'predictions_{}.pdf'.format(countryName)), dpi=400)"
   ]
  },
  {
   "cell_type": "code",
   "execution_count": 35,
   "metadata": {},
   "outputs": [
    {
     "name": "stdout",
     "output_type": "stream",
     "text": [
      "Test RMSE: 20355.895056872498\n",
      "Test RMSE: 6571.488873710364\n",
      "Test RMSE: 4657.182319173027\n"
     ]
    }
   ],
   "source": [
    "RMSE = rootMeanSquaredError(groundTruthList, yPredVanilla[-1])\n",
    "print('Test RMSE:', RMSE)\n",
    "RMSE = rootMeanSquaredError(groundTruthList, yPredStacked[-1])\n",
    "print('Test RMSE:', RMSE)\n",
    "RMSE = rootMeanSquaredError(groundTruthList, yPredBidirectional[-1])\n",
    "print('Test RMSE:', RMSE)\n",
    "#Test RMSE: 20355.895056872498\n",
    "#Test RMSE: 6571.488873710364\n",
    "#Test RMSE: 4657.182319173027"
   ]
  },
  {
   "cell_type": "code",
   "execution_count": 36,
   "metadata": {},
   "outputs": [
    {
     "data": {
      "text/plain": [
       "[787890, 793720, 799499, 805332, 811073, 816680, 822060]"
      ]
     },
     "execution_count": 36,
     "metadata": {},
     "output_type": "execute_result"
    }
   ],
   "source": [
    "groundTruthList\n",
    "#[787890, 793720, 799499, 805332, 811073, 816680, 822060]"
   ]
  },
  {
   "cell_type": "code",
   "execution_count": 37,
   "metadata": {},
   "outputs": [
    {
     "data": {
      "text/plain": [
       "[792336.0, 801026.1, 809968.25, 823253.25, 833386.8, 843821.2, 856149.06]"
      ]
     },
     "execution_count": 37,
     "metadata": {},
     "output_type": "execute_result"
    }
   ],
   "source": [
    "yPredVanilla[-1]\n",
    "#[792336.0, 801026.1, 809968.25, 823253.25, 833386.8, 843821.2, 856149.06]"
   ]
  },
  {
   "cell_type": "code",
   "execution_count": 38,
   "metadata": {},
   "outputs": [
    {
     "data": {
      "text/plain": [
       "[787262.8, 793541.1, 799618.7, 811000.0, 817466.1, 823725.44, 835447.1]"
      ]
     },
     "execution_count": 38,
     "metadata": {},
     "output_type": "execute_result"
    }
   ],
   "source": [
    " yPredStacked[-1]\n",
    "    #[787262.8, 793541.1, 799618.7, 811000.0, 817466.1, 823725.44, 835447.1]"
   ]
  },
  {
   "cell_type": "code",
   "execution_count": 39,
   "metadata": {},
   "outputs": [
    {
     "data": {
      "text/plain": [
       "[783873.25, 791511.2, 799220.0, 807002.3, 814858.44, 822788.94, 830794.75]"
      ]
     },
     "execution_count": 39,
     "metadata": {},
     "output_type": "execute_result"
    }
   ],
   "source": [
    "yPredBidirectional[-1]\n",
    "[783873.25, 791511.2, 799220.0, 807002.3, 814858.44, 822788.94, 830794.75]"
   ]
  },
  {
   "cell_type": "code",
   "execution_count": null,
   "metadata": {},
   "outputs": [],
   "source": []
  }
 ],
 "metadata": {
  "kernelspec": {
   "display_name": "Python 3",
   "language": "python",
   "name": "python3"
  },
  "language_info": {
   "codemirror_mode": {
    "name": "ipython",
    "version": 3
   },
   "file_extension": ".py",
   "mimetype": "text/x-python",
   "name": "python",
   "nbconvert_exporter": "python",
   "pygments_lexer": "ipython3",
   "version": "3.7.6"
  }
 },
 "nbformat": 4,
 "nbformat_minor": 4
}
